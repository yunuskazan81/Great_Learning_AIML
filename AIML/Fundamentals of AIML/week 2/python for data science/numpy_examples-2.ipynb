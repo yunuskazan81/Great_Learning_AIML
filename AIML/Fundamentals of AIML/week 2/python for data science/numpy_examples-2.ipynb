{
 "cells": [
  {
   "cell_type": "markdown",
   "metadata": {},
   "source": [
    "# NumPy\n",
    "\n",
    "numpy is python's package for doing math that is more advanced than +-*/\n",
    "\n",
    "This includes special functions like cosine, exponential, sqrt, ...\n",
    "\n",
    "On top of this we can use numpy to generate samples from many types of random variables\n",
    "\n",
    "numpy also has a powerful data type to define vectors, matrices, and tensors\n",
    "\n",
    "With these data types numpy also allows us to do linear algebra - matrix multiplication and matrix-vector solutions"
   ]
  },
  {
   "cell_type": "code",
   "execution_count": 1,
   "metadata": {},
   "outputs": [],
   "source": [
    "# the first step of using numpy is to tell python to use it\n",
    "import numpy as np"
   ]
  },
  {
   "cell_type": "code",
   "execution_count": 2,
   "metadata": {},
   "outputs": [
    {
     "name": "stdout",
     "output_type": "stream",
     "text": [
      "-1.0\n",
      "1.1\n",
      "5.2\n"
     ]
    }
   ],
   "source": [
    "print(np.cos(np.pi))\n",
    "print(np.sqrt(1.21))\n",
    "print(np.log(np.exp(5.2)))"
   ]
  },
  {
   "cell_type": "code",
   "execution_count": 3,
   "metadata": {},
   "outputs": [
    {
     "name": "stdout",
     "output_type": "stream",
     "text": [
      "[1 2 3]\n",
      "\n",
      "[[1 2 1]\n",
      " [4 5 9]\n",
      " [1 8 9]]\n",
      "\n",
      "[[1 4 1]\n",
      " [2 5 8]\n",
      " [1 9 9]]\n"
     ]
    }
   ],
   "source": [
    "# we can create numpy arrays by converting lists\n",
    "# this is a vector\n",
    "vec = np.array([1,2,3])\n",
    "print(vec)\n",
    "# we can create matrices by converting lists of lists\n",
    "mat = np.array([[1,2,1],[4,5,9],[1,8,9]])\n",
    "print('')\n",
    "print(mat)\n",
    "print('')\n",
    "print(mat.T)"
   ]
  },
  {
   "cell_type": "code",
   "execution_count": 4,
   "metadata": {},
   "outputs": [
    {
     "name": "stdout",
     "output_type": "stream",
     "text": [
      "[ 0  1  2  3  4  5  6  7  8  9 10 11 12 13 14]\n",
      "\n",
      "[ 3  9 15]\n"
     ]
    }
   ],
   "source": [
    "# there are lots of other ways to create numpy arrays\n",
    "vec2 = np.arange(0,15)\n",
    "print(vec2)\n",
    "print('')\n",
    "vec3 = np.arange(3,21,6)\n",
    "print(vec3)\n"
   ]
  },
  {
   "cell_type": "code",
   "execution_count": 34,
   "metadata": {},
   "outputs": [
    {
     "name": "stdout",
     "output_type": "stream",
     "text": [
      "[0.         0.55555556 1.11111111 1.66666667 2.22222222 2.77777778\n",
      " 3.33333333 3.88888889 4.44444444 5.        ]\n"
     ]
    }
   ],
   "source": [
    "\n",
    "vec4 = np.linspace(0,5,10)\n",
    "print(vec4)\n",
    "# print('')\n",
    "# print(vec4.reshape(5,2))\n",
    "# vec4_reshaped = vec4.reshape(5,2)\n",
    "# print(vec4_reshaped)\n",
    "# print(vec4)"
   ]
  },
  {
   "cell_type": "code",
   "execution_count": 36,
   "metadata": {},
   "outputs": [
    {
     "name": "stdout",
     "output_type": "stream",
     "text": [
      "[[ 0  1  2]\n",
      " [ 3  4  5]\n",
      " [ 6  7  8]\n",
      " [ 9 10 11]]\n"
     ]
    }
   ],
   "source": [
    "vec1 = np.arange(0, 12)\n",
    "vec2 = vec1.reshape(4, 3)\n",
    "print(vec2)"
   ]
  },
  {
   "cell_type": "code",
   "execution_count": 6,
   "metadata": {},
   "outputs": [
    {
     "name": "stdout",
     "output_type": "stream",
     "text": [
      "[[0. 0. 0.]\n",
      " [0. 0. 0.]\n",
      " [0. 0. 0.]\n",
      " [0. 0. 0.]\n",
      " [0. 0. 0.]]\n",
      "\n",
      "[[1. 1. 1. 1. 1.]\n",
      " [1. 1. 1. 1. 1.]\n",
      " [1. 1. 1. 1. 1.]]\n",
      "\n",
      "[[1. 0. 0. 0. 0.]\n",
      " [0. 1. 0. 0. 0.]\n",
      " [0. 0. 1. 0. 0.]\n",
      " [0. 0. 0. 1. 0.]\n",
      " [0. 0. 0. 0. 1.]]\n"
     ]
    }
   ],
   "source": [
    "mat2 = np.zeros([5,3])\n",
    "print(mat2)\n",
    "mat3 = np.ones((3,5))\n",
    "print('')\n",
    "print(mat3)\n",
    "mat4 = np.eye(5)\n",
    "print('')\n",
    "print(mat4)"
   ]
  },
  {
   "cell_type": "code",
   "execution_count": 7,
   "metadata": {},
   "outputs": [
    {
     "name": "stdout",
     "output_type": "stream",
     "text": [
      "[1 2 3 4 5]\n",
      "[3 4 5 6 7]\n",
      "[ 4  6  8 10 12]\n",
      "[ 3  8 15 24 35]\n",
      "[1.         0.5        0.33333333 0.25       0.2       ]\n",
      "[1.73205081 2.         2.23606798 2.44948974 2.64575131]\n"
     ]
    }
   ],
   "source": [
    "# we can +-*/ arrays together if they're the right size\n",
    "vec5 = np.arange(1,6)\n",
    "vec6 = np.arange(3,8)\n",
    "print(vec5)\n",
    "print(vec6)\n",
    "print(vec5+vec6)\n",
    "print(vec5*vec6)\n",
    "print(1/vec5)\n",
    "print(np.sqrt(vec6))"
   ]
  },
  {
   "cell_type": "code",
   "execution_count": 8,
   "metadata": {},
   "outputs": [
    {
     "name": "stdout",
     "output_type": "stream",
     "text": [
      "[[1 2 1]\n",
      " [4 5 9]\n",
      " [1 8 9]]\n",
      "\n",
      "[1 2 3]\n",
      "\n",
      "[ 8 41 44]\n"
     ]
    }
   ],
   "source": [
    "# we can do matrix multiplication\n",
    "print(mat)\n",
    "print('')\n",
    "print(vec)\n",
    "print()\n",
    "product = np.matmul(mat,vec)\n",
    "print(product)"
   ]
  },
  {
   "cell_type": "code",
   "execution_count": 9,
   "metadata": {},
   "outputs": [
    {
     "name": "stdout",
     "output_type": "stream",
     "text": [
      "[1. 2. 3.]\n",
      "\n",
      "[[ 0.5         0.18518519 -0.24074074]\n",
      " [ 0.5        -0.14814815  0.09259259]\n",
      " [-0.5         0.11111111  0.05555556]]\n"
     ]
    }
   ],
   "source": [
    "print(np.linalg.solve(mat,product))\n",
    "print('')\n",
    "print(np.linalg.inv(mat))"
   ]
  },
  {
   "cell_type": "code",
   "execution_count": 10,
   "metadata": {},
   "outputs": [
    {
     "name": "stdout",
     "output_type": "stream",
     "text": [
      "['blue' 'red' 'orange' 'purple' 'purple' 'orange' 'Red' '6']\n",
      "['6' 'Red' 'blue' 'orange' 'purple' 'red']\n"
     ]
    }
   ],
   "source": [
    "# we can find the unique values in an array\n",
    "vec7 = np.array(['blue','red','orange','purple','purple','orange','Red',6])\n",
    "print(vec7)\n",
    "print(np.unique(vec7))"
   ]
  },
  {
   "cell_type": "code",
   "execution_count": 11,
   "metadata": {},
   "outputs": [
    {
     "name": "stdout",
     "output_type": "stream",
     "text": [
      "[[0.93576795 0.89538632 0.14829776 0.62584595 0.26220564]\n",
      " [0.61318295 0.90514092 0.22339055 0.61843894 0.53668528]\n",
      " [0.60727082 0.45613375 0.05633727 0.50784367 0.20313279]\n",
      " [0.36629599 0.18441653 0.86459691 0.65401796 0.2978974 ]\n",
      " [0.68068218 0.49420557 0.31854839 0.9338812  0.67148952]]\n",
      "\n",
      "[[-0.39795712  0.09334181  0.75089613  1.45520742  0.70320979]\n",
      " [ 1.0804369  -0.2376756   0.05487796 -0.2549256   1.2861703 ]\n",
      " [ 1.21859548 -1.49141885  0.36741925  0.06878321  0.12998861]\n",
      " [ 2.09419318 -0.71847883 -0.28605748  1.34809925  0.60137215]\n",
      " [ 1.08843037 -1.47066491  0.64807845 -0.79808518  0.11594896]\n",
      " [ 0.15850742  2.65820136  1.70779834 -1.7714296   1.69067977]\n",
      " [ 0.2237688   0.81616147  1.41782953  0.69831268 -0.14597582]\n",
      " [-1.04751268 -0.86217443 -0.5215332   1.06195007  1.41024605]\n",
      " [-1.40390692 -0.43798297 -0.50999804 -0.93786575  1.91184668]\n",
      " [ 1.07439831  0.41708901  0.28326535  0.0166288  -0.03752496]]\n"
     ]
    }
   ],
   "source": [
    "# we can also use numpy to generate samples of a random variable\n",
    "rand_mat = np.random.rand(5,5) # uniform random variable\n",
    "print(rand_mat)\n",
    "rand_mat2 = np.random.randn(10,5) # standard normal random variable\n",
    "print('')\n",
    "print(rand_mat2)"
   ]
  },
  {
   "cell_type": "code",
   "execution_count": 12,
   "metadata": {},
   "outputs": [
    {
     "name": "stdout",
     "output_type": "stream",
     "text": [
      "0.5224436890880162\n",
      "0.99877703307497\n"
     ]
    }
   ],
   "source": [
    "# we can also use numpy for statistical tools on arrays\n",
    "print(np.mean(rand_mat))\n",
    "print(np.std(rand_mat2))"
   ]
  },
  {
   "cell_type": "code",
   "execution_count": 13,
   "metadata": {},
   "outputs": [
    {
     "name": "stdout",
     "output_type": "stream",
     "text": [
      "0.056337269654188615\n",
      "2.658201356950472\n"
     ]
    }
   ],
   "source": [
    "print(np.min(rand_mat))\n",
    "print(np.max(rand_mat2))"
   ]
  },
  {
   "cell_type": "code",
   "execution_count": 14,
   "metadata": {},
   "outputs": [],
   "source": [
    "# break here for next video!"
   ]
  },
  {
   "cell_type": "code",
   "execution_count": 37,
   "metadata": {},
   "outputs": [
    {
     "name": "stdout",
     "output_type": "stream",
     "text": [
      "[ 1.8419109   0.86487614  0.94360893  0.38131846 -2.10421021  0.0574255\n",
      " -1.21211571 -1.38837867  1.27941449  0.6653114  -1.09533597  1.1736936\n",
      " -0.68732004 -2.95722679 -1.66348946  0.91463339 -0.20520704 -0.36951323\n",
      " -0.59602442]\n",
      "-1.2121157055930332\n"
     ]
    }
   ],
   "source": [
    "# how do we access entries in a numpy vector\n",
    "rand_vec = np.random.randn(19)\n",
    "print(rand_vec)\n",
    "print(rand_vec[6])"
   ]
  },
  {
   "cell_type": "code",
   "execution_count": 16,
   "metadata": {},
   "outputs": [
    {
     "name": "stdout",
     "output_type": "stream",
     "text": [
      "[ 1.78649383 -0.42027825 -0.96929558 -0.80635581  0.98935682]\n"
     ]
    }
   ],
   "source": [
    "# we can access multiple entries at once using :\n",
    "print(rand_vec[4:9])"
   ]
  },
  {
   "cell_type": "code",
   "execution_count": 17,
   "metadata": {},
   "outputs": [
    {
     "name": "stdout",
     "output_type": "stream",
     "text": [
      "[ 0  3  6  9 12]\n",
      "[-2.3307588   0.16255178 -0.96929558 -0.03267955  1.95833135]\n"
     ]
    }
   ],
   "source": [
    "# we can also access multiple non-consecutive entries using np.arange\n",
    "print(np.arange(0,15,3))\n",
    "print(rand_vec[np.arange(0,15,3)])"
   ]
  },
  {
   "cell_type": "code",
   "execution_count": 18,
   "metadata": {},
   "outputs": [
    {
     "name": "stdout",
     "output_type": "stream",
     "text": [
      "[[0.93576795 0.89538632 0.14829776 0.62584595 0.26220564]\n",
      " [0.61318295 0.90514092 0.22339055 0.61843894 0.53668528]\n",
      " [0.60727082 0.45613375 0.05633727 0.50784367 0.20313279]\n",
      " [0.36629599 0.18441653 0.86459691 0.65401796 0.2978974 ]\n",
      " [0.68068218 0.49420557 0.31854839 0.9338812  0.67148952]]\n",
      "0.22339055471051883\n",
      "0.22339055471051883\n"
     ]
    }
   ],
   "source": [
    "# what about matrices\n",
    "print(rand_mat)\n",
    "print(rand_mat[1][2])\n",
    "print(rand_mat[1,2])\n"
   ]
  },
  {
   "cell_type": "code",
   "execution_count": 19,
   "metadata": {},
   "outputs": [
    {
     "name": "stdout",
     "output_type": "stream",
     "text": [
      "[[0.89538632 0.14829776]\n",
      " [0.90514092 0.22339055]]\n"
     ]
    }
   ],
   "source": [
    "print(rand_mat[0:2,1:3])"
   ]
  },
  {
   "cell_type": "code",
   "execution_count": 20,
   "metadata": {},
   "outputs": [
    {
     "name": "stdout",
     "output_type": "stream",
     "text": [
      "[-2.3307588  -1.17117874  2.09935173  0.16255178  1.78649383 -0.42027825\n",
      " -0.96929558 -0.80635581  0.98935682 -0.03267955  1.12590145 -0.08456372\n",
      "  1.95833135 -0.17914434  0.90596411 -0.834813    0.47749862 -0.83189416\n",
      "  0.23960308]\n",
      "\n",
      "[-2.3307588  -1.17117874  2.09935173  4.          4.         -0.42027825\n",
      " -0.96929558 -0.80635581  0.98935682 -0.03267955  1.12590145 -0.08456372\n",
      "  1.95833135 -0.17914434  0.90596411 -0.834813    0.47749862 -0.83189416\n",
      "  0.23960308]\n",
      "\n",
      "[-2.3307588  -1.17117874  2.09935173  1.          2.         -0.42027825\n",
      " -0.96929558 -0.80635581  0.98935682 -0.03267955  1.12590145 -0.08456372\n",
      "  1.95833135 -0.17914434  0.90596411 -0.834813    0.47749862 -0.83189416\n",
      "  0.23960308]\n"
     ]
    }
   ],
   "source": [
    "# let's change some values in an array!\n",
    "print(rand_vec)\n",
    "rand_vec[3:5] = 4\n",
    "print('')\n",
    "print(rand_vec)\n",
    "rand_vec[3:5] = [1,2]\n",
    "print('')\n",
    "print(rand_vec)"
   ]
  },
  {
   "cell_type": "code",
   "execution_count": 21,
   "metadata": {},
   "outputs": [
    {
     "name": "stdout",
     "output_type": "stream",
     "text": [
      "[[0.93576795 0.89538632 0.14829776 0.62584595 0.26220564]\n",
      " [0.61318295 0.90514092 0.22339055 0.61843894 0.53668528]\n",
      " [0.60727082 0.45613375 0.05633727 0.50784367 0.20313279]\n",
      " [0.36629599 0.18441653 0.86459691 0.65401796 0.2978974 ]\n",
      " [0.68068218 0.49420557 0.31854839 0.9338812  0.67148952]]\n",
      "\n",
      "[[0.93576795 0.89538632 0.14829776 0.62584595 0.26220564]\n",
      " [0.61318295 0.90514092 0.22339055 0.         0.        ]\n",
      " [0.60727082 0.45613375 0.05633727 0.         0.        ]\n",
      " [0.36629599 0.18441653 0.86459691 0.65401796 0.2978974 ]\n",
      " [0.68068218 0.49420557 0.31854839 0.9338812  0.67148952]]\n"
     ]
    }
   ],
   "source": [
    "print(rand_mat)\n",
    "rand_mat[1:3,3:5] = 0\n",
    "print('')\n",
    "print(rand_mat)"
   ]
  },
  {
   "cell_type": "code",
   "execution_count": 22,
   "metadata": {},
   "outputs": [
    {
     "name": "stdout",
     "output_type": "stream",
     "text": [
      "[[0.93576795 0.89538632 0.14829776]\n",
      " [0.61318295 0.90514092 0.22339055]]\n",
      "[[3. 3. 3.]\n",
      " [3. 3. 3.]]\n"
     ]
    }
   ],
   "source": [
    "sub_mat = rand_mat[0:2,0:3]\n",
    "print(sub_mat)\n",
    "sub_mat[:] = 3\n",
    "print(sub_mat)\n"
   ]
  },
  {
   "cell_type": "code",
   "execution_count": 23,
   "metadata": {},
   "outputs": [
    {
     "name": "stdout",
     "output_type": "stream",
     "text": [
      "[[3.         3.         3.         0.62584595 0.26220564]\n",
      " [3.         3.         3.         0.         0.        ]\n",
      " [0.60727082 0.45613375 0.05633727 0.         0.        ]\n",
      " [0.36629599 0.18441653 0.86459691 0.65401796 0.2978974 ]\n",
      " [0.68068218 0.49420557 0.31854839 0.9338812  0.67148952]]\n"
     ]
    }
   ],
   "source": [
    "print(rand_mat)"
   ]
  },
  {
   "cell_type": "code",
   "execution_count": 24,
   "metadata": {},
   "outputs": [
    {
     "name": "stdout",
     "output_type": "stream",
     "text": [
      "[[99. 99. 99.]\n",
      " [99. 99. 99.]]\n",
      "[[3.         3.         3.         0.62584595 0.26220564]\n",
      " [3.         3.         3.         0.         0.        ]\n",
      " [0.60727082 0.45613375 0.05633727 0.         0.        ]\n",
      " [0.36629599 0.18441653 0.86459691 0.65401796 0.2978974 ]\n",
      " [0.68068218 0.49420557 0.31854839 0.9338812  0.67148952]]\n"
     ]
    }
   ],
   "source": [
    "sub_mat2 = rand_mat[0:2,0:3].copy()\n",
    "sub_mat2[:] = 99\n",
    "print(sub_mat2)\n",
    "print(rand_mat)\n"
   ]
  },
  {
   "cell_type": "code",
   "execution_count": 25,
   "metadata": {},
   "outputs": [],
   "source": [
    "# break here for next video"
   ]
  },
  {
   "cell_type": "code",
   "execution_count": 40,
   "metadata": {},
   "outputs": [
    {
     "name": "stdout",
     "output_type": "stream",
     "text": [
      "[ 1.09392795  0.554759   -1.54169998 -1.52210409  1.23342184  0.34404877\n",
      " -0.64052227  1.00358635  0.6015604  -0.52714405  0.11745528  1.24709895\n",
      "  0.38790612  1.694568   -1.148535  ]\n",
      "[ True  True False False  True  True False  True  True False  True  True\n",
      "  True  True False]\n",
      "\n",
      " [False False False False False False False False False False False False\n",
      " False False False]\n",
      "\n",
      " []\n",
      "\n",
      " [1.09392795 0.554759   1.23342184 0.34404877 1.00358635 0.6015604\n",
      " 0.11745528 1.24709895 0.38790612 1.694568  ]\n"
     ]
    }
   ],
   "source": [
    "# we can also access entries with logicals\n",
    "rand_vec = np.random.randn(15)\n",
    "\n",
    "print(rand_vec)\n",
    "print(rand_vec>0)\n",
    "print(\"\\n\", rand_vec==1)\n",
    "print(\"\\n\",rand_vec[rand_vec==0])\n",
    "print(\"\\n\",rand_vec[rand_vec>0])"
   ]
  },
  {
   "cell_type": "code",
   "execution_count": 42,
   "metadata": {},
   "outputs": [
    {
     "name": "stdout",
     "output_type": "stream",
     "text": [
      "[[-0.39795712  0.09334181  0.75089613  1.45520742  0.70320979]\n",
      " [ 1.0804369  -0.2376756   0.05487796 -0.2549256   1.2861703 ]\n",
      " [ 1.21859548 -1.49141885  0.36741925  0.06878321  0.12998861]\n",
      " [ 2.09419318 -0.71847883 -0.28605748  1.34809925  0.60137215]\n",
      " [ 1.08843037 -1.47066491  0.64807845 -0.79808518  0.11594896]\n",
      " [ 0.15850742  2.65820136  1.70779834 -1.7714296   1.69067977]\n",
      " [ 0.2237688   0.81616147  1.41782953  0.69831268 -0.14597582]\n",
      " [-1.04751268 -0.86217443 -0.5215332   1.06195007  1.41024605]\n",
      " [-1.40390692 -0.43798297 -0.50999804 -0.93786575  1.91184668]\n",
      " [ 1.07439831  0.41708901  0.28326535  0.0166288  -0.03752496]]\n",
      "\n",
      " [[False  True  True  True  True]\n",
      " [ True False  True False  True]\n",
      " [ True False  True  True  True]\n",
      " [ True False False  True  True]\n",
      " [ True False  True False  True]\n",
      " [ True  True  True False  True]\n",
      " [ True  True  True  True False]\n",
      " [False False False  True  True]\n",
      " [False False False False  True]\n",
      " [ True  True  True  True False]]\n",
      "\n",
      " [0.09334181 0.75089613 1.45520742 0.70320979 1.0804369  0.05487796\n",
      " 1.2861703  1.21859548 0.36741925 0.06878321 0.12998861 2.09419318\n",
      " 1.34809925 0.60137215 1.08843037 0.64807845 0.11594896 0.15850742\n",
      " 2.65820136 1.70779834 1.69067977 0.2237688  0.81616147 1.41782953\n",
      " 0.69831268 1.06195007 1.41024605 1.91184668 1.07439831 0.41708901\n",
      " 0.28326535 0.0166288 ]\n"
     ]
    }
   ],
   "source": [
    "print(rand_mat2)\n",
    "print(\"\\n\", rand_mat2>0)\n",
    "print(\"\\n\",rand_mat2[rand_mat2>0])"
   ]
  },
  {
   "cell_type": "code",
   "execution_count": 28,
   "metadata": {},
   "outputs": [
    {
     "name": "stdout",
     "output_type": "stream",
     "text": [
      "[-0.64269473  0.15403586  1.17484089  0.80867736  0.05067171  0.65315767\n",
      "  1.11868591 -0.14497237 -1.01630732  1.23153905  0.81520483  0.64465437\n",
      " -0.73175526 -0.80639329 -1.26150919]\n",
      "\n",
      "[-0.64269473  0.15403586 -5.         -5.          0.05067171 -5.\n",
      " -5.         -0.14497237 -1.01630732 -5.         -5.         -5.\n",
      " -0.73175526 -0.80639329 -1.26150919]\n"
     ]
    }
   ],
   "source": [
    "\n",
    "print(rand_vec)\n",
    "print('')\n",
    "rand_vec[rand_vec>0.5] = -5\n",
    "print(rand_vec)"
   ]
  },
  {
   "cell_type": "code",
   "execution_count": 29,
   "metadata": {},
   "outputs": [],
   "source": [
    "# let's save some arrays on the disk for use later!\n",
    "np.save('saved_file_name',rand_mat2)\n"
   ]
  },
  {
   "cell_type": "code",
   "execution_count": 30,
   "metadata": {},
   "outputs": [],
   "source": [
    "np.savez('zipped_file_name',rand_mat=rand_mat,rand_mat2=rand_mat2)"
   ]
  },
  {
   "cell_type": "code",
   "execution_count": 31,
   "metadata": {},
   "outputs": [
    {
     "name": "stdout",
     "output_type": "stream",
     "text": [
      "[[-0.39795712  0.09334181  0.75089613  1.45520742  0.70320979]\n",
      " [ 1.0804369  -0.2376756   0.05487796 -0.2549256   1.2861703 ]\n",
      " [ 1.21859548 -1.49141885  0.36741925  0.06878321  0.12998861]\n",
      " [ 2.09419318 -0.71847883 -0.28605748  1.34809925  0.60137215]\n",
      " [ 1.08843037 -1.47066491  0.64807845 -0.79808518  0.11594896]\n",
      " [ 0.15850742  2.65820136  1.70779834 -1.7714296   1.69067977]\n",
      " [ 0.2237688   0.81616147  1.41782953  0.69831268 -0.14597582]\n",
      " [-1.04751268 -0.86217443 -0.5215332   1.06195007  1.41024605]\n",
      " [-1.40390692 -0.43798297 -0.50999804 -0.93786575  1.91184668]\n",
      " [ 1.07439831  0.41708901  0.28326535  0.0166288  -0.03752496]]\n",
      "\n",
      "<numpy.lib.npyio.NpzFile object at 0x000001C2B6D62608>\n"
     ]
    }
   ],
   "source": [
    "# now let's load it\n",
    "loaded_vec = np.load('saved_file_name.npy')\n",
    "loaded_zip = np.load('zipped_file_name.npz')\n",
    "\n",
    "print(loaded_vec)\n",
    "print('')\n",
    "print(loaded_zip)"
   ]
  },
  {
   "cell_type": "code",
   "execution_count": 32,
   "metadata": {},
   "outputs": [
    {
     "name": "stdout",
     "output_type": "stream",
     "text": [
      "[[3.         3.         3.         0.62584595 0.26220564]\n",
      " [3.         3.         3.         0.         0.        ]\n",
      " [0.60727082 0.45613375 0.05633727 0.         0.        ]\n",
      " [0.36629599 0.18441653 0.86459691 0.65401796 0.2978974 ]\n",
      " [0.68068218 0.49420557 0.31854839 0.9338812  0.67148952]]\n",
      "\n",
      "[[-0.39795712  0.09334181  0.75089613  1.45520742  0.70320979]\n",
      " [ 1.0804369  -0.2376756   0.05487796 -0.2549256   1.2861703 ]\n",
      " [ 1.21859548 -1.49141885  0.36741925  0.06878321  0.12998861]\n",
      " [ 2.09419318 -0.71847883 -0.28605748  1.34809925  0.60137215]\n",
      " [ 1.08843037 -1.47066491  0.64807845 -0.79808518  0.11594896]\n",
      " [ 0.15850742  2.65820136  1.70779834 -1.7714296   1.69067977]\n",
      " [ 0.2237688   0.81616147  1.41782953  0.69831268 -0.14597582]\n",
      " [-1.04751268 -0.86217443 -0.5215332   1.06195007  1.41024605]\n",
      " [-1.40390692 -0.43798297 -0.50999804 -0.93786575  1.91184668]\n",
      " [ 1.07439831  0.41708901  0.28326535  0.0166288  -0.03752496]]\n",
      "[[3.         3.         3.         0.62584595 0.26220564]\n",
      " [3.         3.         3.         0.         0.        ]\n",
      " [0.60727082 0.45613375 0.05633727 0.         0.        ]\n",
      " [0.36629599 0.18441653 0.86459691 0.65401796 0.2978974 ]\n",
      " [0.68068218 0.49420557 0.31854839 0.9338812  0.67148952]]\n"
     ]
    }
   ],
   "source": [
    "print(loaded_zip['rand_mat'])\n",
    "print('')\n",
    "print(loaded_zip['rand_mat2'])\n",
    "\n",
    "new_array  = loaded_zip['rand_mat']\n",
    "print(new_array)"
   ]
  },
  {
   "cell_type": "code",
   "execution_count": 33,
   "metadata": {},
   "outputs": [
    {
     "name": "stdout",
     "output_type": "stream",
     "text": [
      "[[3.         3.         3.         0.62584595 0.26220564]\n",
      " [3.         3.         3.         0.         0.        ]\n",
      " [0.60727082 0.45613375 0.05633727 0.         0.        ]\n",
      " [0.36629599 0.18441653 0.86459691 0.65401796 0.2978974 ]\n",
      " [0.68068218 0.49420557 0.31854839 0.9338812  0.67148952]]\n",
      "\n",
      "[[3.         3.         3.         0.62584595 0.26220564]\n",
      " [3.         3.         3.         0.         0.        ]\n",
      " [0.60727082 0.45613375 0.05633727 0.         0.        ]\n",
      " [0.36629599 0.18441653 0.86459691 0.65401796 0.2978974 ]\n",
      " [0.68068218 0.49420557 0.31854839 0.9338812  0.67148952]]\n"
     ]
    }
   ],
   "source": [
    "# we can also save/load as text files...but only single variables\n",
    "np.savetxt('text_file_name.txt',rand_mat,delimiter=',')\n",
    "rand_mat_txt = np.loadtxt('text_file_name.txt',delimiter=',')\n",
    "print(rand_mat)\n",
    "print('')\n",
    "print(rand_mat_txt)"
   ]
  },
  {
   "cell_type": "code",
   "execution_count": null,
   "metadata": {},
   "outputs": [],
   "source": []
  }
 ],
 "metadata": {
  "kernelspec": {
   "display_name": "Python 3",
   "language": "python",
   "name": "python3"
  },
  "language_info": {
   "codemirror_mode": {
    "name": "ipython",
    "version": 3
   },
   "file_extension": ".py",
   "mimetype": "text/x-python",
   "name": "python",
   "nbconvert_exporter": "python",
   "pygments_lexer": "ipython3",
   "version": "3.7.4"
  }
 },
 "nbformat": 4,
 "nbformat_minor": 2
}
