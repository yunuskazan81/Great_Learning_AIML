{
 "cells": [
  {
   "cell_type": "markdown",
   "metadata": {},
   "source": [
    "# CONDITIONAL STATEMENTS EXERCISE"
   ]
  },
  {
   "cell_type": "markdown",
   "metadata": {},
   "source": [
    "---------------"
   ]
  },
  {
   "cell_type": "markdown",
   "metadata": {},
   "source": [
    "### 1. Check if a is equal to 10, If yes, print \"Hello\", else print \"Good Bye\"\n",
    "a = 56"
   ]
  },
  {
   "cell_type": "code",
   "execution_count": 4,
   "metadata": {},
   "outputs": [
    {
     "name": "stdout",
     "output_type": "stream",
     "text": [
      "Good Bye\n"
     ]
    }
   ],
   "source": [
    "a = 56\n",
    "if a==10 :\n",
    "    print(\"Hello\")\n",
    "else :\n",
    "    print(\"Good Bye\")"
   ]
  },
  {
   "cell_type": "markdown",
   "metadata": {},
   "source": [
    "### 2. Check whether a number is even or odd\n",
    "a = 2020"
   ]
  },
  {
   "cell_type": "code",
   "execution_count": 5,
   "metadata": {},
   "outputs": [
    {
     "name": "stdout",
     "output_type": "stream",
     "text": [
      "Even\n"
     ]
    }
   ],
   "source": [
    "a= 2020\n",
    "\n",
    "if a%2==0 :\n",
    "    print(\"Even\")\n",
    "else :\n",
    "    print(\"odd\")"
   ]
  },
  {
   "cell_type": "markdown",
   "metadata": {},
   "source": [
    "### 3.  Check whether the area of the rectangle is greater than the perimeter of the rectangle\n",
    "length = 5\n",
    "breadth = 10\n",
    "\n",
    "Hint: Area of rectangle = length * breadth \n",
    "\n",
    "Hint: Perimeter of rectangle = 2 * (length + breadth)"
   ]
  },
  {
   "cell_type": "code",
   "execution_count": 6,
   "metadata": {},
   "outputs": [
    {
     "name": "stdout",
     "output_type": "stream",
     "text": [
      "True\n"
     ]
    }
   ],
   "source": [
    "length = 5 \n",
    "breadth = 10\n",
    "\n",
    "Area = length * breadth\n",
    "Perimeter = 2 * (length + breadth)\n",
    "\n",
    "print(Area>Perimeter)"
   ]
  },
  {
   "cell_type": "markdown",
   "metadata": {},
   "source": [
    "### 4.Calculate the average marks of a student in 5 subjects and give grades accordingly:\n",
    "If average>90 then Grade = A\n",
    "\n",
    "If average>80 then Grade = B\n",
    "\n",
    "If average>70 then Grade = C\n",
    "\n",
    "If average>60 then Grade = D\n",
    "\n",
    "If average>50 then Grade = E\n",
    "\n",
    "else Fail\n",
    "\n",
    "Marks in subject 1= 72\n",
    "\n",
    "Marks in subject 2= 85\n",
    "\n",
    "Marks in subject 3= 96\n",
    "\n",
    "Marks in subject 4= 42\n",
    "\n",
    "Marks in subject 5= 95"
   ]
  },
  {
   "cell_type": "code",
   "execution_count": 12,
   "metadata": {},
   "outputs": [
    {
     "name": "stdout",
     "output_type": "stream",
     "text": [
      "82.8\n",
      "B\n"
     ]
    }
   ],
   "source": [
    "\n",
    "subject1= 72\n",
    "\n",
    "subject2= 75\n",
    "\n",
    "subject3= 76\n",
    "\n",
    "subject4= 96\n",
    "\n",
    "subject5= 95\n",
    "\n",
    "average= (subject1+subject2+subject3+subject4+subject5)/5\n",
    "\n",
    "print(average)\n",
    "\n",
    "\n",
    "if average>90 :\n",
    "    \n",
    "    print(\"A\")\n",
    "\n",
    "elif average>80 :\n",
    "    \n",
    "     print(\"B\")\n",
    "\n",
    "elif average>70 :\n",
    "    \n",
    "     print(\"C\")\n",
    "\n",
    "elif average>60 :\n",
    "    \n",
    "     print(\"D\")\n",
    "\n",
    "elif average>50 :\n",
    "    \n",
    "     print(\"E\")\n",
    "\n",
    "else :\n",
    "    \n",
    "     print(\"Fail\")\n",
    "\n"
   ]
  },
  {
   "cell_type": "markdown",
   "metadata": {},
   "source": [
    "###  5.check if a triangle is equilateral, isosceles or scalene.\n",
    "\n",
    "Hint :\n",
    "1. An equilateral triangle is a triangle in which all three sides are equal.\n",
    "\n",
    "2. A scalene triangle is a triangle that has three unequal sides.\n",
    "\n",
    "3. An isosceles triangle is a triangle with (at least) two equal sides.\n",
    "\n",
    "Dimensions of triangle:\n",
    "\n",
    "side 1 = 6 \n",
    "\n",
    "side 2 = 8 \n",
    "\n",
    "side 3 = 12"
   ]
  },
  {
   "cell_type": "code",
   "execution_count": 20,
   "metadata": {},
   "outputs": [
    {
     "name": "stdout",
     "output_type": "stream",
     "text": [
      "isosceles\n"
     ]
    }
   ],
   "source": [
    "side1 = 6\n",
    "\n",
    "side2 = 8\n",
    "\n",
    "side3 = 6\n",
    "\n",
    "if side1 ==side2 and side2==side3 :\n",
    "    print(\"equilateral\")\n",
    "    \n",
    "elif side1==side2 or side1==side3 or side2==side3 :\n",
    "    print(\"isosceles\")\n",
    "    \n",
    "elif side1!=side2 and side2!=side3 :\n",
    "    print(\"scalene\")\n"
   ]
  },
  {
   "cell_type": "markdown",
   "metadata": {},
   "source": [
    "### 6. Check if the word \"Data\" is present in the sentence \"I am a Data Scientist\". If found print \"It is present\" else print FALSE"
   ]
  },
  {
   "cell_type": "code",
   "execution_count": 21,
   "metadata": {},
   "outputs": [
    {
     "name": "stdout",
     "output_type": "stream",
     "text": [
      "It is present\n"
     ]
    }
   ],
   "source": [
    "st=  \"I am a Data Scientist\"\n",
    "\n",
    "wrd=  \"Data\"\n",
    "\n",
    "if wrd in st :\n",
    "    \n",
    "    print(\"It is present\")\n",
    "\n",
    "else: \n",
    "     print(\"False\")\n",
    "\n"
   ]
  },
  {
   "cell_type": "markdown",
   "metadata": {},
   "source": [
    "### 7. Write python code to check if a number is positive or negative."
   ]
  },
  {
   "cell_type": "code",
   "execution_count": 23,
   "metadata": {},
   "outputs": [
    {
     "name": "stdout",
     "output_type": "stream",
     "text": [
      "Positive\n"
     ]
    }
   ],
   "source": [
    "number= 1\n",
    "\n",
    "if number <0 :\n",
    "    print(\"Negative\")\n",
    "else:\n",
    "     print(\"Positive\")"
   ]
  },
  {
   "cell_type": "markdown",
   "metadata": {},
   "source": [
    "### 8. x = 20 and y = 30. Write a python code to check if x is less than y."
   ]
  },
  {
   "cell_type": "code",
   "execution_count": 27,
   "metadata": {},
   "outputs": [
    {
     "name": "stdout",
     "output_type": "stream",
     "text": [
      "True\n"
     ]
    }
   ],
   "source": [
    "x = 20 \n",
    "y = 30\n",
    "print(x<y)"
   ]
  },
  {
   "cell_type": "markdown",
   "metadata": {},
   "source": [
    "### 9. Based on the users age, divide them into three groups \n",
    "    Group 1 : Age <18 , Minors who are not eligible to work\n",
    "    Group 2 : 18 < Age < 60 , Eligible to work\n",
    "    Group 3 : Age > 60, Too old to work as per govt. regulations. \n",
    "\n",
    "### Write a python code for the same"
   ]
  },
  {
   "cell_type": "code",
   "execution_count": 30,
   "metadata": {},
   "outputs": [
    {
     "name": "stdout",
     "output_type": "stream",
     "text": [
      "Too old to work as per govt. regulations.\n"
     ]
    }
   ],
   "source": [
    "Age= 65\n",
    "\n",
    "if Age <18 :\n",
    "    print(\"Minors who are not eligible to work\")\n",
    "elif 18 < Age < 60 :\n",
    "     print(\"Eligible to work\")\n",
    "elif  Age > 60 :\n",
    "     print(\"Too old to work as per govt. regulations.\")"
   ]
  },
  {
   "cell_type": "markdown",
   "metadata": {},
   "source": [
    "### 10. From the age of 3 people determine the oldest person among them.\n",
    "Age of first person = 25\n",
    "\n",
    "Age of second person = 34\n",
    "\n",
    "Age of third person = 45"
   ]
  },
  {
   "cell_type": "code",
   "execution_count": 31,
   "metadata": {},
   "outputs": [
    {
     "data": {
      "text/plain": [
       "45"
      ]
     },
     "execution_count": 31,
     "metadata": {},
     "output_type": "execute_result"
    }
   ],
   "source": [
    "person1 = 25\n",
    "\n",
    "person2 = 34\n",
    "\n",
    "person3 = 45\n",
    "\n",
    "list = [person1,person2,person3]\n",
    "\n",
    "max(list)"
   ]
  },
  {
   "cell_type": "code",
   "execution_count": null,
   "metadata": {},
   "outputs": [],
   "source": []
  }
 ],
 "metadata": {
  "kernelspec": {
   "display_name": "Python 3",
   "language": "python",
   "name": "python3"
  },
  "language_info": {
   "codemirror_mode": {
    "name": "ipython",
    "version": 3
   },
   "file_extension": ".py",
   "mimetype": "text/x-python",
   "name": "python",
   "nbconvert_exporter": "python",
   "pygments_lexer": "ipython3",
   "version": "3.7.4"
  }
 },
 "nbformat": 4,
 "nbformat_minor": 4
}
