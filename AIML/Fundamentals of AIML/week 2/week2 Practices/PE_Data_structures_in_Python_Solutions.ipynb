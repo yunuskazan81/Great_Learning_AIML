{
  "nbformat": 4,
  "nbformat_minor": 0,
  "metadata": {
    "kernelspec": {
      "display_name": "Python 3",
      "language": "python",
      "name": "python3"
    },
    "language_info": {
      "codemirror_mode": {
        "name": "ipython",
        "version": 3
      },
      "file_extension": ".py",
      "mimetype": "text/x-python",
      "name": "python",
      "nbconvert_exporter": "python",
      "pygments_lexer": "ipython3",
      "version": "3.7.4"
    },
    "colab": {
      "name": "PE_Data_structures_in_Python_Solutions.ipynb",
      "provenance": [],
      "collapsed_sections": []
    }
  },
  "cells": [
    {
      "cell_type": "markdown",
      "metadata": {
        "id": "rYtShAfQiy1E",
        "colab_type": "text"
      },
      "source": [
        "## Lists, Dictionaries and Sets in Python"
      ]
    },
    {
      "cell_type": "markdown",
      "metadata": {
        "id": "1OHR7Y7iiy1F",
        "colab_type": "text"
      },
      "source": [
        "## Part 1\n",
        "\n",
        "### Lists in Python\n",
        "\n",
        "Sequences in Python are data structures that hold objects in an ordered array. Now, we will work on Lists, the most common sequence data types in Python."
      ]
    },
    {
      "cell_type": "code",
      "metadata": {
        "id": "2yt15PZFiy1G",
        "colab_type": "code",
        "colab": {
          "base_uri": "https://localhost:8080/",
          "height": 34
        },
        "outputId": "31a68de2-c853-4ba2-f0bd-259dc80adc9b"
      },
      "source": [
        "#Example \n",
        "l1 = ['learning', \"Python\", 'is fun?', True]    # Create a list l1.\n",
        "print(l1)    # print list l1."
      ],
      "execution_count": null,
      "outputs": [
        {
          "output_type": "stream",
          "text": [
            "['learning', 'Python', 'is fun?', True]\n"
          ],
          "name": "stdout"
        }
      ]
    },
    {
      "cell_type": "markdown",
      "metadata": {
        "id": "Fp5nTsa5iy1K",
        "colab_type": "text"
      },
      "source": [
        "List can also be created by using list() function. "
      ]
    },
    {
      "cell_type": "code",
      "metadata": {
        "id": "TUUCHYtbiy1L",
        "colab_type": "code",
        "colab": {
          "base_uri": "https://localhost:8080/",
          "height": 34
        },
        "outputId": "fd834c27-9c34-4564-cfa0-7e46c0349150"
      },
      "source": [
        "#Example\n",
        "l2 = list((\"learning\", \"for\", \"life\", True))\n",
        "print(l2)"
      ],
      "execution_count": null,
      "outputs": [
        {
          "output_type": "stream",
          "text": [
            "['learning', 'for', 'life', True]\n"
          ],
          "name": "stdout"
        }
      ]
    },
    {
      "cell_type": "markdown",
      "metadata": {
        "id": "aMpnTK6Riy1P",
        "colab_type": "text"
      },
      "source": [
        "Adding to an existing list\n",
        "\n",
        "### Question 1\n",
        "\n",
        "Add 10 to list l1 given above.\n",
        "\n",
        "[ **Hint:** Use **append**]"
      ]
    },
    {
      "cell_type": "code",
      "metadata": {
        "id": "JxpETrCjiy1Q",
        "colab_type": "code",
        "colab": {}
      },
      "source": [
        "l1.append(10)    # Append a number = 10 to list l1."
      ],
      "execution_count": null,
      "outputs": []
    },
    {
      "cell_type": "code",
      "metadata": {
        "id": "BTT6MGkbiy1S",
        "colab_type": "code",
        "colab": {
          "base_uri": "https://localhost:8080/",
          "height": 34
        },
        "outputId": "f1e5925b-43a4-4cb3-f7c7-49be07b8e56b"
      },
      "source": [
        "l1"
      ],
      "execution_count": null,
      "outputs": [
        {
          "output_type": "execute_result",
          "data": {
            "text/plain": [
              "['learning', 'Python', 'is fun?', True, 10]"
            ]
          },
          "metadata": {
            "tags": []
          },
          "execution_count": 4
        }
      ]
    },
    {
      "cell_type": "markdown",
      "metadata": {
        "id": "7ScnpVD0iy1V",
        "colab_type": "text"
      },
      "source": [
        "Removing from an existing list\n",
        "\n",
        "### Question 2\n",
        "\n",
        "Remove 10 from l1.\n",
        "\n",
        "[ **Hint:** Use **remove**]"
      ]
    },
    {
      "cell_type": "code",
      "metadata": {
        "id": "UnGtqk2biy1W",
        "colab_type": "code",
        "colab": {}
      },
      "source": [
        "# Removes a given object from the list. It does not return any value.\n",
        "# It returns ValueError when the passed object is not present in the list.\n",
        "l1.remove(10)"
      ],
      "execution_count": null,
      "outputs": []
    },
    {
      "cell_type": "markdown",
      "metadata": {
        "id": "1m6aIGIpiy1a",
        "colab_type": "text"
      },
      "source": [
        "Joining 2 lists\n",
        "\n",
        "### Question 3\n",
        "\n",
        "[ **Hint: ** Use **+** operator or **extend**]"
      ]
    },
    {
      "cell_type": "code",
      "metadata": {
        "id": "XeCGm-G3iy1a",
        "colab_type": "code",
        "colab": {}
      },
      "source": [
        "l1 = ['learning', \"Python\", 'is fun?', True]    # Create list l1.\n",
        "l2 = list((\"learning\", \"for\", \"life\", True))"
      ],
      "execution_count": null,
      "outputs": []
    },
    {
      "cell_type": "code",
      "metadata": {
        "id": "cq5zURVxiy1g",
        "colab_type": "code",
        "colab": {
          "base_uri": "https://localhost:8080/",
          "height": 34
        },
        "outputId": "26c8a4e7-c2e3-4075-fb60-39c60b7a9373"
      },
      "source": [
        "l1+l2    # Use of \"+\"\" operator can easily add the whole of one list behind the other list and hence perform the concatenation."
      ],
      "execution_count": null,
      "outputs": [
        {
          "output_type": "execute_result",
          "data": {
            "text/plain": [
              "['learning', 'Python', 'is fun?', True, 'learning', 'for', 'life', True]"
            ]
          },
          "metadata": {
            "tags": []
          },
          "execution_count": 7
        }
      ]
    },
    {
      "cell_type": "code",
      "metadata": {
        "id": "sEi87eMpiy1j",
        "colab_type": "code",
        "colab": {
          "base_uri": "https://localhost:8080/",
          "height": 34
        },
        "outputId": "1cc7c017-34c6-4999-a356-d9120887df7d"
      },
      "source": [
        "# Extend:  Iterates over argument (in this example, argument = l2) and adding each element to the list and extending the list. \n",
        "# The length of the list increases by number of elements in it's argument.\n",
        "l1.extend(l2)\n",
        "print(l1)"
      ],
      "execution_count": null,
      "outputs": [
        {
          "output_type": "stream",
          "text": [
            "['learning', 'Python', 'is fun?', True, 'learning', 'for', 'life', True]\n"
          ],
          "name": "stdout"
        }
      ]
    },
    {
      "cell_type": "markdown",
      "metadata": {
        "id": "t5RRcx8ciy1m",
        "colab_type": "text"
      },
      "source": [
        "Number List\n",
        "\n",
        "### Question 4\n",
        "\n",
        "Find Range and Mean of l3.\n",
        "\n",
        "l3 = [2,4,6,8]\n",
        "\n",
        "[ **Hint: ** Use **len(),sum(), min(), max()** functions ]\n",
        " \n",
        "If you want to use standard functions like mean & range, you have to import them from numpy else you can calculate them the traditional way using formulas"
      ]
    },
    {
      "cell_type": "code",
      "metadata": {
        "id": "Dt1oKrBCiy1m",
        "colab_type": "code",
        "colab": {}
      },
      "source": [
        "l3 = [2,4,6,8]   # Create list l3."
      ],
      "execution_count": null,
      "outputs": []
    },
    {
      "cell_type": "code",
      "metadata": {
        "id": "s84_We_viy1p",
        "colab_type": "code",
        "colab": {
          "base_uri": "https://localhost:8080/",
          "height": 34
        },
        "outputId": "adf92264-be61-47be-bc9c-0f060b5d4953"
      },
      "source": [
        "sum(l3)    # Sums up the numbers in the list."
      ],
      "execution_count": null,
      "outputs": [
        {
          "output_type": "execute_result",
          "data": {
            "text/plain": [
              "20"
            ]
          },
          "metadata": {
            "tags": []
          },
          "execution_count": 10
        }
      ]
    },
    {
      "cell_type": "code",
      "metadata": {
        "id": "eFpd8rftiy1v",
        "colab_type": "code",
        "colab": {
          "base_uri": "https://localhost:8080/",
          "height": 34
        },
        "outputId": "27e44d34-f6b3-4251-d6b9-e116a0903f10"
      },
      "source": [
        "len(l3)    # Returns length of list."
      ],
      "execution_count": null,
      "outputs": [
        {
          "output_type": "execute_result",
          "data": {
            "text/plain": [
              "4"
            ]
          },
          "metadata": {
            "tags": []
          },
          "execution_count": 11
        }
      ]
    },
    {
      "cell_type": "code",
      "metadata": {
        "id": "xYfloVXgiy1x",
        "colab_type": "code",
        "colab": {
          "base_uri": "https://localhost:8080/",
          "height": 34
        },
        "outputId": "a5251116-cc56-4038-ac01-36392053829a"
      },
      "source": [
        "print(\"mean:\",sum(l3)/len(l3))    # calculate mean/average of list by using sum and len functions."
      ],
      "execution_count": null,
      "outputs": [
        {
          "output_type": "stream",
          "text": [
            "mean: 5.0\n"
          ],
          "name": "stdout"
        }
      ]
    },
    {
      "cell_type": "code",
      "metadata": {
        "id": "ZZbLqcCqiy11",
        "colab_type": "code",
        "colab": {
          "base_uri": "https://localhost:8080/",
          "height": 34
        },
        "outputId": "acf72666-0135-4236-db63-d3aa035c4d85"
      },
      "source": [
        "min(l3)    # Returns the minimum value of a list."
      ],
      "execution_count": null,
      "outputs": [
        {
          "output_type": "execute_result",
          "data": {
            "text/plain": [
              "2"
            ]
          },
          "metadata": {
            "tags": []
          },
          "execution_count": 13
        }
      ]
    },
    {
      "cell_type": "code",
      "metadata": {
        "id": "YL7XQnZXiy14",
        "colab_type": "code",
        "colab": {
          "base_uri": "https://localhost:8080/",
          "height": 34
        },
        "outputId": "f558de6d-a9a8-4799-9a0c-986f38d7df48"
      },
      "source": [
        "max(l3)    # Returns the maximum value of a list."
      ],
      "execution_count": null,
      "outputs": [
        {
          "output_type": "execute_result",
          "data": {
            "text/plain": [
              "8"
            ]
          },
          "metadata": {
            "tags": []
          },
          "execution_count": 14
        }
      ]
    },
    {
      "cell_type": "code",
      "metadata": {
        "id": "fUyE1NTfiy18",
        "colab_type": "code",
        "colab": {
          "base_uri": "https://localhost:8080/",
          "height": 34
        },
        "outputId": "49a2ee93-4770-4969-8faf-105fd6707efb"
      },
      "source": [
        "print(\"range:\",max(l3)-min(l3))    "
      ],
      "execution_count": null,
      "outputs": [
        {
          "output_type": "stream",
          "text": [
            "range: 6\n"
          ],
          "name": "stdout"
        }
      ]
    },
    {
      "cell_type": "markdown",
      "metadata": {
        "id": "jK-VRkb0iy2B",
        "colab_type": "text"
      },
      "source": [
        "Count the occurances of an element in a given list.\n",
        "\n",
        "### Question 5\n",
        "Append the given sequence of numbers to l3 (given above) 0,1,3,3,5,5,7,9. Count the occurences of 5 in l3.\n",
        "\n",
        "[ **Hint: ** Use ** + operator to add multiple elements in the array and count() function to print the occurences**]"
      ]
    },
    {
      "cell_type": "code",
      "metadata": {
        "id": "It445_0iiy2C",
        "colab_type": "code",
        "colab": {
          "base_uri": "https://localhost:8080/",
          "height": 34
        },
        "outputId": "bcd0b04a-2857-4afe-f971-c3a3e4d4d1f6"
      },
      "source": [
        "(l3 + [0,1,3,3,5,5,7,9]).count(5)    # Returns count of how many times a given object occurs in list."
      ],
      "execution_count": null,
      "outputs": [
        {
          "output_type": "execute_result",
          "data": {
            "text/plain": [
              "2"
            ]
          },
          "metadata": {
            "tags": []
          },
          "execution_count": 16
        }
      ]
    },
    {
      "cell_type": "markdown",
      "metadata": {
        "id": "j_TIVA98iy2G",
        "colab_type": "text"
      },
      "source": [
        "Sorting and Reversing a list\n",
        "\n",
        "### Question 6\n",
        "sort and print l3 in ascending and descending order sequentially (given above)\n",
        "\n",
        "**(Hint: Use .sort() function)**"
      ]
    },
    {
      "cell_type": "code",
      "metadata": {
        "id": "2Sj1_hYLiy2H",
        "colab_type": "code",
        "colab": {
          "base_uri": "https://localhost:8080/",
          "height": 34
        },
        "outputId": "8d6579b1-3ea8-460b-9689-1e258fda9b4c"
      },
      "source": [
        "l3.sort(reverse = True)    # This function can be used to sort a list in ascending, descending or user defined order.\n",
        "print(l3)"
      ],
      "execution_count": null,
      "outputs": [
        {
          "output_type": "stream",
          "text": [
            "[8, 6, 4, 2]\n"
          ],
          "name": "stdout"
        }
      ]
    },
    {
      "cell_type": "markdown",
      "metadata": {
        "id": "gq1U5AVeiy2J",
        "colab_type": "text"
      },
      "source": [
        "### Functions"
      ]
    },
    {
      "cell_type": "markdown",
      "metadata": {
        "id": "Y3i0KEbviy2K",
        "colab_type": "text"
      },
      "source": [
        "**Example:**\n",
        "\n",
        "**def** function_name(args)**:**\n",
        "    \n",
        "    function code goes here"
      ]
    },
    {
      "cell_type": "markdown",
      "metadata": {
        "id": "nzy_IPsSiy2K",
        "colab_type": "text"
      },
      "source": [
        "### Question 7\n",
        "\n",
        "Define a function with name **sum_3** which can take 3 numbers as input, and returns sum of them."
      ]
    },
    {
      "cell_type": "code",
      "metadata": {
        "id": "Gn4BEoLbiy2L",
        "colab_type": "code",
        "colab": {}
      },
      "source": [
        "def sum_3(a,b,c): \n",
        "    d = a+b+c \n",
        "    return d"
      ],
      "execution_count": null,
      "outputs": []
    },
    {
      "cell_type": "code",
      "metadata": {
        "id": "pT6i1aPXiy2N",
        "colab_type": "code",
        "colab": {
          "base_uri": "https://localhost:8080/",
          "height": 34
        },
        "outputId": "3cb35bfa-2b23-4b63-d684-7fb5f645688e"
      },
      "source": [
        "sum_3(2,3,5)"
      ],
      "execution_count": null,
      "outputs": [
        {
          "output_type": "execute_result",
          "data": {
            "text/plain": [
              "10"
            ]
          },
          "metadata": {
            "tags": []
          },
          "execution_count": 19
        }
      ]
    },
    {
      "cell_type": "markdown",
      "metadata": {
        "id": "TWcyr62riy2Q",
        "colab_type": "text"
      },
      "source": [
        "### Lambda Functions"
      ]
    },
    {
      "cell_type": "markdown",
      "metadata": {
        "id": "jOl8G6iziy2R",
        "colab_type": "text"
      },
      "source": [
        "Anonymous functions or no name functions, which can be considered when you use a function only once.\n",
        "\n",
        "**Example:**\n",
        "\n",
        "f = lambda x, y : x + y\n",
        "\n",
        "f(1,1)\n",
        "\n",
        "2\n"
      ]
    },
    {
      "cell_type": "markdown",
      "metadata": {
        "id": "7DzO4sKliy2R",
        "colab_type": "text"
      },
      "source": [
        "### Question 8\n",
        "\n",
        "Write the same above **sum_3** function using lambda."
      ]
    },
    {
      "cell_type": "code",
      "metadata": {
        "id": "ZHzVgTS1iy2S",
        "colab_type": "code",
        "colab": {}
      },
      "source": [
        "# The syntax of lambda function is :\n",
        "#     lambda arguments: expression\n",
        "f = lambda x,y,z: x+y+z     # Here arguments are x, y, z and the expression to calculate is x+y+z."
      ],
      "execution_count": null,
      "outputs": []
    },
    {
      "cell_type": "code",
      "metadata": {
        "id": "KzyzUKUFiy2U",
        "colab_type": "code",
        "colab": {
          "base_uri": "https://localhost:8080/",
          "height": 34
        },
        "outputId": "cfcc5110-311b-45aa-9d69-e51354e1ffcb"
      },
      "source": [
        "f(1,2,3)"
      ],
      "execution_count": null,
      "outputs": [
        {
          "output_type": "execute_result",
          "data": {
            "text/plain": [
              "6"
            ]
          },
          "metadata": {
            "tags": []
          },
          "execution_count": 21
        }
      ]
    },
    {
      "cell_type": "markdown",
      "metadata": {
        "id": "y804edh6u-WZ",
        "colab_type": "text"
      },
      "source": [
        "### List Comprehension:\n",
        "\n"
      ]
    },
    {
      "cell_type": "markdown",
      "metadata": {
        "id": "DDUT-vUGvwCm",
        "colab_type": "text"
      },
      "source": [
        "List comprehensions provide a concise way to create lists. Common applications are to make new lists where each element is the result of some operations applied to each member of another sequence or iterable, or to create a subsequence of those elements that satisfy a certain condition.\n",
        "\n",
        "For example, assume we want to create a list of squares, like:"
      ]
    },
    {
      "cell_type": "code",
      "metadata": {
        "id": "WIN2foU_v1aE",
        "colab_type": "code",
        "colab": {
          "base_uri": "https://localhost:8080/",
          "height": 34
        },
        "outputId": "0ffae6ef-1a2e-4a2c-e4cb-2236875fe37a"
      },
      "source": [
        "squares = [x**2 for x in range(10)]\n",
        "print(squares)"
      ],
      "execution_count": null,
      "outputs": [
        {
          "output_type": "stream",
          "text": [
            "[0, 1, 4, 9, 16, 25, 36, 49, 64, 81]\n"
          ],
          "name": "stdout"
        }
      ]
    },
    {
      "cell_type": "code",
      "metadata": {
        "id": "vxnZUDxfu_cr",
        "colab_type": "code",
        "colab": {}
      },
      "source": [
        "L = [1, 2, 3, 4, 5]                             # list of integers from 1 to 5\n",
        "\n",
        "# Converting integers to string \n",
        "L = [str(c) for c in L]                         # this style of handling lists is known as list comprehension."
      ],
      "execution_count": null,
      "outputs": []
    },
    {
      "cell_type": "code",
      "metadata": {
        "id": "qfDkEUFwvSuI",
        "colab_type": "code",
        "colab": {
          "base_uri": "https://localhost:8080/",
          "height": 34
        },
        "outputId": "7bf4a28f-b56a-4716-a80c-8013d1729c42"
      },
      "source": [
        "# List comprehension offers a versatile way to handle list manipulations tasks easily.\n",
        "[type(item) for item in L]                  # Check the data-type of each element of the list."
      ],
      "execution_count": null,
      "outputs": [
        {
          "output_type": "execute_result",
          "data": {
            "text/plain": [
              "[str, str, str, str, str]"
            ]
          },
          "metadata": {
            "tags": []
          },
          "execution_count": 24
        }
      ]
    }
  ]
}