{
  "nbformat": 4,
  "nbformat_minor": 0,
  "metadata": {
    "colab": {
      "name": "PE_Numpy_Solutions.ipynb",
      "provenance": [],
      "collapsed_sections": []
    },
    "kernelspec": {
      "display_name": "Python 3",
      "language": "python",
      "name": "python3"
    },
    "language_info": {
      "codemirror_mode": {
        "name": "ipython",
        "version": 3
      },
      "file_extension": ".py",
      "mimetype": "text/x-python",
      "name": "python",
      "nbconvert_exporter": "python",
      "pygments_lexer": "ipython3",
      "version": "3.7.4"
    }
  },
  "cells": [
    {
      "cell_type": "markdown",
      "metadata": {
        "colab_type": "text",
        "id": "CsI6SI-ei1tx"
      },
      "source": [
        "# Numpy"
      ]
    },
    {
      "cell_type": "markdown",
      "metadata": {
        "colab_type": "text",
        "id": "iQGsA8ywi1t4"
      },
      "source": [
        "We have seen python basic data structures in our last section. They are great but lack specialized features for data analysis. Like, adding roows, columns, operating on 2d matrices aren't readily available. So, we will use *numpy* for such functions.\n",
        "\n"
      ]
    },
    {
      "cell_type": "code",
      "metadata": {
        "colab_type": "code",
        "id": "dCmOvx4ni1t5",
        "colab": {}
      },
      "source": [
        "# Import library.\n",
        "import numpy as np"
      ],
      "execution_count": null,
      "outputs": []
    },
    {
      "cell_type": "markdown",
      "metadata": {
        "colab_type": "text",
        "id": "BPPEHGrSi1uA"
      },
      "source": [
        "Numpy operates on *nd* arrays. These are similar to lists but contains homogenous elements but easier to store 2-d data."
      ]
    },
    {
      "cell_type": "code",
      "metadata": {
        "colab_type": "code",
        "id": "_9Y18Yzfi1uA",
        "colab": {
          "base_uri": "https://localhost:8080/",
          "height": 68
        },
        "outputId": "5a253c0d-cda2-40f2-e579-5171fc680798"
      },
      "source": [
        "l1 = [1,2,3,4]    # declare a list l1.\n",
        "nd1 = np.array(l1)    # convert list l1 to numpy array.\n",
        "print(nd1)    # print numpy array nd1.\n",
        "\n",
        "l2 = [5,6,7,8]\n",
        "nd2 = np.array([l1,l2])\n",
        "print(nd2)"
      ],
      "execution_count": null,
      "outputs": [
        {
          "output_type": "stream",
          "text": [
            "[1 2 3 4]\n",
            "[[1 2 3 4]\n",
            " [5 6 7 8]]\n"
          ],
          "name": "stdout"
        }
      ]
    },
    {
      "cell_type": "markdown",
      "metadata": {
        "colab_type": "text",
        "id": "x3HzFI9Ci1uL"
      },
      "source": [
        "Sum functions on np.array()"
      ]
    },
    {
      "cell_type": "code",
      "metadata": {
        "colab_type": "code",
        "id": "uIvyP-LDi1uM",
        "colab": {
          "base_uri": "https://localhost:8080/",
          "height": 68
        },
        "outputId": "b680f11c-53f7-439b-d125-80c15ec58d47"
      },
      "source": [
        "print(nd2.shape)    # print shape of numpy array (It will return shape as tuple).\n",
        "\n",
        "print(nd2.size)    # The size of numpy array (Total number of elements in array).\n",
        "\n",
        "print(nd2.dtype)    # The data-type of elements in the array."
      ],
      "execution_count": null,
      "outputs": [
        {
          "output_type": "stream",
          "text": [
            "(2, 4)\n",
            "8\n",
            "int64\n"
          ],
          "name": "stdout"
        }
      ]
    },
    {
      "cell_type": "markdown",
      "metadata": {
        "colab_type": "text",
        "id": "023xm6VEi1uX"
      },
      "source": [
        "### Question 1\n",
        "\n",
        "Create an identity 2d-array or matrix (with ones across the diagonal).\n",
        "\n",
        "[ **Hint: ** You can also use **np.identity()** function ]"
      ]
    },
    {
      "cell_type": "code",
      "metadata": {
        "colab_type": "code",
        "id": "3Joc_jEXi1uZ",
        "colab": {
          "base_uri": "https://localhost:8080/",
          "height": 51
        },
        "outputId": "1bfdde6b-1afa-43f6-d1df-4b252a321ff2"
      },
      "source": [
        "np.identity(2)    # will return an identity matrix of size 2x2 (as identity matrices are always square matrix)."
      ],
      "execution_count": null,
      "outputs": [
        {
          "output_type": "execute_result",
          "data": {
            "text/plain": [
              "array([[1., 0.],\n",
              "       [0., 1.]])"
            ]
          },
          "metadata": {
            "tags": []
          },
          "execution_count": 4
        }
      ]
    },
    {
      "cell_type": "markdown",
      "metadata": {
        "colab_type": "text",
        "id": "3KRZy1kCi1ug"
      },
      "source": [
        "### Question 2\n",
        "\n",
        "Create a 2d-array or matrix of order 3x3 with values = 9,8,7,6,5,4,3,2,1 arranged in the same order.\n",
        "\n",
        "Use: **np.array()** function\n",
        "\n"
      ]
    },
    {
      "cell_type": "code",
      "metadata": {
        "colab_type": "code",
        "id": "4iEnIiiZi1uh",
        "colab": {
          "base_uri": "https://localhost:8080/",
          "height": 68
        },
        "outputId": "badb4b4e-730d-4462-f3bd-cdd037ca143a"
      },
      "source": [
        "# we can use the np.matrix as well, but numpy documents says np.matrix will get depreciated and might not work after some time,\n",
        "# therefore using np.array\n",
        "\n",
        "# np.matrix is for maximumn 2-dimension whereas np.array is for n-dimensions\n",
        "\n",
        "d1 = np.array([[9,8,7],[6,5,4],[3,2,1]])\n",
        "d1"
      ],
      "execution_count": null,
      "outputs": [
        {
          "output_type": "execute_result",
          "data": {
            "text/plain": [
              "array([[9, 8, 7],\n",
              "       [6, 5, 4],\n",
              "       [3, 2, 1]])"
            ]
          },
          "metadata": {
            "tags": []
          },
          "execution_count": 5
        }
      ]
    },
    {
      "cell_type": "code",
      "metadata": {
        "colab_type": "code",
        "id": "7Ulq6cKXi1up",
        "colab": {
          "base_uri": "https://localhost:8080/",
          "height": 68
        },
        "outputId": "54f6f287-3a06-4635-d79b-7794aa6eb950"
      },
      "source": [
        "#we can also use the arange method and then reshape the array into the desired matrix\n",
        "d2 = np.arange(start = 9, stop = 0, step = -1)\n",
        "d2 = d2.reshape(3,3)\n",
        "d2"
      ],
      "execution_count": null,
      "outputs": [
        {
          "output_type": "execute_result",
          "data": {
            "text/plain": [
              "array([[9, 8, 7],\n",
              "       [6, 5, 4],\n",
              "       [3, 2, 1]])"
            ]
          },
          "metadata": {
            "tags": []
          },
          "execution_count": 6
        }
      ]
    },
    {
      "cell_type": "markdown",
      "metadata": {
        "colab_type": "text",
        "id": "A93aNx6ai1ux"
      },
      "source": [
        "### Question 3\n",
        "\n",
        "Interchange both the rows and columns of the given matrix.\n",
        "\n",
        "Hint: You can use the transpose **.T**)"
      ]
    },
    {
      "cell_type": "code",
      "metadata": {
        "colab_type": "code",
        "id": "HIyfUF1Pi1uy",
        "colab": {
          "base_uri": "https://localhost:8080/",
          "height": 68
        },
        "outputId": "662e97d5-4aae-4f85-b445-da98671160f5"
      },
      "source": [
        "d1.T    # Return transpose of array d1."
      ],
      "execution_count": null,
      "outputs": [
        {
          "output_type": "execute_result",
          "data": {
            "text/plain": [
              "array([[9, 6, 3],\n",
              "       [8, 5, 2],\n",
              "       [7, 4, 1]])"
            ]
          },
          "metadata": {
            "tags": []
          },
          "execution_count": 7
        }
      ]
    },
    {
      "cell_type": "markdown",
      "metadata": {
        "colab_type": "text",
        "id": "1oq5sAMBi1u3"
      },
      "source": [
        "### Question 4\n",
        "Add + 1 to all the elements in the given matrix."
      ]
    },
    {
      "cell_type": "code",
      "metadata": {
        "colab_type": "code",
        "id": "tj6O-Lyxi1u3",
        "colab": {
          "base_uri": "https://localhost:8080/",
          "height": 68
        },
        "outputId": "2e7d4c59-65f9-4971-a354-d7b26d476624"
      },
      "source": [
        "d1 + 1    # Adds the constant to each element of the array."
      ],
      "execution_count": null,
      "outputs": [
        {
          "output_type": "execute_result",
          "data": {
            "text/plain": [
              "array([[10,  9,  8],\n",
              "       [ 7,  6,  5],\n",
              "       [ 4,  3,  2]])"
            ]
          },
          "metadata": {
            "tags": []
          },
          "execution_count": 8
        }
      ]
    },
    {
      "cell_type": "markdown",
      "metadata": {
        "colab_type": "text",
        "id": "pWxrnUc2i1u7"
      },
      "source": [
        "Similarly you can do operations like scalar  substraction, division, multiplication (operating on each element in the matrix)"
      ]
    },
    {
      "cell_type": "markdown",
      "metadata": {
        "colab_type": "text",
        "id": "Q-GJJFvTi1u9"
      },
      "source": [
        "### Question 5\n",
        "\n",
        "Find the mean of all elements in the given matrix nd6.\n",
        "nd6 = [[  1   4   9 121 144 169]\n",
        " [ 16  25  36 196 225 256]\n",
        " [ 49  64  81 289 324 361]]\n",
        " \n",
        " Use: **.mean()** function\n"
      ]
    },
    {
      "cell_type": "code",
      "metadata": {
        "colab_type": "code",
        "id": "JTfeVe-Si1u-",
        "colab": {}
      },
      "source": [
        "nd6 = np.matrix([[ 1, 4, 9, 121, 144, 169], [ 16, 25, 36, 196, 225, 256], [ 49, 64, 81, 289, 324, 361]])    # declare numpy array"
      ],
      "execution_count": null,
      "outputs": []
    },
    {
      "cell_type": "code",
      "metadata": {
        "colab_type": "code",
        "id": "vYkfFEzGwu7t",
        "colab": {
          "base_uri": "https://localhost:8080/",
          "height": 68
        },
        "outputId": "7b1907c2-3b1a-42e7-aceb-1960d2b8d1d7"
      },
      "source": [
        "nd6    # print array."
      ],
      "execution_count": null,
      "outputs": [
        {
          "output_type": "execute_result",
          "data": {
            "text/plain": [
              "matrix([[  1,   4,   9, 121, 144, 169],\n",
              "        [ 16,  25,  36, 196, 225, 256],\n",
              "        [ 49,  64,  81, 289, 324, 361]])"
            ]
          },
          "metadata": {
            "tags": []
          },
          "execution_count": 10
        }
      ]
    },
    {
      "cell_type": "code",
      "metadata": {
        "colab_type": "code",
        "id": "PiJMA065i1vI",
        "colab": {
          "base_uri": "https://localhost:8080/",
          "height": 34
        },
        "outputId": "c59a3f32-5703-412d-afca-3ae0067988f6"
      },
      "source": [
        "nd6.mean()    # Returns mean of the elements of array."
      ],
      "execution_count": null,
      "outputs": [
        {
          "output_type": "execute_result",
          "data": {
            "text/plain": [
              "131.66666666666666"
            ]
          },
          "metadata": {
            "tags": []
          },
          "execution_count": 11
        }
      ]
    },
    {
      "cell_type": "markdown",
      "metadata": {
        "colab_type": "text",
        "id": "RhlZpkHoi1vg"
      },
      "source": [
        "### Question 7\n",
        "\n",
        "Find the dot product of two given matrices.\n",
        "\n",
        "[**Hint:** Use **np.dot()**]"
      ]
    },
    {
      "cell_type": "code",
      "metadata": {
        "colab_type": "code",
        "id": "uK0-bb9wi1vh",
        "colab": {
          "base_uri": "https://localhost:8080/",
          "height": 68
        },
        "outputId": "8112e84b-883a-4abb-d93e-4bda0be12272"
      },
      "source": [
        "np.dot(d1, nd6)    # Returns the dot product of d1 and nd6."
      ],
      "execution_count": null,
      "outputs": [
        {
          "output_type": "execute_result",
          "data": {
            "text/plain": [
              "matrix([[ 480,  684,  936, 4680, 5364, 6096],\n",
              "        [ 282,  405,  558, 2862, 3285, 3738],\n",
              "        [  84,  126,  180, 1044, 1206, 1380]])"
            ]
          },
          "metadata": {
            "tags": []
          },
          "execution_count": 12
        }
      ]
    },
    {
      "cell_type": "markdown",
      "metadata": {
        "id": "tnSjSgzZ1gwo",
        "colab_type": "text"
      },
      "source": [
        "### Array Slicing/Indexing:\n",
        "\n",
        "- Now we'll learn to access multiple elements or a range of elements from an array."
      ]
    },
    {
      "cell_type": "code",
      "metadata": {
        "id": "XoQrWiPO1wax",
        "colab_type": "code",
        "colab": {
          "base_uri": "https://localhost:8080/",
          "height": 51
        },
        "outputId": "2b10874b-a9b8-4671-9acb-456332a2d6c2"
      },
      "source": [
        "x = np.arange(20)        # Creates a numpy array with 20 integers from 0 to 19.\n",
        "x"
      ],
      "execution_count": null,
      "outputs": [
        {
          "output_type": "execute_result",
          "data": {
            "text/plain": [
              "array([ 0,  1,  2,  3,  4,  5,  6,  7,  8,  9, 10, 11, 12, 13, 14, 15, 16,\n",
              "       17, 18, 19])"
            ]
          },
          "metadata": {
            "tags": []
          },
          "execution_count": 13
        }
      ]
    },
    {
      "cell_type": "markdown",
      "metadata": {
        "id": "WOCrg1li1TUw",
        "colab_type": "text"
      },
      "source": [
        "### Question 8\n",
        "\n",
        "Print the array elements from start to 4th position\n"
      ]
    },
    {
      "cell_type": "code",
      "metadata": {
        "id": "LaZn6pBh19xE",
        "colab_type": "code",
        "colab": {
          "base_uri": "https://localhost:8080/",
          "height": 34
        },
        "outputId": "300f2bb3-3133-4027-d4b5-2e71248fdab5"
      },
      "source": [
        "x[:5]                  # Returns the first 5 elements of array."
      ],
      "execution_count": null,
      "outputs": [
        {
          "output_type": "execute_result",
          "data": {
            "text/plain": [
              "array([0, 1, 2, 3, 4])"
            ]
          },
          "metadata": {
            "tags": []
          },
          "execution_count": 14
        }
      ]
    },
    {
      "cell_type": "markdown",
      "metadata": {
        "id": "JYjq5utR2KlC",
        "colab_type": "text"
      },
      "source": [
        "### Question 9\n",
        "\n",
        "- Return elements from first position with step size 2. (Difference between consecutive elements is 2)"
      ]
    },
    {
      "cell_type": "code",
      "metadata": {
        "id": "QBJ0by7h2FKR",
        "colab_type": "code",
        "colab": {
          "base_uri": "https://localhost:8080/",
          "height": 34
        },
        "outputId": "82cf1469-0f86-4d91-99d0-d0dc4ebec3b4"
      },
      "source": [
        "x[1::2]                  # Returns the elements of array from 2nd element to further elements with step size of 2."
      ],
      "execution_count": null,
      "outputs": [
        {
          "output_type": "execute_result",
          "data": {
            "text/plain": [
              "array([ 1,  3,  5,  7,  9, 11, 13, 15, 17, 19])"
            ]
          },
          "metadata": {
            "tags": []
          },
          "execution_count": 15
        }
      ]
    },
    {
      "cell_type": "markdown",
      "metadata": {
        "id": "7j2b7MXO2mFC",
        "colab_type": "text"
      },
      "source": [
        "### Question 10\n",
        "\n",
        "Reverse the array using array indexing:"
      ]
    },
    {
      "cell_type": "code",
      "metadata": {
        "id": "Gi5mpZIb2jNQ",
        "colab_type": "code",
        "colab": {
          "base_uri": "https://localhost:8080/",
          "height": 51
        },
        "outputId": "742ccd9a-bab7-4bbf-dd9f-34b46af908ef"
      },
      "source": [
        "x[::-1]               # Returns the reversed array."
      ],
      "execution_count": null,
      "outputs": [
        {
          "output_type": "execute_result",
          "data": {
            "text/plain": [
              "array([19, 18, 17, 16, 15, 14, 13, 12, 11, 10,  9,  8,  7,  6,  5,  4,  3,\n",
              "        2,  1,  0])"
            ]
          },
          "metadata": {
            "tags": []
          },
          "execution_count": 16
        }
      ]
    },
    {
      "cell_type": "code",
      "metadata": {
        "id": "2RFyYLbH37pT",
        "colab_type": "code",
        "colab": {}
      },
      "source": [
        ""
      ],
      "execution_count": null,
      "outputs": []
    }
  ]
}