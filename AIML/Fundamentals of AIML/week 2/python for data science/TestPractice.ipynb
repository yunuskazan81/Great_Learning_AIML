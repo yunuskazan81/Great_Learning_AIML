{
 "cells": [
  {
   "cell_type": "code",
   "execution_count": 7,
   "metadata": {},
   "outputs": [
    {
     "name": "stdout",
     "output_type": "stream",
     "text": [
      "[[1 2 3]\n",
      " [4 5 6]\n",
      " [7 8 9]]\n",
      "\n",
      " [[1 2 3]\n",
      " [4 5 6]\n",
      " [7 0 9]]\n",
      "\n",
      " [[1 2 3]\n",
      " [4 5 6]\n",
      " [7 0 9]]\n"
     ]
    }
   ],
   "source": [
    "import numpy as np\n",
    "array1 = np.array([[1,2,3],[4,5,6],[7,8,9]])\n",
    "array2 = array1\n",
    "print(array2)\n",
    "array2[2,1] = 0\n",
    "\n",
    "print(\"\\n\",array2)\n",
    "\n",
    "print(\"\\n\",array1)"
   ]
  },
  {
   "cell_type": "code",
   "execution_count": 9,
   "metadata": {},
   "outputs": [
    {
     "name": "stdout",
     "output_type": "stream",
     "text": [
      "[10 13 16 19]\n",
      "\n",
      " [0 3 6 9]\n"
     ]
    }
   ],
   "source": [
    "vec = np.arange(10,20)\n",
    "vec2 = vec[np.arange(0,10,3)]\n",
    "print(vec2)\n",
    "print(\"\\n\", np.arange(0,10,3))"
   ]
  },
  {
   "cell_type": "code",
   "execution_count": null,
   "metadata": {},
   "outputs": [],
   "source": []
  }
 ],
 "metadata": {
  "kernelspec": {
   "display_name": "Python 3",
   "language": "python",
   "name": "python3"
  },
  "language_info": {
   "codemirror_mode": {
    "name": "ipython",
    "version": 3
   },
   "file_extension": ".py",
   "mimetype": "text/x-python",
   "name": "python",
   "nbconvert_exporter": "python",
   "pygments_lexer": "ipython3",
   "version": "3.7.4"
  }
 },
 "nbformat": 4,
 "nbformat_minor": 2
}
