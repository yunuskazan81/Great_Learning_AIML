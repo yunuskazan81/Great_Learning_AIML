{
 "cells": [
  {
   "cell_type": "markdown",
   "metadata": {},
   "source": [
    "# Case Study: Anime Rating Prediction"
   ]
  },
  {
   "cell_type": "markdown",
   "metadata": {},
   "source": [
    "## Context\n",
    "\n",
    "Streamist is a streaming company that streams web series and movies for a worldwide audience. Every content on their portal is rated by the viewers, and the portal also provides other information for the content like the number of people who have watched it, the number of people who want to watch it, number of episodes, duration of an episode, etc.\n",
    "\n",
    "They are currently focusing on the anime available in their portal, and want to identify the most important factors involved in rating an anime. You as a data scientist at Streamist are tasked with identifying the important factors and building a predictive model to predict the rating on an anime.\n",
    "\n",
    "\n",
    "## Key Questions:\n",
    "\n",
    "1. What are the key factors influencing the rating of an anime?\n",
    "2. Is there a good predictive model for the rating of an anime? What does the performance assessment look like for such a model?\n",
    "\n",
    "\n",
    "## Data Information\n",
    "\n",
    "Each record in the database provides a description of an anime. Detailed attribute information can be found below.\n",
    "\n",
    "**Attribute Information**:\n",
    "\n",
    "1. title - title of anime\n",
    "2. description - synopsis of plot\n",
    "3. mediaType - format of publication\n",
    "4. eps - number of episodes (movies are considered 1 episode)\n",
    "5. duration - duration of episode in minutes\n",
    "6. ongoing - whether it is ongoing\n",
    "7. sznOfRelease - season of release (Winter, Spring, Fall)\n",
    "8. years_running - number of years the anime ran/is running\n",
    "9. studio_primary - primary studio of production\n",
    "10. studios_colab - whether there was a collaboration between studios to produce the anime\n",
    "11. contentWarn - whether anime has a content warning\n",
    "12. watched - number of users that completed it\n",
    "13. watching - number of users that are watching it\n",
    "14. wantWatch - number of users that want to watch it\n",
    "15. dropped - number of users that dropped it before completion\n",
    "16. rating - average user rating\n",
    "17. votes - number of votes that contribute to rating\n",
    "18. tag_Based_on_a_Manga - whether the anime is based on a manga\n",
    "19. tag_Comedy - whether the anime is of Comedy genre\n",
    "20. tag_Action - whether the anime is of Action genre\n",
    "21. tag_Fantasy - whether the anime is of Fantasy genre\n",
    "22. tag_Sci_Fi - whether the anime is of Sci-Fi genre\n",
    "23. tag_Shounen - whether the anime has a tag Shounen\n",
    "24. tag_Original_Work - whether the anime is an original work\n",
    "25. tag_Non_Human_Protagonists - whether the anime has any non-human protagonists\n",
    "26. tag_Drama - whether the anime is of Drama genre\n",
    "27. tag_Adventure - whether the anime is of Adventure genre\n",
    "28. tag_Family_Friendly - whether the anime is family-friendly\n",
    "29. tag_Short_Episodes - whether the anime has short episodes\n",
    "30. tag_School_Life - whether the anime is regarding school life\n",
    "31. tag_Romance - whether the anime is of Romance genre\n",
    "32. tag_Shorts - whether the anime has a tag Shorts\n",
    "33. tag_Slice_of_Life - whether the anime has a tag Slice of Life\n",
    "34. tag_Seinen - whether the anime has a tag Seinen\n",
    "35. tag_Supernatural - whether the anime has a tag Supernatural\n",
    "36. tag_Magic - whether the anime has a tag Magic\n",
    "37. tag_Animal_Protagonists - whether the anime has animal protagonists\n",
    "38. tag_Ecchi - whether the anime has a tag Ecchi\n",
    "39. tag_Mecha - whether the anime has a tag Mecha\n",
    "40. tag_Based_on_a_Light_Novel - whether the anime is based on a light novel\n",
    "41. tag_CG_Animation - whether the anime has a tag CG Animation\n",
    "42. tag_Superpowers - whether the anime has a tag Superpowers\n",
    "43. tag_Others - whether the anime has other tags\n",
    "44. tag_is_missing - whether tag is missing or not"
   ]
  },
  {
   "cell_type": "markdown",
   "metadata": {
    "id": "ztm8i-vTbbj8"
   },
   "source": [
    "## Let's start coding!"
   ]
  },
  {
   "cell_type": "code",
   "execution_count": 3,
   "metadata": {
    "id": "4FXvg7y4lJIA",
    "outputId": "b857a4c9-46ad-40d1-c7e1-de87cb7cedfd"
   },
   "outputs": [
    {
     "ename": "ModuleNotFoundError",
     "evalue": "No module named 'nb_black'",
     "output_type": "error",
     "traceback": [
      "\u001b[1;31m---------------------------------------------------------------------------\u001b[0m",
      "\u001b[1;31mModuleNotFoundError\u001b[0m                       Traceback (most recent call last)",
      "\u001b[1;32m<ipython-input-3-623c7bdf3547>\u001b[0m in \u001b[0;36m<module>\u001b[1;34m\u001b[0m\n\u001b[0;32m      1\u001b[0m \u001b[1;31m# this will help in making the Python code more structured automatically (good coding practice)\u001b[0m\u001b[1;33m\u001b[0m\u001b[1;33m\u001b[0m\u001b[1;33m\u001b[0m\u001b[0m\n\u001b[1;32m----> 2\u001b[1;33m \u001b[0mget_ipython\u001b[0m\u001b[1;33m(\u001b[0m\u001b[1;33m)\u001b[0m\u001b[1;33m.\u001b[0m\u001b[0mrun_line_magic\u001b[0m\u001b[1;33m(\u001b[0m\u001b[1;34m'load_ext'\u001b[0m\u001b[1;33m,\u001b[0m \u001b[1;34m'nb_black'\u001b[0m\u001b[1;33m)\u001b[0m\u001b[1;33m\u001b[0m\u001b[1;33m\u001b[0m\u001b[0m\n\u001b[0m",
      "\u001b[1;32m~\\AppData\\Local\\Continuum\\anaconda3\\lib\\site-packages\\IPython\\core\\interactiveshell.py\u001b[0m in \u001b[0;36mrun_line_magic\u001b[1;34m(self, magic_name, line, _stack_depth)\u001b[0m\n\u001b[0;32m   2312\u001b[0m                 \u001b[0mkwargs\u001b[0m\u001b[1;33m[\u001b[0m\u001b[1;34m'local_ns'\u001b[0m\u001b[1;33m]\u001b[0m \u001b[1;33m=\u001b[0m \u001b[0msys\u001b[0m\u001b[1;33m.\u001b[0m\u001b[0m_getframe\u001b[0m\u001b[1;33m(\u001b[0m\u001b[0mstack_depth\u001b[0m\u001b[1;33m)\u001b[0m\u001b[1;33m.\u001b[0m\u001b[0mf_locals\u001b[0m\u001b[1;33m\u001b[0m\u001b[1;33m\u001b[0m\u001b[0m\n\u001b[0;32m   2313\u001b[0m             \u001b[1;32mwith\u001b[0m \u001b[0mself\u001b[0m\u001b[1;33m.\u001b[0m\u001b[0mbuiltin_trap\u001b[0m\u001b[1;33m:\u001b[0m\u001b[1;33m\u001b[0m\u001b[1;33m\u001b[0m\u001b[0m\n\u001b[1;32m-> 2314\u001b[1;33m                 \u001b[0mresult\u001b[0m \u001b[1;33m=\u001b[0m \u001b[0mfn\u001b[0m\u001b[1;33m(\u001b[0m\u001b[1;33m*\u001b[0m\u001b[0margs\u001b[0m\u001b[1;33m,\u001b[0m \u001b[1;33m**\u001b[0m\u001b[0mkwargs\u001b[0m\u001b[1;33m)\u001b[0m\u001b[1;33m\u001b[0m\u001b[1;33m\u001b[0m\u001b[0m\n\u001b[0m\u001b[0;32m   2315\u001b[0m             \u001b[1;32mreturn\u001b[0m \u001b[0mresult\u001b[0m\u001b[1;33m\u001b[0m\u001b[1;33m\u001b[0m\u001b[0m\n\u001b[0;32m   2316\u001b[0m \u001b[1;33m\u001b[0m\u001b[0m\n",
      "\u001b[1;32m<C:\\Users\\kazayu01\\AppData\\Local\\Continuum\\anaconda3\\lib\\site-packages\\decorator.py:decorator-gen-65>\u001b[0m in \u001b[0;36mload_ext\u001b[1;34m(self, module_str)\u001b[0m\n",
      "\u001b[1;32m~\\AppData\\Local\\Continuum\\anaconda3\\lib\\site-packages\\IPython\\core\\magic.py\u001b[0m in \u001b[0;36m<lambda>\u001b[1;34m(f, *a, **k)\u001b[0m\n\u001b[0;32m    185\u001b[0m     \u001b[1;31m# but it's overkill for just that one bit of state.\u001b[0m\u001b[1;33m\u001b[0m\u001b[1;33m\u001b[0m\u001b[1;33m\u001b[0m\u001b[0m\n\u001b[0;32m    186\u001b[0m     \u001b[1;32mdef\u001b[0m \u001b[0mmagic_deco\u001b[0m\u001b[1;33m(\u001b[0m\u001b[0marg\u001b[0m\u001b[1;33m)\u001b[0m\u001b[1;33m:\u001b[0m\u001b[1;33m\u001b[0m\u001b[1;33m\u001b[0m\u001b[0m\n\u001b[1;32m--> 187\u001b[1;33m         \u001b[0mcall\u001b[0m \u001b[1;33m=\u001b[0m \u001b[1;32mlambda\u001b[0m \u001b[0mf\u001b[0m\u001b[1;33m,\u001b[0m \u001b[1;33m*\u001b[0m\u001b[0ma\u001b[0m\u001b[1;33m,\u001b[0m \u001b[1;33m**\u001b[0m\u001b[0mk\u001b[0m\u001b[1;33m:\u001b[0m \u001b[0mf\u001b[0m\u001b[1;33m(\u001b[0m\u001b[1;33m*\u001b[0m\u001b[0ma\u001b[0m\u001b[1;33m,\u001b[0m \u001b[1;33m**\u001b[0m\u001b[0mk\u001b[0m\u001b[1;33m)\u001b[0m\u001b[1;33m\u001b[0m\u001b[1;33m\u001b[0m\u001b[0m\n\u001b[0m\u001b[0;32m    188\u001b[0m \u001b[1;33m\u001b[0m\u001b[0m\n\u001b[0;32m    189\u001b[0m         \u001b[1;32mif\u001b[0m \u001b[0mcallable\u001b[0m\u001b[1;33m(\u001b[0m\u001b[0marg\u001b[0m\u001b[1;33m)\u001b[0m\u001b[1;33m:\u001b[0m\u001b[1;33m\u001b[0m\u001b[1;33m\u001b[0m\u001b[0m\n",
      "\u001b[1;32m~\\AppData\\Local\\Continuum\\anaconda3\\lib\\site-packages\\IPython\\core\\magics\\extension.py\u001b[0m in \u001b[0;36mload_ext\u001b[1;34m(self, module_str)\u001b[0m\n\u001b[0;32m     31\u001b[0m         \u001b[1;32mif\u001b[0m \u001b[1;32mnot\u001b[0m \u001b[0mmodule_str\u001b[0m\u001b[1;33m:\u001b[0m\u001b[1;33m\u001b[0m\u001b[1;33m\u001b[0m\u001b[0m\n\u001b[0;32m     32\u001b[0m             \u001b[1;32mraise\u001b[0m \u001b[0mUsageError\u001b[0m\u001b[1;33m(\u001b[0m\u001b[1;34m'Missing module name.'\u001b[0m\u001b[1;33m)\u001b[0m\u001b[1;33m\u001b[0m\u001b[1;33m\u001b[0m\u001b[0m\n\u001b[1;32m---> 33\u001b[1;33m         \u001b[0mres\u001b[0m \u001b[1;33m=\u001b[0m \u001b[0mself\u001b[0m\u001b[1;33m.\u001b[0m\u001b[0mshell\u001b[0m\u001b[1;33m.\u001b[0m\u001b[0mextension_manager\u001b[0m\u001b[1;33m.\u001b[0m\u001b[0mload_extension\u001b[0m\u001b[1;33m(\u001b[0m\u001b[0mmodule_str\u001b[0m\u001b[1;33m)\u001b[0m\u001b[1;33m\u001b[0m\u001b[1;33m\u001b[0m\u001b[0m\n\u001b[0m\u001b[0;32m     34\u001b[0m \u001b[1;33m\u001b[0m\u001b[0m\n\u001b[0;32m     35\u001b[0m         \u001b[1;32mif\u001b[0m \u001b[0mres\u001b[0m \u001b[1;33m==\u001b[0m \u001b[1;34m'already loaded'\u001b[0m\u001b[1;33m:\u001b[0m\u001b[1;33m\u001b[0m\u001b[1;33m\u001b[0m\u001b[0m\n",
      "\u001b[1;32m~\\AppData\\Local\\Continuum\\anaconda3\\lib\\site-packages\\IPython\\core\\extensions.py\u001b[0m in \u001b[0;36mload_extension\u001b[1;34m(self, module_str)\u001b[0m\n\u001b[0;32m     78\u001b[0m             \u001b[1;32mif\u001b[0m \u001b[0mmodule_str\u001b[0m \u001b[1;32mnot\u001b[0m \u001b[1;32min\u001b[0m \u001b[0msys\u001b[0m\u001b[1;33m.\u001b[0m\u001b[0mmodules\u001b[0m\u001b[1;33m:\u001b[0m\u001b[1;33m\u001b[0m\u001b[1;33m\u001b[0m\u001b[0m\n\u001b[0;32m     79\u001b[0m                 \u001b[1;32mwith\u001b[0m \u001b[0mprepended_to_syspath\u001b[0m\u001b[1;33m(\u001b[0m\u001b[0mself\u001b[0m\u001b[1;33m.\u001b[0m\u001b[0mipython_extension_dir\u001b[0m\u001b[1;33m)\u001b[0m\u001b[1;33m:\u001b[0m\u001b[1;33m\u001b[0m\u001b[1;33m\u001b[0m\u001b[0m\n\u001b[1;32m---> 80\u001b[1;33m                     \u001b[0mmod\u001b[0m \u001b[1;33m=\u001b[0m \u001b[0mimport_module\u001b[0m\u001b[1;33m(\u001b[0m\u001b[0mmodule_str\u001b[0m\u001b[1;33m)\u001b[0m\u001b[1;33m\u001b[0m\u001b[1;33m\u001b[0m\u001b[0m\n\u001b[0m\u001b[0;32m     81\u001b[0m                     \u001b[1;32mif\u001b[0m \u001b[0mmod\u001b[0m\u001b[1;33m.\u001b[0m\u001b[0m__file__\u001b[0m\u001b[1;33m.\u001b[0m\u001b[0mstartswith\u001b[0m\u001b[1;33m(\u001b[0m\u001b[0mself\u001b[0m\u001b[1;33m.\u001b[0m\u001b[0mipython_extension_dir\u001b[0m\u001b[1;33m)\u001b[0m\u001b[1;33m:\u001b[0m\u001b[1;33m\u001b[0m\u001b[1;33m\u001b[0m\u001b[0m\n\u001b[0;32m     82\u001b[0m                         print((\"Loading extensions from {dir} is deprecated. \"\n",
      "\u001b[1;32m~\\AppData\\Local\\Continuum\\anaconda3\\lib\\importlib\\__init__.py\u001b[0m in \u001b[0;36mimport_module\u001b[1;34m(name, package)\u001b[0m\n\u001b[0;32m    125\u001b[0m                 \u001b[1;32mbreak\u001b[0m\u001b[1;33m\u001b[0m\u001b[1;33m\u001b[0m\u001b[0m\n\u001b[0;32m    126\u001b[0m             \u001b[0mlevel\u001b[0m \u001b[1;33m+=\u001b[0m \u001b[1;36m1\u001b[0m\u001b[1;33m\u001b[0m\u001b[1;33m\u001b[0m\u001b[0m\n\u001b[1;32m--> 127\u001b[1;33m     \u001b[1;32mreturn\u001b[0m \u001b[0m_bootstrap\u001b[0m\u001b[1;33m.\u001b[0m\u001b[0m_gcd_import\u001b[0m\u001b[1;33m(\u001b[0m\u001b[0mname\u001b[0m\u001b[1;33m[\u001b[0m\u001b[0mlevel\u001b[0m\u001b[1;33m:\u001b[0m\u001b[1;33m]\u001b[0m\u001b[1;33m,\u001b[0m \u001b[0mpackage\u001b[0m\u001b[1;33m,\u001b[0m \u001b[0mlevel\u001b[0m\u001b[1;33m)\u001b[0m\u001b[1;33m\u001b[0m\u001b[1;33m\u001b[0m\u001b[0m\n\u001b[0m\u001b[0;32m    128\u001b[0m \u001b[1;33m\u001b[0m\u001b[0m\n\u001b[0;32m    129\u001b[0m \u001b[1;33m\u001b[0m\u001b[0m\n",
      "\u001b[1;32m~\\AppData\\Local\\Continuum\\anaconda3\\lib\\importlib\\_bootstrap.py\u001b[0m in \u001b[0;36m_gcd_import\u001b[1;34m(name, package, level)\u001b[0m\n",
      "\u001b[1;32m~\\AppData\\Local\\Continuum\\anaconda3\\lib\\importlib\\_bootstrap.py\u001b[0m in \u001b[0;36m_find_and_load\u001b[1;34m(name, import_)\u001b[0m\n",
      "\u001b[1;32m~\\AppData\\Local\\Continuum\\anaconda3\\lib\\importlib\\_bootstrap.py\u001b[0m in \u001b[0;36m_find_and_load_unlocked\u001b[1;34m(name, import_)\u001b[0m\n",
      "\u001b[1;31mModuleNotFoundError\u001b[0m: No module named 'nb_black'"
     ]
    }
   ],
   "source": [
    "# this will help in making the Python code more structured automatically (good coding practice)\n",
    "%load_ext nb_black"
   ]
  },
  {
   "cell_type": "markdown",
   "metadata": {
    "id": "ZzsW_RNeuNEx"
   },
   "source": [
    "### Import necessary libraries"
   ]
  },
  {
   "cell_type": "code",
   "execution_count": 2,
   "metadata": {},
   "outputs": [],
   "source": [
    "import pandas as pd\n",
    "import numpy as np\n",
    "import matplotlib.pyplot as plt\n",
    "import seaborn as sns\n",
    "\n",
    "%matplotlib inline\n",
    "sns.set()\n",
    "\n",
    "# Removes the limit for the number of displayed columns\n",
    "pd.set_option(\"display.max_columns\", None)\n",
    "# Sets the limit for the number of displayed rows\n",
    "pd.set_option(\"display.max_rows\", 200)\n",
    "\n",
    "# To build linear regression model for prediction\n",
    "from sklearn.linear_model import LinearRegression\n",
    "\n",
    "# To check model performance\n",
    "from sklearn.metrics import mean_squared_error, r2_score, mean_absolute_error"
   ]
  },
  {
   "cell_type": "markdown",
   "metadata": {
    "id": "sAccTEIqj9VV"
   },
   "source": [
    "### Load data"
   ]
  },
  {
   "cell_type": "code",
   "execution_count": 3,
   "metadata": {
    "id": "STzpWgWu9WJZ"
   },
   "outputs": [
    {
     "data": {
      "application/javascript": [
       "\n",
       "            setTimeout(function() {\n",
       "                var nbb_cell_id = 3;\n",
       "                var nbb_unformatted_code = \"df = pd.read_csv(\\\"anime_data.csv\\\")\";\n",
       "                var nbb_formatted_code = \"df = pd.read_csv(\\\"anime_data.csv\\\")\";\n",
       "                var nbb_cells = Jupyter.notebook.get_cells();\n",
       "                for (var i = 0; i < nbb_cells.length; ++i) {\n",
       "                    if (nbb_cells[i].input_prompt_number == nbb_cell_id) {\n",
       "                        if (nbb_cells[i].get_text() == nbb_unformatted_code) {\n",
       "                             nbb_cells[i].set_text(nbb_formatted_code);\n",
       "                        }\n",
       "                        break;\n",
       "                    }\n",
       "                }\n",
       "            }, 500);\n",
       "            "
      ],
      "text/plain": [
       "<IPython.core.display.Javascript object>"
      ]
     },
     "metadata": {},
     "output_type": "display_data"
    }
   ],
   "source": [
    "df = pd.read_csv(\"anime_data.csv\")"
   ]
  },
  {
   "cell_type": "code",
   "execution_count": 4,
   "metadata": {},
   "outputs": [
    {
     "data": {
      "text/plain": [
       "(12101, 44)"
      ]
     },
     "execution_count": 4,
     "metadata": {},
     "output_type": "execute_result"
    },
    {
     "data": {
      "application/javascript": [
       "\n",
       "            setTimeout(function() {\n",
       "                var nbb_cell_id = 4;\n",
       "                var nbb_unformatted_code = \"df.shape\";\n",
       "                var nbb_formatted_code = \"df.shape\";\n",
       "                var nbb_cells = Jupyter.notebook.get_cells();\n",
       "                for (var i = 0; i < nbb_cells.length; ++i) {\n",
       "                    if (nbb_cells[i].input_prompt_number == nbb_cell_id) {\n",
       "                        if (nbb_cells[i].get_text() == nbb_unformatted_code) {\n",
       "                             nbb_cells[i].set_text(nbb_formatted_code);\n",
       "                        }\n",
       "                        break;\n",
       "                    }\n",
       "                }\n",
       "            }, 500);\n",
       "            "
      ],
      "text/plain": [
       "<IPython.core.display.Javascript object>"
      ]
     },
     "metadata": {},
     "output_type": "display_data"
    }
   ],
   "source": [
    "df.shape"
   ]
  },
  {
   "cell_type": "markdown",
   "metadata": {},
   "source": [
    "* The dataset has 12101 rows and 44 columns "
   ]
  },
  {
   "cell_type": "code",
   "execution_count": 5,
   "metadata": {},
   "outputs": [
    {
     "data": {
      "application/javascript": [
       "\n",
       "            setTimeout(function() {\n",
       "                var nbb_cell_id = 5;\n",
       "                var nbb_unformatted_code = \"# copying the data to another variable to avoid any changes to original data\\ndata = df.copy()\";\n",
       "                var nbb_formatted_code = \"# copying the data to another variable to avoid any changes to original data\\ndata = df.copy()\";\n",
       "                var nbb_cells = Jupyter.notebook.get_cells();\n",
       "                for (var i = 0; i < nbb_cells.length; ++i) {\n",
       "                    if (nbb_cells[i].input_prompt_number == nbb_cell_id) {\n",
       "                        if (nbb_cells[i].get_text() == nbb_unformatted_code) {\n",
       "                             nbb_cells[i].set_text(nbb_formatted_code);\n",
       "                        }\n",
       "                        break;\n",
       "                    }\n",
       "                }\n",
       "            }, 500);\n",
       "            "
      ],
      "text/plain": [
       "<IPython.core.display.Javascript object>"
      ]
     },
     "metadata": {},
     "output_type": "display_data"
    }
   ],
   "source": [
    "# copying the data to another variable to avoid any changes to original data\n",
    "data = df.copy()"
   ]
  },
  {
   "cell_type": "markdown",
   "metadata": {},
   "source": [
    "**Let's view the first 5 and last 5 rows of the dataset.**"
   ]
  },
  {
   "cell_type": "code",
   "execution_count": 6,
   "metadata": {
    "colab": {
     "base_uri": "https://localhost:8080/",
     "height": 306
    },
    "id": "frKZJfik9WJc",
    "outputId": "80196792-f0f7-4482-d9be-ba731e441e23"
   },
   "outputs": [
    {
     "data": {
      "text/html": [
       "<div>\n",
       "<style scoped>\n",
       "    .dataframe tbody tr th:only-of-type {\n",
       "        vertical-align: middle;\n",
       "    }\n",
       "\n",
       "    .dataframe tbody tr th {\n",
       "        vertical-align: top;\n",
       "    }\n",
       "\n",
       "    .dataframe thead th {\n",
       "        text-align: right;\n",
       "    }\n",
       "</style>\n",
       "<table border=\"1\" class=\"dataframe\">\n",
       "  <thead>\n",
       "    <tr style=\"text-align: right;\">\n",
       "      <th></th>\n",
       "      <th>title</th>\n",
       "      <th>description</th>\n",
       "      <th>mediaType</th>\n",
       "      <th>eps</th>\n",
       "      <th>duration</th>\n",
       "      <th>ongoing</th>\n",
       "      <th>sznOfRelease</th>\n",
       "      <th>years_running</th>\n",
       "      <th>studio_primary</th>\n",
       "      <th>studios_colab</th>\n",
       "      <th>contentWarn</th>\n",
       "      <th>watched</th>\n",
       "      <th>watching</th>\n",
       "      <th>wantWatch</th>\n",
       "      <th>dropped</th>\n",
       "      <th>rating</th>\n",
       "      <th>votes</th>\n",
       "      <th>tag_Based_on_a_Manga</th>\n",
       "      <th>tag_Comedy</th>\n",
       "      <th>tag_Action</th>\n",
       "      <th>tag_Fantasy</th>\n",
       "      <th>tag_Sci_Fi</th>\n",
       "      <th>tag_Shounen</th>\n",
       "      <th>tag_Original_Work</th>\n",
       "      <th>tag_Non_Human_Protagonists</th>\n",
       "      <th>tag_Drama</th>\n",
       "      <th>tag_Adventure</th>\n",
       "      <th>tag_Family_Friendly</th>\n",
       "      <th>tag_Short_Episodes</th>\n",
       "      <th>tag_School_Life</th>\n",
       "      <th>tag_Romance</th>\n",
       "      <th>tag_Shorts</th>\n",
       "      <th>tag_Slice_of_Life</th>\n",
       "      <th>tag_Seinen</th>\n",
       "      <th>tag_Supernatural</th>\n",
       "      <th>tag_Magic</th>\n",
       "      <th>tag_Animal_Protagonists</th>\n",
       "      <th>tag_Ecchi</th>\n",
       "      <th>tag_Mecha</th>\n",
       "      <th>tag_Based_on_a_Light_Novel</th>\n",
       "      <th>tag_CG_Animation</th>\n",
       "      <th>tag_Superpowers</th>\n",
       "      <th>tag_Others</th>\n",
       "      <th>tag_missing</th>\n",
       "    </tr>\n",
       "  </thead>\n",
       "  <tbody>\n",
       "    <tr>\n",
       "      <th>0</th>\n",
       "      <td>Fullmetal Alchemist: Brotherhood</td>\n",
       "      <td>The foundation of alchemy is based on the law ...</td>\n",
       "      <td>TV</td>\n",
       "      <td>64</td>\n",
       "      <td>NaN</td>\n",
       "      <td>False</td>\n",
       "      <td>Spring</td>\n",
       "      <td>1</td>\n",
       "      <td>Bones</td>\n",
       "      <td>0</td>\n",
       "      <td>1</td>\n",
       "      <td>103707.0</td>\n",
       "      <td>14351</td>\n",
       "      <td>25810</td>\n",
       "      <td>2656</td>\n",
       "      <td>4.702</td>\n",
       "      <td>86547</td>\n",
       "      <td>1</td>\n",
       "      <td>0</td>\n",
       "      <td>1</td>\n",
       "      <td>1</td>\n",
       "      <td>0</td>\n",
       "      <td>1</td>\n",
       "      <td>0</td>\n",
       "      <td>0</td>\n",
       "      <td>1</td>\n",
       "      <td>1</td>\n",
       "      <td>0</td>\n",
       "      <td>0</td>\n",
       "      <td>0</td>\n",
       "      <td>0</td>\n",
       "      <td>0</td>\n",
       "      <td>0</td>\n",
       "      <td>0</td>\n",
       "      <td>0</td>\n",
       "      <td>0</td>\n",
       "      <td>0</td>\n",
       "      <td>0</td>\n",
       "      <td>0</td>\n",
       "      <td>0</td>\n",
       "      <td>0</td>\n",
       "      <td>0</td>\n",
       "      <td>0</td>\n",
       "      <td>0</td>\n",
       "    </tr>\n",
       "    <tr>\n",
       "      <th>1</th>\n",
       "      <td>your name.</td>\n",
       "      <td>Mitsuha and Taki are two total strangers livin...</td>\n",
       "      <td>Movie</td>\n",
       "      <td>1</td>\n",
       "      <td>107.0</td>\n",
       "      <td>False</td>\n",
       "      <td>is_missing</td>\n",
       "      <td>0</td>\n",
       "      <td>Others</td>\n",
       "      <td>0</td>\n",
       "      <td>0</td>\n",
       "      <td>58831.0</td>\n",
       "      <td>1453</td>\n",
       "      <td>21733</td>\n",
       "      <td>124</td>\n",
       "      <td>4.663</td>\n",
       "      <td>43960</td>\n",
       "      <td>0</td>\n",
       "      <td>0</td>\n",
       "      <td>0</td>\n",
       "      <td>0</td>\n",
       "      <td>0</td>\n",
       "      <td>0</td>\n",
       "      <td>1</td>\n",
       "      <td>0</td>\n",
       "      <td>1</td>\n",
       "      <td>0</td>\n",
       "      <td>0</td>\n",
       "      <td>0</td>\n",
       "      <td>1</td>\n",
       "      <td>1</td>\n",
       "      <td>0</td>\n",
       "      <td>0</td>\n",
       "      <td>0</td>\n",
       "      <td>1</td>\n",
       "      <td>0</td>\n",
       "      <td>0</td>\n",
       "      <td>0</td>\n",
       "      <td>0</td>\n",
       "      <td>0</td>\n",
       "      <td>0</td>\n",
       "      <td>0</td>\n",
       "      <td>0</td>\n",
       "      <td>0</td>\n",
       "    </tr>\n",
       "    <tr>\n",
       "      <th>2</th>\n",
       "      <td>A Silent Voice</td>\n",
       "      <td>After transferring into a new school, a deaf g...</td>\n",
       "      <td>Movie</td>\n",
       "      <td>1</td>\n",
       "      <td>130.0</td>\n",
       "      <td>False</td>\n",
       "      <td>is_missing</td>\n",
       "      <td>0</td>\n",
       "      <td>Kyoto Animation</td>\n",
       "      <td>0</td>\n",
       "      <td>1</td>\n",
       "      <td>45892.0</td>\n",
       "      <td>946</td>\n",
       "      <td>17148</td>\n",
       "      <td>132</td>\n",
       "      <td>4.661</td>\n",
       "      <td>33752</td>\n",
       "      <td>1</td>\n",
       "      <td>0</td>\n",
       "      <td>0</td>\n",
       "      <td>0</td>\n",
       "      <td>0</td>\n",
       "      <td>1</td>\n",
       "      <td>0</td>\n",
       "      <td>0</td>\n",
       "      <td>1</td>\n",
       "      <td>0</td>\n",
       "      <td>0</td>\n",
       "      <td>0</td>\n",
       "      <td>1</td>\n",
       "      <td>0</td>\n",
       "      <td>0</td>\n",
       "      <td>0</td>\n",
       "      <td>0</td>\n",
       "      <td>0</td>\n",
       "      <td>0</td>\n",
       "      <td>0</td>\n",
       "      <td>0</td>\n",
       "      <td>0</td>\n",
       "      <td>0</td>\n",
       "      <td>0</td>\n",
       "      <td>0</td>\n",
       "      <td>0</td>\n",
       "      <td>0</td>\n",
       "    </tr>\n",
       "    <tr>\n",
       "      <th>3</th>\n",
       "      <td>Haikyuu!! Karasuno High School vs Shiratorizaw...</td>\n",
       "      <td>Picking up where the second season ended, the ...</td>\n",
       "      <td>TV</td>\n",
       "      <td>10</td>\n",
       "      <td>NaN</td>\n",
       "      <td>False</td>\n",
       "      <td>Fall</td>\n",
       "      <td>0</td>\n",
       "      <td>Production I.G</td>\n",
       "      <td>0</td>\n",
       "      <td>0</td>\n",
       "      <td>25134.0</td>\n",
       "      <td>2183</td>\n",
       "      <td>8082</td>\n",
       "      <td>167</td>\n",
       "      <td>4.660</td>\n",
       "      <td>17422</td>\n",
       "      <td>1</td>\n",
       "      <td>0</td>\n",
       "      <td>0</td>\n",
       "      <td>0</td>\n",
       "      <td>0</td>\n",
       "      <td>1</td>\n",
       "      <td>0</td>\n",
       "      <td>0</td>\n",
       "      <td>0</td>\n",
       "      <td>0</td>\n",
       "      <td>0</td>\n",
       "      <td>0</td>\n",
       "      <td>1</td>\n",
       "      <td>0</td>\n",
       "      <td>0</td>\n",
       "      <td>0</td>\n",
       "      <td>0</td>\n",
       "      <td>0</td>\n",
       "      <td>0</td>\n",
       "      <td>0</td>\n",
       "      <td>0</td>\n",
       "      <td>0</td>\n",
       "      <td>0</td>\n",
       "      <td>0</td>\n",
       "      <td>0</td>\n",
       "      <td>0</td>\n",
       "      <td>0</td>\n",
       "    </tr>\n",
       "    <tr>\n",
       "      <th>4</th>\n",
       "      <td>Attack on Titan 3rd Season: Part II</td>\n",
       "      <td>The battle to retake Wall Maria begins now! Wi...</td>\n",
       "      <td>TV</td>\n",
       "      <td>10</td>\n",
       "      <td>NaN</td>\n",
       "      <td>False</td>\n",
       "      <td>Spring</td>\n",
       "      <td>0</td>\n",
       "      <td>Others</td>\n",
       "      <td>0</td>\n",
       "      <td>1</td>\n",
       "      <td>21308.0</td>\n",
       "      <td>3217</td>\n",
       "      <td>7864</td>\n",
       "      <td>174</td>\n",
       "      <td>4.650</td>\n",
       "      <td>15789</td>\n",
       "      <td>1</td>\n",
       "      <td>0</td>\n",
       "      <td>1</td>\n",
       "      <td>1</td>\n",
       "      <td>0</td>\n",
       "      <td>1</td>\n",
       "      <td>0</td>\n",
       "      <td>0</td>\n",
       "      <td>0</td>\n",
       "      <td>0</td>\n",
       "      <td>0</td>\n",
       "      <td>0</td>\n",
       "      <td>0</td>\n",
       "      <td>0</td>\n",
       "      <td>0</td>\n",
       "      <td>0</td>\n",
       "      <td>0</td>\n",
       "      <td>0</td>\n",
       "      <td>0</td>\n",
       "      <td>0</td>\n",
       "      <td>0</td>\n",
       "      <td>0</td>\n",
       "      <td>0</td>\n",
       "      <td>0</td>\n",
       "      <td>0</td>\n",
       "      <td>0</td>\n",
       "      <td>0</td>\n",
       "    </tr>\n",
       "  </tbody>\n",
       "</table>\n",
       "</div>"
      ],
      "text/plain": [
       "                                               title  \\\n",
       "0                   Fullmetal Alchemist: Brotherhood   \n",
       "1                                         your name.   \n",
       "2                                     A Silent Voice   \n",
       "3  Haikyuu!! Karasuno High School vs Shiratorizaw...   \n",
       "4                Attack on Titan 3rd Season: Part II   \n",
       "\n",
       "                                         description mediaType  eps  duration  \\\n",
       "0  The foundation of alchemy is based on the law ...        TV   64       NaN   \n",
       "1  Mitsuha and Taki are two total strangers livin...     Movie    1     107.0   \n",
       "2  After transferring into a new school, a deaf g...     Movie    1     130.0   \n",
       "3  Picking up where the second season ended, the ...        TV   10       NaN   \n",
       "4  The battle to retake Wall Maria begins now! Wi...        TV   10       NaN   \n",
       "\n",
       "   ongoing sznOfRelease  years_running   studio_primary  studios_colab  \\\n",
       "0    False       Spring              1            Bones              0   \n",
       "1    False   is_missing              0           Others              0   \n",
       "2    False   is_missing              0  Kyoto Animation              0   \n",
       "3    False         Fall              0   Production I.G              0   \n",
       "4    False       Spring              0           Others              0   \n",
       "\n",
       "   contentWarn   watched  watching  wantWatch  dropped  rating  votes  \\\n",
       "0            1  103707.0     14351      25810     2656   4.702  86547   \n",
       "1            0   58831.0      1453      21733      124   4.663  43960   \n",
       "2            1   45892.0       946      17148      132   4.661  33752   \n",
       "3            0   25134.0      2183       8082      167   4.660  17422   \n",
       "4            1   21308.0      3217       7864      174   4.650  15789   \n",
       "\n",
       "   tag_Based_on_a_Manga  tag_Comedy  tag_Action  tag_Fantasy  tag_Sci_Fi  \\\n",
       "0                     1           0           1            1           0   \n",
       "1                     0           0           0            0           0   \n",
       "2                     1           0           0            0           0   \n",
       "3                     1           0           0            0           0   \n",
       "4                     1           0           1            1           0   \n",
       "\n",
       "   tag_Shounen  tag_Original_Work  tag_Non_Human_Protagonists  tag_Drama  \\\n",
       "0            1                  0                           0          1   \n",
       "1            0                  1                           0          1   \n",
       "2            1                  0                           0          1   \n",
       "3            1                  0                           0          0   \n",
       "4            1                  0                           0          0   \n",
       "\n",
       "   tag_Adventure  tag_Family_Friendly  tag_Short_Episodes  tag_School_Life  \\\n",
       "0              1                    0                   0                0   \n",
       "1              0                    0                   0                1   \n",
       "2              0                    0                   0                1   \n",
       "3              0                    0                   0                1   \n",
       "4              0                    0                   0                0   \n",
       "\n",
       "   tag_Romance  tag_Shorts  tag_Slice_of_Life  tag_Seinen  tag_Supernatural  \\\n",
       "0            0           0                  0           0                 0   \n",
       "1            1           0                  0           0                 1   \n",
       "2            0           0                  0           0                 0   \n",
       "3            0           0                  0           0                 0   \n",
       "4            0           0                  0           0                 0   \n",
       "\n",
       "   tag_Magic  tag_Animal_Protagonists  tag_Ecchi  tag_Mecha  \\\n",
       "0          0                        0          0          0   \n",
       "1          0                        0          0          0   \n",
       "2          0                        0          0          0   \n",
       "3          0                        0          0          0   \n",
       "4          0                        0          0          0   \n",
       "\n",
       "   tag_Based_on_a_Light_Novel  tag_CG_Animation  tag_Superpowers  tag_Others  \\\n",
       "0                           0                 0                0           0   \n",
       "1                           0                 0                0           0   \n",
       "2                           0                 0                0           0   \n",
       "3                           0                 0                0           0   \n",
       "4                           0                 0                0           0   \n",
       "\n",
       "   tag_missing  \n",
       "0            0  \n",
       "1            0  \n",
       "2            0  \n",
       "3            0  \n",
       "4            0  "
      ]
     },
     "execution_count": 6,
     "metadata": {},
     "output_type": "execute_result"
    },
    {
     "data": {
      "application/javascript": [
       "\n",
       "            setTimeout(function() {\n",
       "                var nbb_cell_id = 6;\n",
       "                var nbb_unformatted_code = \"# to view first 5 rows of the dataset\\ndata.head()\";\n",
       "                var nbb_formatted_code = \"# to view first 5 rows of the dataset\\ndata.head()\";\n",
       "                var nbb_cells = Jupyter.notebook.get_cells();\n",
       "                for (var i = 0; i < nbb_cells.length; ++i) {\n",
       "                    if (nbb_cells[i].input_prompt_number == nbb_cell_id) {\n",
       "                        if (nbb_cells[i].get_text() == nbb_unformatted_code) {\n",
       "                             nbb_cells[i].set_text(nbb_formatted_code);\n",
       "                        }\n",
       "                        break;\n",
       "                    }\n",
       "                }\n",
       "            }, 500);\n",
       "            "
      ],
      "text/plain": [
       "<IPython.core.display.Javascript object>"
      ]
     },
     "metadata": {},
     "output_type": "display_data"
    }
   ],
   "source": [
    "# to view first 5 rows of the dataset\n",
    "data.head()"
   ]
  },
  {
   "cell_type": "code",
   "execution_count": 7,
   "metadata": {},
   "outputs": [
    {
     "data": {
      "text/html": [
       "<div>\n",
       "<style scoped>\n",
       "    .dataframe tbody tr th:only-of-type {\n",
       "        vertical-align: middle;\n",
       "    }\n",
       "\n",
       "    .dataframe tbody tr th {\n",
       "        vertical-align: top;\n",
       "    }\n",
       "\n",
       "    .dataframe thead th {\n",
       "        text-align: right;\n",
       "    }\n",
       "</style>\n",
       "<table border=\"1\" class=\"dataframe\">\n",
       "  <thead>\n",
       "    <tr style=\"text-align: right;\">\n",
       "      <th></th>\n",
       "      <th>title</th>\n",
       "      <th>description</th>\n",
       "      <th>mediaType</th>\n",
       "      <th>eps</th>\n",
       "      <th>duration</th>\n",
       "      <th>ongoing</th>\n",
       "      <th>sznOfRelease</th>\n",
       "      <th>years_running</th>\n",
       "      <th>studio_primary</th>\n",
       "      <th>studios_colab</th>\n",
       "      <th>contentWarn</th>\n",
       "      <th>watched</th>\n",
       "      <th>watching</th>\n",
       "      <th>wantWatch</th>\n",
       "      <th>dropped</th>\n",
       "      <th>rating</th>\n",
       "      <th>votes</th>\n",
       "      <th>tag_Based_on_a_Manga</th>\n",
       "      <th>tag_Comedy</th>\n",
       "      <th>tag_Action</th>\n",
       "      <th>tag_Fantasy</th>\n",
       "      <th>tag_Sci_Fi</th>\n",
       "      <th>tag_Shounen</th>\n",
       "      <th>tag_Original_Work</th>\n",
       "      <th>tag_Non_Human_Protagonists</th>\n",
       "      <th>tag_Drama</th>\n",
       "      <th>tag_Adventure</th>\n",
       "      <th>tag_Family_Friendly</th>\n",
       "      <th>tag_Short_Episodes</th>\n",
       "      <th>tag_School_Life</th>\n",
       "      <th>tag_Romance</th>\n",
       "      <th>tag_Shorts</th>\n",
       "      <th>tag_Slice_of_Life</th>\n",
       "      <th>tag_Seinen</th>\n",
       "      <th>tag_Supernatural</th>\n",
       "      <th>tag_Magic</th>\n",
       "      <th>tag_Animal_Protagonists</th>\n",
       "      <th>tag_Ecchi</th>\n",
       "      <th>tag_Mecha</th>\n",
       "      <th>tag_Based_on_a_Light_Novel</th>\n",
       "      <th>tag_CG_Animation</th>\n",
       "      <th>tag_Superpowers</th>\n",
       "      <th>tag_Others</th>\n",
       "      <th>tag_missing</th>\n",
       "    </tr>\n",
       "  </thead>\n",
       "  <tbody>\n",
       "    <tr>\n",
       "      <th>12096</th>\n",
       "      <td>Sore Ike! Anpanman: Kirameke! Ice no Kuni no V...</td>\n",
       "      <td>Princess Vanilla is a princess in a land of ic...</td>\n",
       "      <td>Movie</td>\n",
       "      <td>1</td>\n",
       "      <td>NaN</td>\n",
       "      <td>False</td>\n",
       "      <td>is_missing</td>\n",
       "      <td>0</td>\n",
       "      <td>TMS Entertainment</td>\n",
       "      <td>0</td>\n",
       "      <td>0</td>\n",
       "      <td>22.0</td>\n",
       "      <td>1</td>\n",
       "      <td>29</td>\n",
       "      <td>1</td>\n",
       "      <td>2.807</td>\n",
       "      <td>10</td>\n",
       "      <td>0</td>\n",
       "      <td>0</td>\n",
       "      <td>0</td>\n",
       "      <td>0</td>\n",
       "      <td>0</td>\n",
       "      <td>0</td>\n",
       "      <td>0</td>\n",
       "      <td>1</td>\n",
       "      <td>0</td>\n",
       "      <td>0</td>\n",
       "      <td>1</td>\n",
       "      <td>0</td>\n",
       "      <td>0</td>\n",
       "      <td>0</td>\n",
       "      <td>0</td>\n",
       "      <td>0</td>\n",
       "      <td>0</td>\n",
       "      <td>0</td>\n",
       "      <td>0</td>\n",
       "      <td>0</td>\n",
       "      <td>0</td>\n",
       "      <td>0</td>\n",
       "      <td>0</td>\n",
       "      <td>0</td>\n",
       "      <td>0</td>\n",
       "      <td>0</td>\n",
       "      <td>0</td>\n",
       "    </tr>\n",
       "    <tr>\n",
       "      <th>12097</th>\n",
       "      <td>Hulaing Babies Petit</td>\n",
       "      <td>NaN</td>\n",
       "      <td>TV</td>\n",
       "      <td>12</td>\n",
       "      <td>5.0</td>\n",
       "      <td>False</td>\n",
       "      <td>Winter</td>\n",
       "      <td>0</td>\n",
       "      <td>Others</td>\n",
       "      <td>0</td>\n",
       "      <td>0</td>\n",
       "      <td>13.0</td>\n",
       "      <td>10</td>\n",
       "      <td>77</td>\n",
       "      <td>2</td>\n",
       "      <td>2.090</td>\n",
       "      <td>10</td>\n",
       "      <td>0</td>\n",
       "      <td>1</td>\n",
       "      <td>0</td>\n",
       "      <td>0</td>\n",
       "      <td>0</td>\n",
       "      <td>0</td>\n",
       "      <td>1</td>\n",
       "      <td>0</td>\n",
       "      <td>0</td>\n",
       "      <td>0</td>\n",
       "      <td>0</td>\n",
       "      <td>1</td>\n",
       "      <td>0</td>\n",
       "      <td>0</td>\n",
       "      <td>0</td>\n",
       "      <td>0</td>\n",
       "      <td>0</td>\n",
       "      <td>0</td>\n",
       "      <td>0</td>\n",
       "      <td>0</td>\n",
       "      <td>0</td>\n",
       "      <td>0</td>\n",
       "      <td>0</td>\n",
       "      <td>0</td>\n",
       "      <td>0</td>\n",
       "      <td>0</td>\n",
       "      <td>0</td>\n",
       "    </tr>\n",
       "    <tr>\n",
       "      <th>12098</th>\n",
       "      <td>Marco &amp; The Galaxy Dragon</td>\n",
       "      <td>NaN</td>\n",
       "      <td>OVA</td>\n",
       "      <td>1</td>\n",
       "      <td>NaN</td>\n",
       "      <td>False</td>\n",
       "      <td>is_missing</td>\n",
       "      <td>0</td>\n",
       "      <td>is_missing</td>\n",
       "      <td>0</td>\n",
       "      <td>0</td>\n",
       "      <td>17.0</td>\n",
       "      <td>0</td>\n",
       "      <td>65</td>\n",
       "      <td>0</td>\n",
       "      <td>2.543</td>\n",
       "      <td>10</td>\n",
       "      <td>0</td>\n",
       "      <td>1</td>\n",
       "      <td>1</td>\n",
       "      <td>0</td>\n",
       "      <td>0</td>\n",
       "      <td>0</td>\n",
       "      <td>0</td>\n",
       "      <td>0</td>\n",
       "      <td>0</td>\n",
       "      <td>0</td>\n",
       "      <td>0</td>\n",
       "      <td>0</td>\n",
       "      <td>0</td>\n",
       "      <td>0</td>\n",
       "      <td>0</td>\n",
       "      <td>0</td>\n",
       "      <td>0</td>\n",
       "      <td>0</td>\n",
       "      <td>0</td>\n",
       "      <td>0</td>\n",
       "      <td>0</td>\n",
       "      <td>0</td>\n",
       "      <td>0</td>\n",
       "      <td>0</td>\n",
       "      <td>0</td>\n",
       "      <td>0</td>\n",
       "      <td>0</td>\n",
       "    </tr>\n",
       "    <tr>\n",
       "      <th>12099</th>\n",
       "      <td>Xing Chen Bian 2nd Season</td>\n",
       "      <td>Second season of Xing Chen Bian.</td>\n",
       "      <td>Web</td>\n",
       "      <td>3</td>\n",
       "      <td>24.0</td>\n",
       "      <td>True</td>\n",
       "      <td>is_missing</td>\n",
       "      <td>0</td>\n",
       "      <td>is_missing</td>\n",
       "      <td>0</td>\n",
       "      <td>0</td>\n",
       "      <td>40.5</td>\n",
       "      <td>31</td>\n",
       "      <td>22</td>\n",
       "      <td>0</td>\n",
       "      <td>3.941</td>\n",
       "      <td>10</td>\n",
       "      <td>0</td>\n",
       "      <td>0</td>\n",
       "      <td>1</td>\n",
       "      <td>0</td>\n",
       "      <td>0</td>\n",
       "      <td>0</td>\n",
       "      <td>0</td>\n",
       "      <td>0</td>\n",
       "      <td>0</td>\n",
       "      <td>0</td>\n",
       "      <td>0</td>\n",
       "      <td>0</td>\n",
       "      <td>0</td>\n",
       "      <td>0</td>\n",
       "      <td>0</td>\n",
       "      <td>0</td>\n",
       "      <td>0</td>\n",
       "      <td>0</td>\n",
       "      <td>0</td>\n",
       "      <td>0</td>\n",
       "      <td>0</td>\n",
       "      <td>0</td>\n",
       "      <td>0</td>\n",
       "      <td>1</td>\n",
       "      <td>0</td>\n",
       "      <td>0</td>\n",
       "      <td>0</td>\n",
       "    </tr>\n",
       "    <tr>\n",
       "      <th>12100</th>\n",
       "      <td>Ultra B: Black Hole kara no Dokusaisha BB!!</td>\n",
       "      <td>NaN</td>\n",
       "      <td>Movie</td>\n",
       "      <td>1</td>\n",
       "      <td>20.0</td>\n",
       "      <td>False</td>\n",
       "      <td>is_missing</td>\n",
       "      <td>0</td>\n",
       "      <td>Shin-Ei Animation</td>\n",
       "      <td>0</td>\n",
       "      <td>0</td>\n",
       "      <td>15.0</td>\n",
       "      <td>1</td>\n",
       "      <td>19</td>\n",
       "      <td>1</td>\n",
       "      <td>2.925</td>\n",
       "      <td>10</td>\n",
       "      <td>1</td>\n",
       "      <td>1</td>\n",
       "      <td>0</td>\n",
       "      <td>0</td>\n",
       "      <td>1</td>\n",
       "      <td>0</td>\n",
       "      <td>0</td>\n",
       "      <td>0</td>\n",
       "      <td>0</td>\n",
       "      <td>0</td>\n",
       "      <td>0</td>\n",
       "      <td>0</td>\n",
       "      <td>0</td>\n",
       "      <td>0</td>\n",
       "      <td>0</td>\n",
       "      <td>0</td>\n",
       "      <td>0</td>\n",
       "      <td>0</td>\n",
       "      <td>0</td>\n",
       "      <td>0</td>\n",
       "      <td>0</td>\n",
       "      <td>0</td>\n",
       "      <td>0</td>\n",
       "      <td>0</td>\n",
       "      <td>1</td>\n",
       "      <td>0</td>\n",
       "      <td>0</td>\n",
       "    </tr>\n",
       "  </tbody>\n",
       "</table>\n",
       "</div>"
      ],
      "text/plain": [
       "                                                   title  \\\n",
       "12096  Sore Ike! Anpanman: Kirameke! Ice no Kuni no V...   \n",
       "12097                               Hulaing Babies Petit   \n",
       "12098                          Marco & The Galaxy Dragon   \n",
       "12099                          Xing Chen Bian 2nd Season   \n",
       "12100        Ultra B: Black Hole kara no Dokusaisha BB!!   \n",
       "\n",
       "                                             description mediaType  eps  \\\n",
       "12096  Princess Vanilla is a princess in a land of ic...     Movie    1   \n",
       "12097                                                NaN        TV   12   \n",
       "12098                                                NaN       OVA    1   \n",
       "12099                   Second season of Xing Chen Bian.       Web    3   \n",
       "12100                                                NaN     Movie    1   \n",
       "\n",
       "       duration  ongoing sznOfRelease  years_running     studio_primary  \\\n",
       "12096       NaN    False   is_missing              0  TMS Entertainment   \n",
       "12097       5.0    False       Winter              0             Others   \n",
       "12098       NaN    False   is_missing              0         is_missing   \n",
       "12099      24.0     True   is_missing              0         is_missing   \n",
       "12100      20.0    False   is_missing              0  Shin-Ei Animation   \n",
       "\n",
       "       studios_colab  contentWarn  watched  watching  wantWatch  dropped  \\\n",
       "12096              0            0     22.0         1         29        1   \n",
       "12097              0            0     13.0        10         77        2   \n",
       "12098              0            0     17.0         0         65        0   \n",
       "12099              0            0     40.5        31         22        0   \n",
       "12100              0            0     15.0         1         19        1   \n",
       "\n",
       "       rating  votes  tag_Based_on_a_Manga  tag_Comedy  tag_Action  \\\n",
       "12096   2.807     10                     0           0           0   \n",
       "12097   2.090     10                     0           1           0   \n",
       "12098   2.543     10                     0           1           1   \n",
       "12099   3.941     10                     0           0           1   \n",
       "12100   2.925     10                     1           1           0   \n",
       "\n",
       "       tag_Fantasy  tag_Sci_Fi  tag_Shounen  tag_Original_Work  \\\n",
       "12096            0           0            0                  0   \n",
       "12097            0           0            0                  1   \n",
       "12098            0           0            0                  0   \n",
       "12099            0           0            0                  0   \n",
       "12100            0           1            0                  0   \n",
       "\n",
       "       tag_Non_Human_Protagonists  tag_Drama  tag_Adventure  \\\n",
       "12096                           1          0              0   \n",
       "12097                           0          0              0   \n",
       "12098                           0          0              0   \n",
       "12099                           0          0              0   \n",
       "12100                           0          0              0   \n",
       "\n",
       "       tag_Family_Friendly  tag_Short_Episodes  tag_School_Life  tag_Romance  \\\n",
       "12096                    1                   0                0            0   \n",
       "12097                    0                   1                0            0   \n",
       "12098                    0                   0                0            0   \n",
       "12099                    0                   0                0            0   \n",
       "12100                    0                   0                0            0   \n",
       "\n",
       "       tag_Shorts  tag_Slice_of_Life  tag_Seinen  tag_Supernatural  tag_Magic  \\\n",
       "12096           0                  0           0                 0          0   \n",
       "12097           0                  0           0                 0          0   \n",
       "12098           0                  0           0                 0          0   \n",
       "12099           0                  0           0                 0          0   \n",
       "12100           0                  0           0                 0          0   \n",
       "\n",
       "       tag_Animal_Protagonists  tag_Ecchi  tag_Mecha  \\\n",
       "12096                        0          0          0   \n",
       "12097                        0          0          0   \n",
       "12098                        0          0          0   \n",
       "12099                        0          0          0   \n",
       "12100                        0          0          0   \n",
       "\n",
       "       tag_Based_on_a_Light_Novel  tag_CG_Animation  tag_Superpowers  \\\n",
       "12096                           0                 0                0   \n",
       "12097                           0                 0                0   \n",
       "12098                           0                 0                0   \n",
       "12099                           0                 1                0   \n",
       "12100                           0                 0                1   \n",
       "\n",
       "       tag_Others  tag_missing  \n",
       "12096           0            0  \n",
       "12097           0            0  \n",
       "12098           0            0  \n",
       "12099           0            0  \n",
       "12100           0            0  "
      ]
     },
     "execution_count": 7,
     "metadata": {},
     "output_type": "execute_result"
    },
    {
     "data": {
      "application/javascript": [
       "\n",
       "            setTimeout(function() {\n",
       "                var nbb_cell_id = 7;\n",
       "                var nbb_unformatted_code = \"# to view last 5 rows of the dataset\\ndata.tail()\";\n",
       "                var nbb_formatted_code = \"# to view last 5 rows of the dataset\\ndata.tail()\";\n",
       "                var nbb_cells = Jupyter.notebook.get_cells();\n",
       "                for (var i = 0; i < nbb_cells.length; ++i) {\n",
       "                    if (nbb_cells[i].input_prompt_number == nbb_cell_id) {\n",
       "                        if (nbb_cells[i].get_text() == nbb_unformatted_code) {\n",
       "                             nbb_cells[i].set_text(nbb_formatted_code);\n",
       "                        }\n",
       "                        break;\n",
       "                    }\n",
       "                }\n",
       "            }, 500);\n",
       "            "
      ],
      "text/plain": [
       "<IPython.core.display.Javascript object>"
      ]
     },
     "metadata": {},
     "output_type": "display_data"
    }
   ],
   "source": [
    "# to view last 5 rows of the dataset\n",
    "data.tail()"
   ]
  },
  {
   "cell_type": "markdown",
   "metadata": {},
   "source": [
    "**Let's check the columns in the data.**"
   ]
  },
  {
   "cell_type": "code",
   "execution_count": 8,
   "metadata": {
    "colab": {
     "base_uri": "https://localhost:8080/"
    },
    "id": "3BUEfwoqudEU",
    "outputId": "4f861321-21f4-4fac-f144-1a3486e49f1f"
   },
   "outputs": [
    {
     "name": "stdout",
     "output_type": "stream",
     "text": [
      "Index(['title', 'description', 'mediaType', 'eps', 'duration', 'ongoing',\n",
      "       'sznOfRelease', 'years_running', 'studio_primary', 'studios_colab',\n",
      "       'contentWarn', 'watched', 'watching', 'wantWatch', 'dropped', 'rating',\n",
      "       'votes', 'tag_Based_on_a_Manga', 'tag_Comedy', 'tag_Action',\n",
      "       'tag_Fantasy', 'tag_Sci_Fi', 'tag_Shounen', 'tag_Original_Work',\n",
      "       'tag_Non_Human_Protagonists', 'tag_Drama', 'tag_Adventure',\n",
      "       'tag_Family_Friendly', 'tag_Short_Episodes', 'tag_School_Life',\n",
      "       'tag_Romance', 'tag_Shorts', 'tag_Slice_of_Life', 'tag_Seinen',\n",
      "       'tag_Supernatural', 'tag_Magic', 'tag_Animal_Protagonists', 'tag_Ecchi',\n",
      "       'tag_Mecha', 'tag_Based_on_a_Light_Novel', 'tag_CG_Animation',\n",
      "       'tag_Superpowers', 'tag_Others', 'tag_missing'],\n",
      "      dtype='object')\n"
     ]
    },
    {
     "data": {
      "application/javascript": [
       "\n",
       "            setTimeout(function() {\n",
       "                var nbb_cell_id = 8;\n",
       "                var nbb_unformatted_code = \"print(data.columns)\";\n",
       "                var nbb_formatted_code = \"print(data.columns)\";\n",
       "                var nbb_cells = Jupyter.notebook.get_cells();\n",
       "                for (var i = 0; i < nbb_cells.length; ++i) {\n",
       "                    if (nbb_cells[i].input_prompt_number == nbb_cell_id) {\n",
       "                        if (nbb_cells[i].get_text() == nbb_unformatted_code) {\n",
       "                             nbb_cells[i].set_text(nbb_formatted_code);\n",
       "                        }\n",
       "                        break;\n",
       "                    }\n",
       "                }\n",
       "            }, 500);\n",
       "            "
      ],
      "text/plain": [
       "<IPython.core.display.Javascript object>"
      ]
     },
     "metadata": {},
     "output_type": "display_data"
    }
   ],
   "source": [
    "print(data.columns)"
   ]
  },
  {
   "cell_type": "markdown",
   "metadata": {
    "colab_type": "text",
    "id": "mwAu-vEwhU2m"
   },
   "source": [
    "**Let's check the data types of the columns in the dataset.**"
   ]
  },
  {
   "cell_type": "code",
   "execution_count": 9,
   "metadata": {
    "colab": {
     "base_uri": "https://localhost:8080/"
    },
    "id": "UXqzxZrw9WJg",
    "outputId": "4d1e0b70-4911-4e63-d263-6168fa386b65",
    "scrolled": false
   },
   "outputs": [
    {
     "name": "stdout",
     "output_type": "stream",
     "text": [
      "<class 'pandas.core.frame.DataFrame'>\n",
      "RangeIndex: 12101 entries, 0 to 12100\n",
      "Data columns (total 44 columns):\n",
      " #   Column                      Non-Null Count  Dtype  \n",
      "---  ------                      --------------  -----  \n",
      " 0   title                       12101 non-null  object \n",
      " 1   description                 7633 non-null   object \n",
      " 2   mediaType                   12101 non-null  object \n",
      " 3   eps                         12101 non-null  int64  \n",
      " 4   duration                    7465 non-null   float64\n",
      " 5   ongoing                     12101 non-null  bool   \n",
      " 6   sznOfRelease                12101 non-null  object \n",
      " 7   years_running               12101 non-null  int64  \n",
      " 8   studio_primary              12101 non-null  object \n",
      " 9   studios_colab               12101 non-null  int64  \n",
      " 10  contentWarn                 12101 non-null  int64  \n",
      " 11  watched                     12101 non-null  float64\n",
      " 12  watching                    12101 non-null  int64  \n",
      " 13  wantWatch                   12101 non-null  int64  \n",
      " 14  dropped                     12101 non-null  int64  \n",
      " 15  rating                      12101 non-null  float64\n",
      " 16  votes                       12101 non-null  int64  \n",
      " 17  tag_Based_on_a_Manga        12101 non-null  int64  \n",
      " 18  tag_Comedy                  12101 non-null  int64  \n",
      " 19  tag_Action                  12101 non-null  int64  \n",
      " 20  tag_Fantasy                 12101 non-null  int64  \n",
      " 21  tag_Sci_Fi                  12101 non-null  int64  \n",
      " 22  tag_Shounen                 12101 non-null  int64  \n",
      " 23  tag_Original_Work           12101 non-null  int64  \n",
      " 24  tag_Non_Human_Protagonists  12101 non-null  int64  \n",
      " 25  tag_Drama                   12101 non-null  int64  \n",
      " 26  tag_Adventure               12101 non-null  int64  \n",
      " 27  tag_Family_Friendly         12101 non-null  int64  \n",
      " 28  tag_Short_Episodes          12101 non-null  int64  \n",
      " 29  tag_School_Life             12101 non-null  int64  \n",
      " 30  tag_Romance                 12101 non-null  int64  \n",
      " 31  tag_Shorts                  12101 non-null  int64  \n",
      " 32  tag_Slice_of_Life           12101 non-null  int64  \n",
      " 33  tag_Seinen                  12101 non-null  int64  \n",
      " 34  tag_Supernatural            12101 non-null  int64  \n",
      " 35  tag_Magic                   12101 non-null  int64  \n",
      " 36  tag_Animal_Protagonists     12101 non-null  int64  \n",
      " 37  tag_Ecchi                   12101 non-null  int64  \n",
      " 38  tag_Mecha                   12101 non-null  int64  \n",
      " 39  tag_Based_on_a_Light_Novel  12101 non-null  int64  \n",
      " 40  tag_CG_Animation            12101 non-null  int64  \n",
      " 41  tag_Superpowers             12101 non-null  int64  \n",
      " 42  tag_Others                  12101 non-null  int64  \n",
      " 43  tag_missing                 12101 non-null  int64  \n",
      "dtypes: bool(1), float64(3), int64(35), object(5)\n",
      "memory usage: 4.0+ MB\n"
     ]
    },
    {
     "data": {
      "application/javascript": [
       "\n",
       "            setTimeout(function() {\n",
       "                var nbb_cell_id = 9;\n",
       "                var nbb_unformatted_code = \"data.info()\";\n",
       "                var nbb_formatted_code = \"data.info()\";\n",
       "                var nbb_cells = Jupyter.notebook.get_cells();\n",
       "                for (var i = 0; i < nbb_cells.length; ++i) {\n",
       "                    if (nbb_cells[i].input_prompt_number == nbb_cell_id) {\n",
       "                        if (nbb_cells[i].get_text() == nbb_unformatted_code) {\n",
       "                             nbb_cells[i].set_text(nbb_formatted_code);\n",
       "                        }\n",
       "                        break;\n",
       "                    }\n",
       "                }\n",
       "            }, 500);\n",
       "            "
      ],
      "text/plain": [
       "<IPython.core.display.Javascript object>"
      ]
     },
     "metadata": {},
     "output_type": "display_data"
    }
   ],
   "source": [
    "data.info()"
   ]
  },
  {
   "cell_type": "markdown",
   "metadata": {
    "id": "kkceeszl9WJj"
   },
   "source": [
    "* Dependent variable is the rating of an anime, which if of *float* type.\n",
    "* *title*, *description*, *mediaType*, *sznOfRelease*, *studio_primary* are of *object* type.\n",
    "* *ongoing* column is of *bool* type.\n",
    "* All other columns are numeric in nature.\n",
    "* There are missing values in the *description* and *duration* columns."
   ]
  },
  {
   "cell_type": "markdown",
   "metadata": {},
   "source": [
    "**Let's check for missing values in the data.**"
   ]
  },
  {
   "cell_type": "code",
   "execution_count": 10,
   "metadata": {},
   "outputs": [
    {
     "data": {
      "text/plain": [
       "title                            0\n",
       "description                   4468\n",
       "mediaType                        0\n",
       "eps                              0\n",
       "duration                      4636\n",
       "ongoing                          0\n",
       "sznOfRelease                     0\n",
       "years_running                    0\n",
       "studio_primary                   0\n",
       "studios_colab                    0\n",
       "contentWarn                      0\n",
       "watched                          0\n",
       "watching                         0\n",
       "wantWatch                        0\n",
       "dropped                          0\n",
       "rating                           0\n",
       "votes                            0\n",
       "tag_Based_on_a_Manga             0\n",
       "tag_Comedy                       0\n",
       "tag_Action                       0\n",
       "tag_Fantasy                      0\n",
       "tag_Sci_Fi                       0\n",
       "tag_Shounen                      0\n",
       "tag_Original_Work                0\n",
       "tag_Non_Human_Protagonists       0\n",
       "tag_Drama                        0\n",
       "tag_Adventure                    0\n",
       "tag_Family_Friendly              0\n",
       "tag_Short_Episodes               0\n",
       "tag_School_Life                  0\n",
       "tag_Romance                      0\n",
       "tag_Shorts                       0\n",
       "tag_Slice_of_Life                0\n",
       "tag_Seinen                       0\n",
       "tag_Supernatural                 0\n",
       "tag_Magic                        0\n",
       "tag_Animal_Protagonists          0\n",
       "tag_Ecchi                        0\n",
       "tag_Mecha                        0\n",
       "tag_Based_on_a_Light_Novel       0\n",
       "tag_CG_Animation                 0\n",
       "tag_Superpowers                  0\n",
       "tag_Others                       0\n",
       "tag_missing                      0\n",
       "dtype: int64"
      ]
     },
     "execution_count": 10,
     "metadata": {},
     "output_type": "execute_result"
    },
    {
     "data": {
      "application/javascript": [
       "\n",
       "            setTimeout(function() {\n",
       "                var nbb_cell_id = 10;\n",
       "                var nbb_unformatted_code = \"data.isnull().sum()\";\n",
       "                var nbb_formatted_code = \"data.isnull().sum()\";\n",
       "                var nbb_cells = Jupyter.notebook.get_cells();\n",
       "                for (var i = 0; i < nbb_cells.length; ++i) {\n",
       "                    if (nbb_cells[i].input_prompt_number == nbb_cell_id) {\n",
       "                        if (nbb_cells[i].get_text() == nbb_unformatted_code) {\n",
       "                             nbb_cells[i].set_text(nbb_formatted_code);\n",
       "                        }\n",
       "                        break;\n",
       "                    }\n",
       "                }\n",
       "            }, 500);\n",
       "            "
      ],
      "text/plain": [
       "<IPython.core.display.Javascript object>"
      ]
     },
     "metadata": {},
     "output_type": "display_data"
    }
   ],
   "source": [
    "data.isnull().sum()"
   ]
  },
  {
   "cell_type": "markdown",
   "metadata": {},
   "source": [
    "* *duration* column has 4636 missing values, and *description* column has 4468 missing values.\n",
    "* No other column has missing values."
   ]
  },
  {
   "cell_type": "markdown",
   "metadata": {
    "colab_type": "text",
    "id": "7E1orwlJhU20"
   },
   "source": [
    "### Summary of the dataset."
   ]
  },
  {
   "cell_type": "code",
   "execution_count": 11,
   "metadata": {
    "colab": {
     "base_uri": "https://localhost:8080/",
     "height": 427
    },
    "id": "zWfoZeXv9WJm",
    "outputId": "a775bf9f-9a96-476d-889d-1ae4c5c616fe"
   },
   "outputs": [
    {
     "data": {
      "text/html": [
       "<div>\n",
       "<style scoped>\n",
       "    .dataframe tbody tr th:only-of-type {\n",
       "        vertical-align: middle;\n",
       "    }\n",
       "\n",
       "    .dataframe tbody tr th {\n",
       "        vertical-align: top;\n",
       "    }\n",
       "\n",
       "    .dataframe thead th {\n",
       "        text-align: right;\n",
       "    }\n",
       "</style>\n",
       "<table border=\"1\" class=\"dataframe\">\n",
       "  <thead>\n",
       "    <tr style=\"text-align: right;\">\n",
       "      <th></th>\n",
       "      <th>count</th>\n",
       "      <th>mean</th>\n",
       "      <th>std</th>\n",
       "      <th>min</th>\n",
       "      <th>25%</th>\n",
       "      <th>50%</th>\n",
       "      <th>75%</th>\n",
       "      <th>max</th>\n",
       "    </tr>\n",
       "  </thead>\n",
       "  <tbody>\n",
       "    <tr>\n",
       "      <th>eps</th>\n",
       "      <td>12101.0</td>\n",
       "      <td>13.393356</td>\n",
       "      <td>57.925097</td>\n",
       "      <td>1.000</td>\n",
       "      <td>1.000</td>\n",
       "      <td>2.000</td>\n",
       "      <td>12.000</td>\n",
       "      <td>2527.000</td>\n",
       "    </tr>\n",
       "    <tr>\n",
       "      <th>duration</th>\n",
       "      <td>7465.0</td>\n",
       "      <td>24.230141</td>\n",
       "      <td>31.468171</td>\n",
       "      <td>1.000</td>\n",
       "      <td>4.000</td>\n",
       "      <td>8.000</td>\n",
       "      <td>30.000</td>\n",
       "      <td>163.000</td>\n",
       "    </tr>\n",
       "    <tr>\n",
       "      <th>years_running</th>\n",
       "      <td>12101.0</td>\n",
       "      <td>0.283200</td>\n",
       "      <td>1.152234</td>\n",
       "      <td>0.000</td>\n",
       "      <td>0.000</td>\n",
       "      <td>0.000</td>\n",
       "      <td>0.000</td>\n",
       "      <td>51.000</td>\n",
       "    </tr>\n",
       "    <tr>\n",
       "      <th>studios_colab</th>\n",
       "      <td>12101.0</td>\n",
       "      <td>0.051649</td>\n",
       "      <td>0.221326</td>\n",
       "      <td>0.000</td>\n",
       "      <td>0.000</td>\n",
       "      <td>0.000</td>\n",
       "      <td>0.000</td>\n",
       "      <td>1.000</td>\n",
       "    </tr>\n",
       "    <tr>\n",
       "      <th>contentWarn</th>\n",
       "      <td>12101.0</td>\n",
       "      <td>0.115362</td>\n",
       "      <td>0.319472</td>\n",
       "      <td>0.000</td>\n",
       "      <td>0.000</td>\n",
       "      <td>0.000</td>\n",
       "      <td>0.000</td>\n",
       "      <td>1.000</td>\n",
       "    </tr>\n",
       "    <tr>\n",
       "      <th>watched</th>\n",
       "      <td>12101.0</td>\n",
       "      <td>2862.605694</td>\n",
       "      <td>7724.347024</td>\n",
       "      <td>0.000</td>\n",
       "      <td>55.000</td>\n",
       "      <td>341.000</td>\n",
       "      <td>2026.000</td>\n",
       "      <td>161567.000</td>\n",
       "    </tr>\n",
       "    <tr>\n",
       "      <th>watching</th>\n",
       "      <td>12101.0</td>\n",
       "      <td>256.334435</td>\n",
       "      <td>1380.840902</td>\n",
       "      <td>0.000</td>\n",
       "      <td>2.000</td>\n",
       "      <td>14.000</td>\n",
       "      <td>100.000</td>\n",
       "      <td>74537.000</td>\n",
       "    </tr>\n",
       "    <tr>\n",
       "      <th>wantWatch</th>\n",
       "      <td>12101.0</td>\n",
       "      <td>1203.681431</td>\n",
       "      <td>2294.327380</td>\n",
       "      <td>0.000</td>\n",
       "      <td>49.000</td>\n",
       "      <td>296.000</td>\n",
       "      <td>1275.000</td>\n",
       "      <td>28541.000</td>\n",
       "    </tr>\n",
       "    <tr>\n",
       "      <th>dropped</th>\n",
       "      <td>12101.0</td>\n",
       "      <td>151.568383</td>\n",
       "      <td>493.931710</td>\n",
       "      <td>0.000</td>\n",
       "      <td>3.000</td>\n",
       "      <td>12.000</td>\n",
       "      <td>65.000</td>\n",
       "      <td>19481.000</td>\n",
       "    </tr>\n",
       "    <tr>\n",
       "      <th>rating</th>\n",
       "      <td>12101.0</td>\n",
       "      <td>2.949037</td>\n",
       "      <td>0.827385</td>\n",
       "      <td>0.844</td>\n",
       "      <td>2.304</td>\n",
       "      <td>2.965</td>\n",
       "      <td>3.616</td>\n",
       "      <td>4.702</td>\n",
       "    </tr>\n",
       "    <tr>\n",
       "      <th>votes</th>\n",
       "      <td>12101.0</td>\n",
       "      <td>2088.124700</td>\n",
       "      <td>5950.332228</td>\n",
       "      <td>10.000</td>\n",
       "      <td>34.000</td>\n",
       "      <td>219.000</td>\n",
       "      <td>1414.000</td>\n",
       "      <td>131067.000</td>\n",
       "    </tr>\n",
       "    <tr>\n",
       "      <th>tag_Based_on_a_Manga</th>\n",
       "      <td>12101.0</td>\n",
       "      <td>0.290802</td>\n",
       "      <td>0.454151</td>\n",
       "      <td>0.000</td>\n",
       "      <td>0.000</td>\n",
       "      <td>0.000</td>\n",
       "      <td>1.000</td>\n",
       "      <td>1.000</td>\n",
       "    </tr>\n",
       "    <tr>\n",
       "      <th>tag_Comedy</th>\n",
       "      <td>12101.0</td>\n",
       "      <td>0.272870</td>\n",
       "      <td>0.445453</td>\n",
       "      <td>0.000</td>\n",
       "      <td>0.000</td>\n",
       "      <td>0.000</td>\n",
       "      <td>1.000</td>\n",
       "      <td>1.000</td>\n",
       "    </tr>\n",
       "    <tr>\n",
       "      <th>tag_Action</th>\n",
       "      <td>12101.0</td>\n",
       "      <td>0.231221</td>\n",
       "      <td>0.421631</td>\n",
       "      <td>0.000</td>\n",
       "      <td>0.000</td>\n",
       "      <td>0.000</td>\n",
       "      <td>0.000</td>\n",
       "      <td>1.000</td>\n",
       "    </tr>\n",
       "    <tr>\n",
       "      <th>tag_Fantasy</th>\n",
       "      <td>12101.0</td>\n",
       "      <td>0.181555</td>\n",
       "      <td>0.385493</td>\n",
       "      <td>0.000</td>\n",
       "      <td>0.000</td>\n",
       "      <td>0.000</td>\n",
       "      <td>0.000</td>\n",
       "      <td>1.000</td>\n",
       "    </tr>\n",
       "    <tr>\n",
       "      <th>tag_Sci_Fi</th>\n",
       "      <td>12101.0</td>\n",
       "      <td>0.166267</td>\n",
       "      <td>0.372336</td>\n",
       "      <td>0.000</td>\n",
       "      <td>0.000</td>\n",
       "      <td>0.000</td>\n",
       "      <td>0.000</td>\n",
       "      <td>1.000</td>\n",
       "    </tr>\n",
       "    <tr>\n",
       "      <th>tag_Shounen</th>\n",
       "      <td>12101.0</td>\n",
       "      <td>0.144864</td>\n",
       "      <td>0.351978</td>\n",
       "      <td>0.000</td>\n",
       "      <td>0.000</td>\n",
       "      <td>0.000</td>\n",
       "      <td>0.000</td>\n",
       "      <td>1.000</td>\n",
       "    </tr>\n",
       "    <tr>\n",
       "      <th>tag_Original_Work</th>\n",
       "      <td>12101.0</td>\n",
       "      <td>0.135195</td>\n",
       "      <td>0.341946</td>\n",
       "      <td>0.000</td>\n",
       "      <td>0.000</td>\n",
       "      <td>0.000</td>\n",
       "      <td>0.000</td>\n",
       "      <td>1.000</td>\n",
       "    </tr>\n",
       "    <tr>\n",
       "      <th>tag_Non_Human_Protagonists</th>\n",
       "      <td>12101.0</td>\n",
       "      <td>0.112470</td>\n",
       "      <td>0.315957</td>\n",
       "      <td>0.000</td>\n",
       "      <td>0.000</td>\n",
       "      <td>0.000</td>\n",
       "      <td>0.000</td>\n",
       "      <td>1.000</td>\n",
       "    </tr>\n",
       "    <tr>\n",
       "      <th>tag_Drama</th>\n",
       "      <td>12101.0</td>\n",
       "      <td>0.106107</td>\n",
       "      <td>0.307987</td>\n",
       "      <td>0.000</td>\n",
       "      <td>0.000</td>\n",
       "      <td>0.000</td>\n",
       "      <td>0.000</td>\n",
       "      <td>1.000</td>\n",
       "    </tr>\n",
       "    <tr>\n",
       "      <th>tag_Adventure</th>\n",
       "      <td>12101.0</td>\n",
       "      <td>0.103793</td>\n",
       "      <td>0.305005</td>\n",
       "      <td>0.000</td>\n",
       "      <td>0.000</td>\n",
       "      <td>0.000</td>\n",
       "      <td>0.000</td>\n",
       "      <td>1.000</td>\n",
       "    </tr>\n",
       "    <tr>\n",
       "      <th>tag_Family_Friendly</th>\n",
       "      <td>12101.0</td>\n",
       "      <td>0.097017</td>\n",
       "      <td>0.295993</td>\n",
       "      <td>0.000</td>\n",
       "      <td>0.000</td>\n",
       "      <td>0.000</td>\n",
       "      <td>0.000</td>\n",
       "      <td>1.000</td>\n",
       "    </tr>\n",
       "    <tr>\n",
       "      <th>tag_Short_Episodes</th>\n",
       "      <td>12101.0</td>\n",
       "      <td>0.096934</td>\n",
       "      <td>0.295880</td>\n",
       "      <td>0.000</td>\n",
       "      <td>0.000</td>\n",
       "      <td>0.000</td>\n",
       "      <td>0.000</td>\n",
       "      <td>1.000</td>\n",
       "    </tr>\n",
       "    <tr>\n",
       "      <th>tag_School_Life</th>\n",
       "      <td>12101.0</td>\n",
       "      <td>0.092306</td>\n",
       "      <td>0.289470</td>\n",
       "      <td>0.000</td>\n",
       "      <td>0.000</td>\n",
       "      <td>0.000</td>\n",
       "      <td>0.000</td>\n",
       "      <td>1.000</td>\n",
       "    </tr>\n",
       "    <tr>\n",
       "      <th>tag_Romance</th>\n",
       "      <td>12101.0</td>\n",
       "      <td>0.092141</td>\n",
       "      <td>0.289237</td>\n",
       "      <td>0.000</td>\n",
       "      <td>0.000</td>\n",
       "      <td>0.000</td>\n",
       "      <td>0.000</td>\n",
       "      <td>1.000</td>\n",
       "    </tr>\n",
       "    <tr>\n",
       "      <th>tag_Shorts</th>\n",
       "      <td>12101.0</td>\n",
       "      <td>0.089662</td>\n",
       "      <td>0.285709</td>\n",
       "      <td>0.000</td>\n",
       "      <td>0.000</td>\n",
       "      <td>0.000</td>\n",
       "      <td>0.000</td>\n",
       "      <td>1.000</td>\n",
       "    </tr>\n",
       "    <tr>\n",
       "      <th>tag_Slice_of_Life</th>\n",
       "      <td>12101.0</td>\n",
       "      <td>0.080820</td>\n",
       "      <td>0.272569</td>\n",
       "      <td>0.000</td>\n",
       "      <td>0.000</td>\n",
       "      <td>0.000</td>\n",
       "      <td>0.000</td>\n",
       "      <td>1.000</td>\n",
       "    </tr>\n",
       "    <tr>\n",
       "      <th>tag_Seinen</th>\n",
       "      <td>12101.0</td>\n",
       "      <td>0.077101</td>\n",
       "      <td>0.266763</td>\n",
       "      <td>0.000</td>\n",
       "      <td>0.000</td>\n",
       "      <td>0.000</td>\n",
       "      <td>0.000</td>\n",
       "      <td>1.000</td>\n",
       "    </tr>\n",
       "    <tr>\n",
       "      <th>tag_Supernatural</th>\n",
       "      <td>12101.0</td>\n",
       "      <td>0.070903</td>\n",
       "      <td>0.256674</td>\n",
       "      <td>0.000</td>\n",
       "      <td>0.000</td>\n",
       "      <td>0.000</td>\n",
       "      <td>0.000</td>\n",
       "      <td>1.000</td>\n",
       "    </tr>\n",
       "    <tr>\n",
       "      <th>tag_Magic</th>\n",
       "      <td>12101.0</td>\n",
       "      <td>0.064292</td>\n",
       "      <td>0.245283</td>\n",
       "      <td>0.000</td>\n",
       "      <td>0.000</td>\n",
       "      <td>0.000</td>\n",
       "      <td>0.000</td>\n",
       "      <td>1.000</td>\n",
       "    </tr>\n",
       "    <tr>\n",
       "      <th>tag_Animal_Protagonists</th>\n",
       "      <td>12101.0</td>\n",
       "      <td>0.060326</td>\n",
       "      <td>0.238099</td>\n",
       "      <td>0.000</td>\n",
       "      <td>0.000</td>\n",
       "      <td>0.000</td>\n",
       "      <td>0.000</td>\n",
       "      <td>1.000</td>\n",
       "    </tr>\n",
       "    <tr>\n",
       "      <th>tag_Ecchi</th>\n",
       "      <td>12101.0</td>\n",
       "      <td>0.057433</td>\n",
       "      <td>0.232678</td>\n",
       "      <td>0.000</td>\n",
       "      <td>0.000</td>\n",
       "      <td>0.000</td>\n",
       "      <td>0.000</td>\n",
       "      <td>1.000</td>\n",
       "    </tr>\n",
       "    <tr>\n",
       "      <th>tag_Mecha</th>\n",
       "      <td>12101.0</td>\n",
       "      <td>0.054541</td>\n",
       "      <td>0.227091</td>\n",
       "      <td>0.000</td>\n",
       "      <td>0.000</td>\n",
       "      <td>0.000</td>\n",
       "      <td>0.000</td>\n",
       "      <td>1.000</td>\n",
       "    </tr>\n",
       "    <tr>\n",
       "      <th>tag_Based_on_a_Light_Novel</th>\n",
       "      <td>12101.0</td>\n",
       "      <td>0.053384</td>\n",
       "      <td>0.224807</td>\n",
       "      <td>0.000</td>\n",
       "      <td>0.000</td>\n",
       "      <td>0.000</td>\n",
       "      <td>0.000</td>\n",
       "      <td>1.000</td>\n",
       "    </tr>\n",
       "    <tr>\n",
       "      <th>tag_CG_Animation</th>\n",
       "      <td>12101.0</td>\n",
       "      <td>0.050079</td>\n",
       "      <td>0.218116</td>\n",
       "      <td>0.000</td>\n",
       "      <td>0.000</td>\n",
       "      <td>0.000</td>\n",
       "      <td>0.000</td>\n",
       "      <td>1.000</td>\n",
       "    </tr>\n",
       "    <tr>\n",
       "      <th>tag_Superpowers</th>\n",
       "      <td>12101.0</td>\n",
       "      <td>0.044624</td>\n",
       "      <td>0.206486</td>\n",
       "      <td>0.000</td>\n",
       "      <td>0.000</td>\n",
       "      <td>0.000</td>\n",
       "      <td>0.000</td>\n",
       "      <td>1.000</td>\n",
       "    </tr>\n",
       "    <tr>\n",
       "      <th>tag_Others</th>\n",
       "      <td>12101.0</td>\n",
       "      <td>0.090654</td>\n",
       "      <td>0.287128</td>\n",
       "      <td>0.000</td>\n",
       "      <td>0.000</td>\n",
       "      <td>0.000</td>\n",
       "      <td>0.000</td>\n",
       "      <td>1.000</td>\n",
       "    </tr>\n",
       "    <tr>\n",
       "      <th>tag_missing</th>\n",
       "      <td>12101.0</td>\n",
       "      <td>0.025866</td>\n",
       "      <td>0.158741</td>\n",
       "      <td>0.000</td>\n",
       "      <td>0.000</td>\n",
       "      <td>0.000</td>\n",
       "      <td>0.000</td>\n",
       "      <td>1.000</td>\n",
       "    </tr>\n",
       "  </tbody>\n",
       "</table>\n",
       "</div>"
      ],
      "text/plain": [
       "                              count         mean          std     min     25%  \\\n",
       "eps                         12101.0    13.393356    57.925097   1.000   1.000   \n",
       "duration                     7465.0    24.230141    31.468171   1.000   4.000   \n",
       "years_running               12101.0     0.283200     1.152234   0.000   0.000   \n",
       "studios_colab               12101.0     0.051649     0.221326   0.000   0.000   \n",
       "contentWarn                 12101.0     0.115362     0.319472   0.000   0.000   \n",
       "watched                     12101.0  2862.605694  7724.347024   0.000  55.000   \n",
       "watching                    12101.0   256.334435  1380.840902   0.000   2.000   \n",
       "wantWatch                   12101.0  1203.681431  2294.327380   0.000  49.000   \n",
       "dropped                     12101.0   151.568383   493.931710   0.000   3.000   \n",
       "rating                      12101.0     2.949037     0.827385   0.844   2.304   \n",
       "votes                       12101.0  2088.124700  5950.332228  10.000  34.000   \n",
       "tag_Based_on_a_Manga        12101.0     0.290802     0.454151   0.000   0.000   \n",
       "tag_Comedy                  12101.0     0.272870     0.445453   0.000   0.000   \n",
       "tag_Action                  12101.0     0.231221     0.421631   0.000   0.000   \n",
       "tag_Fantasy                 12101.0     0.181555     0.385493   0.000   0.000   \n",
       "tag_Sci_Fi                  12101.0     0.166267     0.372336   0.000   0.000   \n",
       "tag_Shounen                 12101.0     0.144864     0.351978   0.000   0.000   \n",
       "tag_Original_Work           12101.0     0.135195     0.341946   0.000   0.000   \n",
       "tag_Non_Human_Protagonists  12101.0     0.112470     0.315957   0.000   0.000   \n",
       "tag_Drama                   12101.0     0.106107     0.307987   0.000   0.000   \n",
       "tag_Adventure               12101.0     0.103793     0.305005   0.000   0.000   \n",
       "tag_Family_Friendly         12101.0     0.097017     0.295993   0.000   0.000   \n",
       "tag_Short_Episodes          12101.0     0.096934     0.295880   0.000   0.000   \n",
       "tag_School_Life             12101.0     0.092306     0.289470   0.000   0.000   \n",
       "tag_Romance                 12101.0     0.092141     0.289237   0.000   0.000   \n",
       "tag_Shorts                  12101.0     0.089662     0.285709   0.000   0.000   \n",
       "tag_Slice_of_Life           12101.0     0.080820     0.272569   0.000   0.000   \n",
       "tag_Seinen                  12101.0     0.077101     0.266763   0.000   0.000   \n",
       "tag_Supernatural            12101.0     0.070903     0.256674   0.000   0.000   \n",
       "tag_Magic                   12101.0     0.064292     0.245283   0.000   0.000   \n",
       "tag_Animal_Protagonists     12101.0     0.060326     0.238099   0.000   0.000   \n",
       "tag_Ecchi                   12101.0     0.057433     0.232678   0.000   0.000   \n",
       "tag_Mecha                   12101.0     0.054541     0.227091   0.000   0.000   \n",
       "tag_Based_on_a_Light_Novel  12101.0     0.053384     0.224807   0.000   0.000   \n",
       "tag_CG_Animation            12101.0     0.050079     0.218116   0.000   0.000   \n",
       "tag_Superpowers             12101.0     0.044624     0.206486   0.000   0.000   \n",
       "tag_Others                  12101.0     0.090654     0.287128   0.000   0.000   \n",
       "tag_missing                 12101.0     0.025866     0.158741   0.000   0.000   \n",
       "\n",
       "                                50%       75%         max  \n",
       "eps                           2.000    12.000    2527.000  \n",
       "duration                      8.000    30.000     163.000  \n",
       "years_running                 0.000     0.000      51.000  \n",
       "studios_colab                 0.000     0.000       1.000  \n",
       "contentWarn                   0.000     0.000       1.000  \n",
       "watched                     341.000  2026.000  161567.000  \n",
       "watching                     14.000   100.000   74537.000  \n",
       "wantWatch                   296.000  1275.000   28541.000  \n",
       "dropped                      12.000    65.000   19481.000  \n",
       "rating                        2.965     3.616       4.702  \n",
       "votes                       219.000  1414.000  131067.000  \n",
       "tag_Based_on_a_Manga          0.000     1.000       1.000  \n",
       "tag_Comedy                    0.000     1.000       1.000  \n",
       "tag_Action                    0.000     0.000       1.000  \n",
       "tag_Fantasy                   0.000     0.000       1.000  \n",
       "tag_Sci_Fi                    0.000     0.000       1.000  \n",
       "tag_Shounen                   0.000     0.000       1.000  \n",
       "tag_Original_Work             0.000     0.000       1.000  \n",
       "tag_Non_Human_Protagonists    0.000     0.000       1.000  \n",
       "tag_Drama                     0.000     0.000       1.000  \n",
       "tag_Adventure                 0.000     0.000       1.000  \n",
       "tag_Family_Friendly           0.000     0.000       1.000  \n",
       "tag_Short_Episodes            0.000     0.000       1.000  \n",
       "tag_School_Life               0.000     0.000       1.000  \n",
       "tag_Romance                   0.000     0.000       1.000  \n",
       "tag_Shorts                    0.000     0.000       1.000  \n",
       "tag_Slice_of_Life             0.000     0.000       1.000  \n",
       "tag_Seinen                    0.000     0.000       1.000  \n",
       "tag_Supernatural              0.000     0.000       1.000  \n",
       "tag_Magic                     0.000     0.000       1.000  \n",
       "tag_Animal_Protagonists       0.000     0.000       1.000  \n",
       "tag_Ecchi                     0.000     0.000       1.000  \n",
       "tag_Mecha                     0.000     0.000       1.000  \n",
       "tag_Based_on_a_Light_Novel    0.000     0.000       1.000  \n",
       "tag_CG_Animation              0.000     0.000       1.000  \n",
       "tag_Superpowers               0.000     0.000       1.000  \n",
       "tag_Others                    0.000     0.000       1.000  \n",
       "tag_missing                   0.000     0.000       1.000  "
      ]
     },
     "execution_count": 11,
     "metadata": {},
     "output_type": "execute_result"
    },
    {
     "data": {
      "application/javascript": [
       "\n",
       "            setTimeout(function() {\n",
       "                var nbb_cell_id = 11;\n",
       "                var nbb_unformatted_code = \"data.describe().T\";\n",
       "                var nbb_formatted_code = \"data.describe().T\";\n",
       "                var nbb_cells = Jupyter.notebook.get_cells();\n",
       "                for (var i = 0; i < nbb_cells.length; ++i) {\n",
       "                    if (nbb_cells[i].input_prompt_number == nbb_cell_id) {\n",
       "                        if (nbb_cells[i].get_text() == nbb_unformatted_code) {\n",
       "                             nbb_cells[i].set_text(nbb_formatted_code);\n",
       "                        }\n",
       "                        break;\n",
       "                    }\n",
       "                }\n",
       "            }, 500);\n",
       "            "
      ],
      "text/plain": [
       "<IPython.core.display.Javascript object>"
      ]
     },
     "metadata": {},
     "output_type": "display_data"
    }
   ],
   "source": [
    "data.describe().T"
   ]
  },
  {
   "cell_type": "markdown",
   "metadata": {},
   "source": [
    "* We can see that the anime ratings vary between 0.844 and 4.702, which suggests that the anime were rated on a scale of 0-5.\n",
    "\n",
    "* 50% of the anime in the data have a runtime less than or equal to 8 minutes.\n",
    "\n",
    "* Some anime even have a runtime of 1 minute.\n",
    "    - This seems strange at first, but a Google search can reveal that there are indeed such anime.\n",
    "\n",
    "\n",
    "* At least 75% of the anime have run for less than a year.\n",
    "    - This may be because the listed anime has few episodes only.\n",
    "\n",
    "\n",
    "* At least 75% of the anime have no content warnings.\n",
    "\n",
    "* The number of views for the anime in the data has a very wide range (0 to more than 160,000)."
   ]
  },
  {
   "cell_type": "markdown",
   "metadata": {
    "id": "4qAJgcnu9WJz"
   },
   "source": [
    "**Let's look at the non-numeric columns.**"
   ]
  },
  {
   "cell_type": "code",
   "execution_count": 12,
   "metadata": {},
   "outputs": [
    {
     "data": {
      "text/plain": [
       "Index(['title', 'description', 'mediaType', 'ongoing', 'sznOfRelease',\n",
       "       'studio_primary'],\n",
       "      dtype='object')"
      ]
     },
     "execution_count": 12,
     "metadata": {},
     "output_type": "execute_result"
    },
    {
     "data": {
      "application/javascript": [
       "\n",
       "            setTimeout(function() {\n",
       "                var nbb_cell_id = 12;\n",
       "                var nbb_unformatted_code = \"# filtering non-numeric columns\\ncat_columns = data.select_dtypes(exclude=np.number).columns\\ncat_columns\";\n",
       "                var nbb_formatted_code = \"# filtering non-numeric columns\\ncat_columns = data.select_dtypes(exclude=np.number).columns\\ncat_columns\";\n",
       "                var nbb_cells = Jupyter.notebook.get_cells();\n",
       "                for (var i = 0; i < nbb_cells.length; ++i) {\n",
       "                    if (nbb_cells[i].input_prompt_number == nbb_cell_id) {\n",
       "                        if (nbb_cells[i].get_text() == nbb_unformatted_code) {\n",
       "                             nbb_cells[i].set_text(nbb_formatted_code);\n",
       "                        }\n",
       "                        break;\n",
       "                    }\n",
       "                }\n",
       "            }, 500);\n",
       "            "
      ],
      "text/plain": [
       "<IPython.core.display.Javascript object>"
      ]
     },
     "metadata": {},
     "output_type": "display_data"
    }
   ],
   "source": [
    "# filtering non-numeric columns\n",
    "cat_columns = data.select_dtypes(exclude=np.number).columns\n",
    "cat_columns"
   ]
  },
  {
   "cell_type": "code",
   "execution_count": 13,
   "metadata": {},
   "outputs": [
    {
     "name": "stdout",
     "output_type": "stream",
     "text": [
      "TV             3993\n",
      "Movie          1928\n",
      "OVA            1770\n",
      "Music Video    1290\n",
      "Web            1170\n",
      "DVD Special     803\n",
      "Other           580\n",
      "TV Special      504\n",
      "is_missing       63\n",
      "Name: mediaType, dtype: int64\n",
      "--------------------------------------------------\n",
      "False    11986\n",
      "True       115\n",
      "Name: ongoing, dtype: int64\n",
      "--------------------------------------------------\n",
      "is_missing    8554\n",
      "Spring        1135\n",
      "Fall          1011\n",
      "Winter         717\n",
      "Summer         684\n",
      "Name: sznOfRelease, dtype: int64\n",
      "--------------------------------------------------\n",
      "Others                  4340\n",
      "is_missing              3208\n",
      "Toei Animation           636\n",
      "Sunrise                  430\n",
      "J.C. Staff               341\n",
      "MADHOUSE                 337\n",
      "TMS Entertainment        317\n",
      "Production I.G           271\n",
      "Studio Deen              260\n",
      "Studio Pierrot           221\n",
      "OLM                      210\n",
      "A-1 Pictures             194\n",
      "AIC                      167\n",
      "Shin-Ei Animation        164\n",
      "Nippon Animation         145\n",
      "Tatsunoko Production     144\n",
      "DLE                      130\n",
      "GONZO                    124\n",
      "Bones                    121\n",
      "Shaft                    118\n",
      "XEBEC                    117\n",
      "Kyoto Animation          106\n",
      "Name: studio_primary, dtype: int64\n",
      "--------------------------------------------------\n"
     ]
    },
    {
     "data": {
      "application/javascript": [
       "\n",
       "            setTimeout(function() {\n",
       "                var nbb_cell_id = 13;\n",
       "                var nbb_unformatted_code = \"# we will skip the title and description columns as they will have a lot of unique values\\ncat_col = [\\\"mediaType\\\", \\\"ongoing\\\", \\\"sznOfRelease\\\", \\\"studio_primary\\\"]\\n\\n# printing the number of occurrences of each unique value in each categorical column\\nfor column in cat_col:\\n    print(data[column].value_counts())\\n    print(\\\"-\\\" * 50)\";\n",
       "                var nbb_formatted_code = \"# we will skip the title and description columns as they will have a lot of unique values\\ncat_col = [\\\"mediaType\\\", \\\"ongoing\\\", \\\"sznOfRelease\\\", \\\"studio_primary\\\"]\\n\\n# printing the number of occurrences of each unique value in each categorical column\\nfor column in cat_col:\\n    print(data[column].value_counts())\\n    print(\\\"-\\\" * 50)\";\n",
       "                var nbb_cells = Jupyter.notebook.get_cells();\n",
       "                for (var i = 0; i < nbb_cells.length; ++i) {\n",
       "                    if (nbb_cells[i].input_prompt_number == nbb_cell_id) {\n",
       "                        if (nbb_cells[i].get_text() == nbb_unformatted_code) {\n",
       "                             nbb_cells[i].set_text(nbb_formatted_code);\n",
       "                        }\n",
       "                        break;\n",
       "                    }\n",
       "                }\n",
       "            }, 500);\n",
       "            "
      ],
      "text/plain": [
       "<IPython.core.display.Javascript object>"
      ]
     },
     "metadata": {},
     "output_type": "display_data"
    }
   ],
   "source": [
    "# we will skip the title and description columns as they will have a lot of unique values\n",
    "cat_col = [\"mediaType\", \"ongoing\", \"sznOfRelease\", \"studio_primary\"]\n",
    "\n",
    "# printing the number of occurrences of each unique value in each categorical column\n",
    "for column in cat_col:\n",
    "    print(data[column].value_counts())\n",
    "    print(\"-\" * 50)"
   ]
  },
  {
   "cell_type": "markdown",
   "metadata": {},
   "source": [
    "* Most of the anime in the data are either TV series or movies.\n",
    "* Most of the anime in the data are not ongoing.\n",
    "* The season of release is missing for most of the anime in the data.\n",
    "* *Toei Animation* and *Sunrise* are the top two studios (excluding other studios and missing studios)."
   ]
  },
  {
   "cell_type": "markdown",
   "metadata": {},
   "source": [
    "**We will drop the *title* and *description* columns before moving forward as they have a lot of text in them.**"
   ]
  },
  {
   "cell_type": "code",
   "execution_count": 14,
   "metadata": {},
   "outputs": [
    {
     "data": {
      "application/javascript": [
       "\n",
       "            setTimeout(function() {\n",
       "                var nbb_cell_id = 14;\n",
       "                var nbb_unformatted_code = \"data.drop([\\\"title\\\", \\\"description\\\"], axis=1, inplace=True)\";\n",
       "                var nbb_formatted_code = \"data.drop([\\\"title\\\", \\\"description\\\"], axis=1, inplace=True)\";\n",
       "                var nbb_cells = Jupyter.notebook.get_cells();\n",
       "                for (var i = 0; i < nbb_cells.length; ++i) {\n",
       "                    if (nbb_cells[i].input_prompt_number == nbb_cell_id) {\n",
       "                        if (nbb_cells[i].get_text() == nbb_unformatted_code) {\n",
       "                             nbb_cells[i].set_text(nbb_formatted_code);\n",
       "                        }\n",
       "                        break;\n",
       "                    }\n",
       "                }\n",
       "            }, 500);\n",
       "            "
      ],
      "text/plain": [
       "<IPython.core.display.Javascript object>"
      ]
     },
     "metadata": {},
     "output_type": "display_data"
    }
   ],
   "source": [
    "data.drop([\"title\", \"description\"], axis=1, inplace=True)"
   ]
  },
  {
   "cell_type": "markdown",
   "metadata": {},
   "source": [
    "### We will drop the missing values in the dataset."
   ]
  },
  {
   "cell_type": "code",
   "execution_count": 15,
   "metadata": {
    "id": "d-SZuewJ9WJ-"
   },
   "outputs": [
    {
     "data": {
      "text/plain": [
       "(7465, 42)"
      ]
     },
     "execution_count": 15,
     "metadata": {},
     "output_type": "execute_result"
    },
    {
     "data": {
      "application/javascript": [
       "\n",
       "            setTimeout(function() {\n",
       "                var nbb_cell_id = 15;\n",
       "                var nbb_unformatted_code = \"data.dropna(inplace=True)\\ndata.shape\";\n",
       "                var nbb_formatted_code = \"data.dropna(inplace=True)\\ndata.shape\";\n",
       "                var nbb_cells = Jupyter.notebook.get_cells();\n",
       "                for (var i = 0; i < nbb_cells.length; ++i) {\n",
       "                    if (nbb_cells[i].input_prompt_number == nbb_cell_id) {\n",
       "                        if (nbb_cells[i].get_text() == nbb_unformatted_code) {\n",
       "                             nbb_cells[i].set_text(nbb_formatted_code);\n",
       "                        }\n",
       "                        break;\n",
       "                    }\n",
       "                }\n",
       "            }, 500);\n",
       "            "
      ],
      "text/plain": [
       "<IPython.core.display.Javascript object>"
      ]
     },
     "metadata": {},
     "output_type": "display_data"
    }
   ],
   "source": [
    "data.dropna(inplace=True)\n",
    "data.shape"
   ]
  },
  {
   "cell_type": "markdown",
   "metadata": {},
   "source": [
    "### We will discuss better ways of dealing with missing values in the next session."
   ]
  },
  {
   "cell_type": "markdown",
   "metadata": {},
   "source": [
    "## Let's visualize the data"
   ]
  },
  {
   "cell_type": "markdown",
   "metadata": {
    "id": "L7Drz5w_9WKV"
   },
   "source": [
    "### Univariate Analysis"
   ]
  },
  {
   "cell_type": "code",
   "execution_count": 16,
   "metadata": {},
   "outputs": [
    {
     "data": {
      "application/javascript": [
       "\n",
       "            setTimeout(function() {\n",
       "                var nbb_cell_id = 16;\n",
       "                var nbb_unformatted_code = \"# function to plot a boxplot and a histogram along the same scale.\\n\\n\\ndef histogram_boxplot(data, feature, figsize=(12, 7), kde=False, bins=None):\\n    \\\"\\\"\\\"\\n    Boxplot and histogram combined\\n\\n    data: dataframe\\n    feature: dataframe column\\n    figsize: size of figure (default (12,7))\\n    kde: whether to the show density curve (default False)\\n    bins: number of bins for histogram (default None)\\n    \\\"\\\"\\\"\\n    f2, (ax_box2, ax_hist2) = plt.subplots(\\n        nrows=2,  # Number of rows of the subplot grid= 2\\n        sharex=True,  # x-axis will be shared among all subplots\\n        gridspec_kw={\\\"height_ratios\\\": (0.25, 0.75)},\\n        figsize=figsize,\\n    )  # creating the 2 subplots\\n    sns.boxplot(\\n        data=data, x=feature, ax=ax_box2, showmeans=True, color=\\\"violet\\\"\\n    )  # boxplot will be created and a star will indicate the mean value of the column\\n    sns.histplot(\\n        data=data, x=feature, kde=kde, ax=ax_hist2, bins=bins, palette=\\\"winter\\\"\\n    ) if bins else sns.histplot(\\n        data=data, x=feature, kde=kde, ax=ax_hist2\\n    )  # For histogram\\n    ax_hist2.axvline(\\n        data[feature].mean(), color=\\\"green\\\", linestyle=\\\"--\\\"\\n    )  # Add mean to the histogram\\n    ax_hist2.axvline(\\n        data[feature].median(), color=\\\"black\\\", linestyle=\\\"-\\\"\\n    )  # Add median to the histogram\";\n",
       "                var nbb_formatted_code = \"# function to plot a boxplot and a histogram along the same scale.\\n\\n\\ndef histogram_boxplot(data, feature, figsize=(12, 7), kde=False, bins=None):\\n    \\\"\\\"\\\"\\n    Boxplot and histogram combined\\n\\n    data: dataframe\\n    feature: dataframe column\\n    figsize: size of figure (default (12,7))\\n    kde: whether to the show density curve (default False)\\n    bins: number of bins for histogram (default None)\\n    \\\"\\\"\\\"\\n    f2, (ax_box2, ax_hist2) = plt.subplots(\\n        nrows=2,  # Number of rows of the subplot grid= 2\\n        sharex=True,  # x-axis will be shared among all subplots\\n        gridspec_kw={\\\"height_ratios\\\": (0.25, 0.75)},\\n        figsize=figsize,\\n    )  # creating the 2 subplots\\n    sns.boxplot(\\n        data=data, x=feature, ax=ax_box2, showmeans=True, color=\\\"violet\\\"\\n    )  # boxplot will be created and a star will indicate the mean value of the column\\n    sns.histplot(\\n        data=data, x=feature, kde=kde, ax=ax_hist2, bins=bins, palette=\\\"winter\\\"\\n    ) if bins else sns.histplot(\\n        data=data, x=feature, kde=kde, ax=ax_hist2\\n    )  # For histogram\\n    ax_hist2.axvline(\\n        data[feature].mean(), color=\\\"green\\\", linestyle=\\\"--\\\"\\n    )  # Add mean to the histogram\\n    ax_hist2.axvline(\\n        data[feature].median(), color=\\\"black\\\", linestyle=\\\"-\\\"\\n    )  # Add median to the histogram\";\n",
       "                var nbb_cells = Jupyter.notebook.get_cells();\n",
       "                for (var i = 0; i < nbb_cells.length; ++i) {\n",
       "                    if (nbb_cells[i].input_prompt_number == nbb_cell_id) {\n",
       "                        if (nbb_cells[i].get_text() == nbb_unformatted_code) {\n",
       "                             nbb_cells[i].set_text(nbb_formatted_code);\n",
       "                        }\n",
       "                        break;\n",
       "                    }\n",
       "                }\n",
       "            }, 500);\n",
       "            "
      ],
      "text/plain": [
       "<IPython.core.display.Javascript object>"
      ]
     },
     "metadata": {},
     "output_type": "display_data"
    }
   ],
   "source": [
    "# function to plot a boxplot and a histogram along the same scale.\n",
    "\n",
    "\n",
    "def histogram_boxplot(data, feature, figsize=(12, 7), kde=False, bins=None):\n",
    "    \"\"\"\n",
    "    Boxplot and histogram combined\n",
    "\n",
    "    data: dataframe\n",
    "    feature: dataframe column\n",
    "    figsize: size of figure (default (12,7))\n",
    "    kde: whether to the show density curve (default False)\n",
    "    bins: number of bins for histogram (default None)\n",
    "    \"\"\"\n",
    "    f2, (ax_box2, ax_hist2) = plt.subplots(\n",
    "        nrows=2,  # Number of rows of the subplot grid= 2\n",
    "        sharex=True,  # x-axis will be shared among all subplots\n",
    "        gridspec_kw={\"height_ratios\": (0.25, 0.75)},\n",
    "        figsize=figsize,\n",
    "    )  # creating the 2 subplots\n",
    "    sns.boxplot(\n",
    "        data=data, x=feature, ax=ax_box2, showmeans=True, color=\"violet\"\n",
    "    )  # boxplot will be created and a star will indicate the mean value of the column\n",
    "    sns.histplot(\n",
    "        data=data, x=feature, kde=kde, ax=ax_hist2, bins=bins, palette=\"winter\"\n",
    "    ) if bins else sns.histplot(\n",
    "        data=data, x=feature, kde=kde, ax=ax_hist2\n",
    "    )  # For histogram\n",
    "    ax_hist2.axvline(\n",
    "        data[feature].mean(), color=\"green\", linestyle=\"--\"\n",
    "    )  # Add mean to the histogram\n",
    "    ax_hist2.axvline(\n",
    "        data[feature].median(), color=\"black\", linestyle=\"-\"\n",
    "    )  # Add median to the histogram"
   ]
  },
  {
   "cell_type": "markdown",
   "metadata": {},
   "source": [
    "### *rating* (the target variable)"
   ]
  },
  {
   "cell_type": "code",
   "execution_count": 17,
   "metadata": {},
   "outputs": [
    {
     "data": {
      "image/png": "[encoded data removed]",
      "text/plain": [
       "<Figure size 864x504 with 2 Axes>"
      ]
     },
     "metadata": {},
     "output_type": "display_data"
    },
    {
     "data": {
      "application/javascript": [
       "\n",
       "            setTimeout(function() {\n",
       "                var nbb_cell_id = 17;\n",
       "                var nbb_unformatted_code = \"histogram_boxplot(data, \\\"rating\\\")\";\n",
       "                var nbb_formatted_code = \"histogram_boxplot(data, \\\"rating\\\")\";\n",
       "                var nbb_cells = Jupyter.notebook.get_cells();\n",
       "                for (var i = 0; i < nbb_cells.length; ++i) {\n",
       "                    if (nbb_cells[i].input_prompt_number == nbb_cell_id) {\n",
       "                        if (nbb_cells[i].get_text() == nbb_unformatted_code) {\n",
       "                             nbb_cells[i].set_text(nbb_formatted_code);\n",
       "                        }\n",
       "                        break;\n",
       "                    }\n",
       "                }\n",
       "            }, 500);\n",
       "            "
      ],
      "text/plain": [
       "<IPython.core.display.Javascript object>"
      ]
     },
     "metadata": {},
     "output_type": "display_data"
    }
   ],
   "source": [
    "histogram_boxplot(data, \"rating\")"
   ]
  },
  {
   "cell_type": "markdown",
   "metadata": {},
   "source": [
    "* The anime ratings are close to normally distributed."
   ]
  },
  {
   "cell_type": "markdown",
   "metadata": {},
   "source": [
    "### *eps*"
   ]
  },
  {
   "cell_type": "code",
   "execution_count": 18,
   "metadata": {},
   "outputs": [
    {
     "data": {
      "image/png": "[encoded data removed]",
      "text/plain": [
       "<Figure size 864x504 with 2 Axes>"
      ]
     },
     "metadata": {},
     "output_type": "display_data"
    },
    {
     "data": {
      "application/javascript": [
       "\n",
       "            setTimeout(function() {\n",
       "                var nbb_cell_id = 18;\n",
       "                var nbb_unformatted_code = \"histogram_boxplot(data, \\\"eps\\\")\";\n",
       "                var nbb_formatted_code = \"histogram_boxplot(data, \\\"eps\\\")\";\n",
       "                var nbb_cells = Jupyter.notebook.get_cells();\n",
       "                for (var i = 0; i < nbb_cells.length; ++i) {\n",
       "                    if (nbb_cells[i].input_prompt_number == nbb_cell_id) {\n",
       "                        if (nbb_cells[i].get_text() == nbb_unformatted_code) {\n",
       "                             nbb_cells[i].set_text(nbb_formatted_code);\n",
       "                        }\n",
       "                        break;\n",
       "                    }\n",
       "                }\n",
       "            }, 500);\n",
       "            "
      ],
      "text/plain": [
       "<IPython.core.display.Javascript object>"
      ]
     },
     "metadata": {},
     "output_type": "display_data"
    }
   ],
   "source": [
    "histogram_boxplot(data, \"eps\")"
   ]
  },
  {
   "cell_type": "markdown",
   "metadata": {},
   "source": [
    "* The distribution is heavily right-skewed, as there are many anime movies in the data, and they are considered to be of only one episode (as per data description)."
   ]
  },
  {
   "cell_type": "markdown",
   "metadata": {},
   "source": [
    "### *duration*"
   ]
  },
  {
   "cell_type": "code",
   "execution_count": 19,
   "metadata": {},
   "outputs": [
    {
     "data": {
      "image/png": "[encoded data removed]",
      "text/plain": [
       "<Figure size 864x504 with 2 Axes>"
      ]
     },
     "metadata": {},
     "output_type": "display_data"
    },
    {
     "data": {
      "application/javascript": [
       "\n",
       "            setTimeout(function() {\n",
       "                var nbb_cell_id = 19;\n",
       "                var nbb_unformatted_code = \"histogram_boxplot(data, \\\"duration\\\")\";\n",
       "                var nbb_formatted_code = \"histogram_boxplot(data, \\\"duration\\\")\";\n",
       "                var nbb_cells = Jupyter.notebook.get_cells();\n",
       "                for (var i = 0; i < nbb_cells.length; ++i) {\n",
       "                    if (nbb_cells[i].input_prompt_number == nbb_cell_id) {\n",
       "                        if (nbb_cells[i].get_text() == nbb_unformatted_code) {\n",
       "                             nbb_cells[i].set_text(nbb_formatted_code);\n",
       "                        }\n",
       "                        break;\n",
       "                    }\n",
       "                }\n",
       "            }, 500);\n",
       "            "
      ],
      "text/plain": [
       "<IPython.core.display.Javascript object>"
      ]
     },
     "metadata": {},
     "output_type": "display_data"
    }
   ],
   "source": [
    "histogram_boxplot(data, \"duration\")"
   ]
  },
  {
   "cell_type": "markdown",
   "metadata": {},
   "source": [
    "* The distribution is right-skewed with a median runtime of less than 10 minutes."
   ]
  },
  {
   "cell_type": "markdown",
   "metadata": {},
   "source": [
    "### *watched*"
   ]
  },
  {
   "cell_type": "code",
   "execution_count": 20,
   "metadata": {},
   "outputs": [
    {
     "data": {
      "image/png": "[encoded data removed]",
      "text/plain": [
       "<Figure size 864x504 with 2 Axes>"
      ]
     },
     "metadata": {},
     "output_type": "display_data"
    },
    {
     "data": {
      "application/javascript": [
       "\n",
       "            setTimeout(function() {\n",
       "                var nbb_cell_id = 20;\n",
       "                var nbb_unformatted_code = \"histogram_boxplot(data, \\\"watched\\\")\";\n",
       "                var nbb_formatted_code = \"histogram_boxplot(data, \\\"watched\\\")\";\n",
       "                var nbb_cells = Jupyter.notebook.get_cells();\n",
       "                for (var i = 0; i < nbb_cells.length; ++i) {\n",
       "                    if (nbb_cells[i].input_prompt_number == nbb_cell_id) {\n",
       "                        if (nbb_cells[i].get_text() == nbb_unformatted_code) {\n",
       "                             nbb_cells[i].set_text(nbb_formatted_code);\n",
       "                        }\n",
       "                        break;\n",
       "                    }\n",
       "                }\n",
       "            }, 500);\n",
       "            "
      ],
      "text/plain": [
       "<IPython.core.display.Javascript object>"
      ]
     },
     "metadata": {},
     "output_type": "display_data"
    }
   ],
   "source": [
    "histogram_boxplot(data, \"watched\")"
   ]
  },
  {
   "cell_type": "markdown",
   "metadata": {},
   "source": [
    "* The distribution is heavily right-skewed, and most of the anime having less than 500 viewers."
   ]
  },
  {
   "cell_type": "markdown",
   "metadata": {},
   "source": [
    "### *years_running*"
   ]
  },
  {
   "cell_type": "code",
   "execution_count": 21,
   "metadata": {},
   "outputs": [
    {
     "data": {
      "image/png": "[encoded data removed]",
      "text/plain": [
       "<Figure size 864x504 with 2 Axes>"
      ]
     },
     "metadata": {},
     "output_type": "display_data"
    },
    {
     "data": {
      "application/javascript": [
       "\n",
       "            setTimeout(function() {\n",
       "                var nbb_cell_id = 21;\n",
       "                var nbb_unformatted_code = \"histogram_boxplot(data, \\\"years_running\\\")\";\n",
       "                var nbb_formatted_code = \"histogram_boxplot(data, \\\"years_running\\\")\";\n",
       "                var nbb_cells = Jupyter.notebook.get_cells();\n",
       "                for (var i = 0; i < nbb_cells.length; ++i) {\n",
       "                    if (nbb_cells[i].input_prompt_number == nbb_cell_id) {\n",
       "                        if (nbb_cells[i].get_text() == nbb_unformatted_code) {\n",
       "                             nbb_cells[i].set_text(nbb_formatted_code);\n",
       "                        }\n",
       "                        break;\n",
       "                    }\n",
       "                }\n",
       "            }, 500);\n",
       "            "
      ],
      "text/plain": [
       "<IPython.core.display.Javascript object>"
      ]
     },
     "metadata": {},
     "output_type": "display_data"
    }
   ],
   "source": [
    "histogram_boxplot(data, \"years_running\")"
   ]
  },
  {
   "cell_type": "markdown",
   "metadata": {},
   "source": [
    "* The distribution is heavily right-skewed, and most of the anime have run for less than 1 year."
   ]
  },
  {
   "cell_type": "code",
   "execution_count": 22,
   "metadata": {},
   "outputs": [
    {
     "data": {
      "application/javascript": [
       "\n",
       "            setTimeout(function() {\n",
       "                var nbb_cell_id = 22;\n",
       "                var nbb_unformatted_code = \"# function to create labeled barplots\\n\\n\\ndef labeled_barplot(data, feature, perc=False, n=None):\\n    \\\"\\\"\\\"\\n    Barplot with percentage at the top\\n\\n    data: dataframe\\n    feature: dataframe column\\n    perc: whether to display percentages instead of count (default is False)\\n    n: displays the top n category levels (default is None, i.e., display all levels)\\n    \\\"\\\"\\\"\\n\\n    total = len(data[feature])  # length of the column\\n    count = data[feature].nunique()\\n    if n is None:\\n        plt.figure(figsize=(count + 1, 5))\\n    else:\\n        plt.figure(figsize=(n + 1, 5))\\n\\n    plt.xticks(rotation=90, fontsize=15)\\n    ax = sns.countplot(\\n        data=data,\\n        x=feature,\\n        palette=\\\"Paired\\\",\\n        order=data[feature].value_counts().index[:n].sort_values(),\\n    )\\n\\n    for p in ax.patches:\\n        if perc == True:\\n            label = \\\"{:.1f}%\\\".format(\\n                100 * p.get_height() / total\\n            )  # percentage of each class of the category\\n        else:\\n            label = p.get_height()  # count of each level of the category\\n\\n        x = p.get_x() + p.get_width() / total  # width of the plot\\n        y = p.get_y() + p.get_height() + 1.5  # height of the plot\\n\\n        ax.annotate(label, (x, y), size=12, rotation=0)  # annotate the percentage\\n\\n    plt.show()  # show the plot\";\n",
       "                var nbb_formatted_code = \"# function to create labeled barplots\\n\\n\\ndef labeled_barplot(data, feature, perc=False, n=None):\\n    \\\"\\\"\\\"\\n    Barplot with percentage at the top\\n\\n    data: dataframe\\n    feature: dataframe column\\n    perc: whether to display percentages instead of count (default is False)\\n    n: displays the top n category levels (default is None, i.e., display all levels)\\n    \\\"\\\"\\\"\\n\\n    total = len(data[feature])  # length of the column\\n    count = data[feature].nunique()\\n    if n is None:\\n        plt.figure(figsize=(count + 1, 5))\\n    else:\\n        plt.figure(figsize=(n + 1, 5))\\n\\n    plt.xticks(rotation=90, fontsize=15)\\n    ax = sns.countplot(\\n        data=data,\\n        x=feature,\\n        palette=\\\"Paired\\\",\\n        order=data[feature].value_counts().index[:n].sort_values(),\\n    )\\n\\n    for p in ax.patches:\\n        if perc == True:\\n            label = \\\"{:.1f}%\\\".format(\\n                100 * p.get_height() / total\\n            )  # percentage of each class of the category\\n        else:\\n            label = p.get_height()  # count of each level of the category\\n\\n        x = p.get_x() + p.get_width() / total  # width of the plot\\n        y = p.get_y() + p.get_height() + 1.5  # height of the plot\\n\\n        ax.annotate(label, (x, y), size=12, rotation=0)  # annotate the percentage\\n\\n    plt.show()  # show the plot\";\n",
       "                var nbb_cells = Jupyter.notebook.get_cells();\n",
       "                for (var i = 0; i < nbb_cells.length; ++i) {\n",
       "                    if (nbb_cells[i].input_prompt_number == nbb_cell_id) {\n",
       "                        if (nbb_cells[i].get_text() == nbb_unformatted_code) {\n",
       "                             nbb_cells[i].set_text(nbb_formatted_code);\n",
       "                        }\n",
       "                        break;\n",
       "                    }\n",
       "                }\n",
       "            }, 500);\n",
       "            "
      ],
      "text/plain": [
       "<IPython.core.display.Javascript object>"
      ]
     },
     "metadata": {},
     "output_type": "display_data"
    }
   ],
   "source": [
    "# function to create labeled barplots\n",
    "\n",
    "\n",
    "def labeled_barplot(data, feature, perc=False, n=None):\n",
    "    \"\"\"\n",
    "    Barplot with percentage at the top\n",
    "\n",
    "    data: dataframe\n",
    "    feature: dataframe column\n",
    "    perc: whether to display percentages instead of count (default is False)\n",
    "    n: displays the top n category levels (default is None, i.e., display all levels)\n",
    "    \"\"\"\n",
    "\n",
    "    total = len(data[feature])  # length of the column\n",
    "    count = data[feature].nunique()\n",
    "    if n is None:\n",
    "        plt.figure(figsize=(count + 1, 5))\n",
    "    else:\n",
    "        plt.figure(figsize=(n + 1, 5))\n",
    "\n",
    "    plt.xticks(rotation=90, fontsize=15)\n",
    "    ax = sns.countplot(\n",
    "        data=data,\n",
    "        x=feature,\n",
    "        palette=\"Paired\",\n",
    "        order=data[feature].value_counts().index[:n].sort_values(),\n",
    "    )\n",
    "\n",
    "    for p in ax.patches:\n",
    "        if perc == True:\n",
    "            label = \"{:.1f}%\".format(\n",
    "                100 * p.get_height() / total\n",
    "            )  # percentage of each class of the category\n",
    "        else:\n",
    "            label = p.get_height()  # count of each level of the category\n",
    "\n",
    "        x = p.get_x() + p.get_width() / total  # width of the plot\n",
    "        y = p.get_y() + p.get_height() + 1.5  # height of the plot\n",
    "\n",
    "        ax.annotate(label, (x, y), size=12, rotation=0)  # annotate the percentage\n",
    "\n",
    "    plt.show()  # show the plot"
   ]
  },
  {
   "cell_type": "markdown",
   "metadata": {},
   "source": [
    "### *mediaType*"
   ]
  },
  {
   "cell_type": "code",
   "execution_count": 23,
   "metadata": {},
   "outputs": [
    {
     "data": {
      "image/png": "[encoded data removed]",
      "text/plain": [
       "<Figure size 720x360 with 1 Axes>"
      ]
     },
     "metadata": {},
     "output_type": "display_data"
    },
    {
     "data": {
      "application/javascript": [
       "\n",
       "            setTimeout(function() {\n",
       "                var nbb_cell_id = 23;\n",
       "                var nbb_unformatted_code = \"labeled_barplot(data, \\\"mediaType\\\", perc=True)\";\n",
       "                var nbb_formatted_code = \"labeled_barplot(data, \\\"mediaType\\\", perc=True)\";\n",
       "                var nbb_cells = Jupyter.notebook.get_cells();\n",
       "                for (var i = 0; i < nbb_cells.length; ++i) {\n",
       "                    if (nbb_cells[i].input_prompt_number == nbb_cell_id) {\n",
       "                        if (nbb_cells[i].get_text() == nbb_unformatted_code) {\n",
       "                             nbb_cells[i].set_text(nbb_formatted_code);\n",
       "                        }\n",
       "                        break;\n",
       "                    }\n",
       "                }\n",
       "            }, 500);\n",
       "            "
      ],
      "text/plain": [
       "<IPython.core.display.Javascript object>"
      ]
     },
     "metadata": {},
     "output_type": "display_data"
    }
   ],
   "source": [
    "labeled_barplot(data, \"mediaType\", perc=True)"
   ]
  },
  {
   "cell_type": "markdown",
   "metadata": {},
   "source": [
    "* Distribution of the media types has changed a lot after dropping the rows with missing values.\n",
    "* Most of the anime now are movies or music videos."
   ]
  },
  {
   "cell_type": "markdown",
   "metadata": {},
   "source": [
    "### *ongoing*"
   ]
  },
  {
   "cell_type": "code",
   "execution_count": 24,
   "metadata": {},
   "outputs": [
    {
     "data": {
      "image/png": "[encoded data removed]",
      "text/plain": [
       "<Figure size 216x360 with 1 Axes>"
      ]
     },
     "metadata": {},
     "output_type": "display_data"
    },
    {
     "data": {
      "application/javascript": [
       "\n",
       "            setTimeout(function() {\n",
       "                var nbb_cell_id = 24;\n",
       "                var nbb_unformatted_code = \"labeled_barplot(data, \\\"ongoing\\\", perc=True)\";\n",
       "                var nbb_formatted_code = \"labeled_barplot(data, \\\"ongoing\\\", perc=True)\";\n",
       "                var nbb_cells = Jupyter.notebook.get_cells();\n",
       "                for (var i = 0; i < nbb_cells.length; ++i) {\n",
       "                    if (nbb_cells[i].input_prompt_number == nbb_cell_id) {\n",
       "                        if (nbb_cells[i].get_text() == nbb_unformatted_code) {\n",
       "                             nbb_cells[i].set_text(nbb_formatted_code);\n",
       "                        }\n",
       "                        break;\n",
       "                    }\n",
       "                }\n",
       "            }, 500);\n",
       "            "
      ],
      "text/plain": [
       "<IPython.core.display.Javascript object>"
      ]
     },
     "metadata": {},
     "output_type": "display_data"
    }
   ],
   "source": [
    "labeled_barplot(data, \"ongoing\", perc=True)"
   ]
  },
  {
   "cell_type": "markdown",
   "metadata": {},
   "source": [
    "* Very few anime in the data are ongoing."
   ]
  },
  {
   "cell_type": "markdown",
   "metadata": {},
   "source": [
    "### *sznOfRelease*"
   ]
  },
  {
   "cell_type": "code",
   "execution_count": 25,
   "metadata": {},
   "outputs": [
    {
     "data": {
      "image/png": "[encoded data removed]",
      "text/plain": [
       "<Figure size 432x360 with 1 Axes>"
      ]
     },
     "metadata": {},
     "output_type": "display_data"
    },
    {
     "data": {
      "application/javascript": [
       "\n",
       "            setTimeout(function() {\n",
       "                var nbb_cell_id = 25;\n",
       "                var nbb_unformatted_code = \"labeled_barplot(data, \\\"sznOfRelease\\\", perc=True)\";\n",
       "                var nbb_formatted_code = \"labeled_barplot(data, \\\"sznOfRelease\\\", perc=True)\";\n",
       "                var nbb_cells = Jupyter.notebook.get_cells();\n",
       "                for (var i = 0; i < nbb_cells.length; ++i) {\n",
       "                    if (nbb_cells[i].input_prompt_number == nbb_cell_id) {\n",
       "                        if (nbb_cells[i].get_text() == nbb_unformatted_code) {\n",
       "                             nbb_cells[i].set_text(nbb_formatted_code);\n",
       "                        }\n",
       "                        break;\n",
       "                    }\n",
       "                }\n",
       "            }, 500);\n",
       "            "
      ],
      "text/plain": [
       "<IPython.core.display.Javascript object>"
      ]
     },
     "metadata": {},
     "output_type": "display_data"
    }
   ],
   "source": [
    "labeled_barplot(data, \"sznOfRelease\", perc=True)"
   ]
  },
  {
   "cell_type": "markdown",
   "metadata": {},
   "source": [
    "* The season of release of anime is spread out across all seasons when the value is available."
   ]
  },
  {
   "cell_type": "markdown",
   "metadata": {},
   "source": [
    "### *studio_primary*"
   ]
  },
  {
   "cell_type": "code",
   "execution_count": 26,
   "metadata": {},
   "outputs": [
    {
     "data": {
      "image/png": "[encoded data removed]",
      "text/plain": [
       "<Figure size 1656x360 with 1 Axes>"
      ]
     },
     "metadata": {},
     "output_type": "display_data"
    },
    {
     "data": {
      "application/javascript": [
       "\n",
       "            setTimeout(function() {\n",
       "                var nbb_cell_id = 26;\n",
       "                var nbb_unformatted_code = \"labeled_barplot(data, \\\"studio_primary\\\", perc=True)\";\n",
       "                var nbb_formatted_code = \"labeled_barplot(data, \\\"studio_primary\\\", perc=True)\";\n",
       "                var nbb_cells = Jupyter.notebook.get_cells();\n",
       "                for (var i = 0; i < nbb_cells.length; ++i) {\n",
       "                    if (nbb_cells[i].input_prompt_number == nbb_cell_id) {\n",
       "                        if (nbb_cells[i].get_text() == nbb_unformatted_code) {\n",
       "                             nbb_cells[i].set_text(nbb_formatted_code);\n",
       "                        }\n",
       "                        break;\n",
       "                    }\n",
       "                }\n",
       "            }, 500);\n",
       "            "
      ],
      "text/plain": [
       "<IPython.core.display.Javascript object>"
      ]
     },
     "metadata": {},
     "output_type": "display_data"
    }
   ],
   "source": [
    "labeled_barplot(data, \"studio_primary\", perc=True)"
   ]
  },
  {
   "cell_type": "markdown",
   "metadata": {},
   "source": [
    "* *Toei Animation* is the most common studio among the available studio names."
   ]
  },
  {
   "cell_type": "code",
   "execution_count": 27,
   "metadata": {},
   "outputs": [
    {
     "name": "stdout",
     "output_type": "stream",
     "text": [
      "0    5718\n",
      "1    1747\n",
      "Name: tag_Based_on_a_Manga, dtype: int64\n",
      "--------------------------------------------------\n",
      "0    5545\n",
      "1    1920\n",
      "Name: tag_Comedy, dtype: int64\n",
      "--------------------------------------------------\n",
      "0    6227\n",
      "1    1238\n",
      "Name: tag_Action, dtype: int64\n",
      "--------------------------------------------------\n",
      "0    6342\n",
      "1    1123\n",
      "Name: tag_Fantasy, dtype: int64\n",
      "--------------------------------------------------\n",
      "0    6511\n",
      "1     954\n",
      "Name: tag_Sci_Fi, dtype: int64\n",
      "--------------------------------------------------\n",
      "0    6625\n",
      "1     840\n",
      "Name: tag_Shounen, dtype: int64\n",
      "--------------------------------------------------\n",
      "0    6548\n",
      "1     917\n",
      "Name: tag_Original_Work, dtype: int64\n",
      "--------------------------------------------------\n",
      "0    6553\n",
      "1     912\n",
      "Name: tag_Non_Human_Protagonists, dtype: int64\n",
      "--------------------------------------------------\n",
      "0    6896\n",
      "1     569\n",
      "Name: tag_Drama, dtype: int64\n",
      "--------------------------------------------------\n",
      "0    6913\n",
      "1     552\n",
      "Name: tag_Adventure, dtype: int64\n",
      "--------------------------------------------------\n",
      "0    6736\n",
      "1     729\n",
      "Name: tag_Family_Friendly, dtype: int64\n",
      "--------------------------------------------------\n",
      "0    6292\n",
      "1    1173\n",
      "Name: tag_Short_Episodes, dtype: int64\n",
      "--------------------------------------------------\n",
      "0    7029\n",
      "1     436\n",
      "Name: tag_School_Life, dtype: int64\n",
      "--------------------------------------------------\n",
      "0    6978\n",
      "1     487\n",
      "Name: tag_Romance, dtype: int64\n",
      "--------------------------------------------------\n",
      "0    6386\n",
      "1    1079\n",
      "Name: tag_Shorts, dtype: int64\n",
      "--------------------------------------------------\n",
      "0    6875\n",
      "1     590\n",
      "Name: tag_Slice_of_Life, dtype: int64\n",
      "--------------------------------------------------\n",
      "0    7019\n",
      "1     446\n",
      "Name: tag_Seinen, dtype: int64\n",
      "--------------------------------------------------\n",
      "0    7035\n",
      "1     430\n",
      "Name: tag_Supernatural, dtype: int64\n",
      "--------------------------------------------------\n",
      "0    7132\n",
      "1     333\n",
      "Name: tag_Magic, dtype: int64\n",
      "--------------------------------------------------\n",
      "0    6885\n",
      "1     580\n",
      "Name: tag_Animal_Protagonists, dtype: int64\n",
      "--------------------------------------------------\n",
      "0    7159\n",
      "1     306\n",
      "Name: tag_Ecchi, dtype: int64\n",
      "--------------------------------------------------\n",
      "0    7189\n",
      "1     276\n",
      "Name: tag_Mecha, dtype: int64\n",
      "--------------------------------------------------\n",
      "0    7224\n",
      "1     241\n",
      "Name: tag_Based_on_a_Light_Novel, dtype: int64\n",
      "--------------------------------------------------\n",
      "0    6985\n",
      "1     480\n",
      "Name: tag_CG_Animation, dtype: int64\n",
      "--------------------------------------------------\n",
      "0    7218\n",
      "1     247\n",
      "Name: tag_Superpowers, dtype: int64\n",
      "--------------------------------------------------\n",
      "0    6521\n",
      "1     944\n",
      "Name: tag_Others, dtype: int64\n",
      "--------------------------------------------------\n",
      "0    7184\n",
      "1     281\n",
      "Name: tag_missing, dtype: int64\n",
      "--------------------------------------------------\n"
     ]
    },
    {
     "data": {
      "application/javascript": [
       "\n",
       "            setTimeout(function() {\n",
       "                var nbb_cell_id = 27;\n",
       "                var nbb_unformatted_code = \"# creating a list of tag columns\\ntag_cols = [item for item in data.columns if \\\"tag\\\" in item]\\n\\n# printing the number of occurrences of each unique value in each categorical column\\nfor column in tag_cols:\\n    print(data[column].value_counts())\\n    print(\\\"-\\\" * 50)\";\n",
       "                var nbb_formatted_code = \"# creating a list of tag columns\\ntag_cols = [item for item in data.columns if \\\"tag\\\" in item]\\n\\n# printing the number of occurrences of each unique value in each categorical column\\nfor column in tag_cols:\\n    print(data[column].value_counts())\\n    print(\\\"-\\\" * 50)\";\n",
       "                var nbb_cells = Jupyter.notebook.get_cells();\n",
       "                for (var i = 0; i < nbb_cells.length; ++i) {\n",
       "                    if (nbb_cells[i].input_prompt_number == nbb_cell_id) {\n",
       "                        if (nbb_cells[i].get_text() == nbb_unformatted_code) {\n",
       "                             nbb_cells[i].set_text(nbb_formatted_code);\n",
       "                        }\n",
       "                        break;\n",
       "                    }\n",
       "                }\n",
       "            }, 500);\n",
       "            "
      ],
      "text/plain": [
       "<IPython.core.display.Javascript object>"
      ]
     },
     "metadata": {},
     "output_type": "display_data"
    }
   ],
   "source": [
    "# creating a list of tag columns\n",
    "tag_cols = [item for item in data.columns if \"tag\" in item]\n",
    "\n",
    "# printing the number of occurrences of each unique value in each categorical column\n",
    "for column in tag_cols:\n",
    "    print(data[column].value_counts())\n",
    "    print(\"-\" * 50)"
   ]
  },
  {
   "cell_type": "markdown",
   "metadata": {},
   "source": [
    "* There are 1747 anime that are based on manga.\n",
    "* There are 1920 anime of the Comedy genre.\n",
    "* There are 1079 anime of the Romance genre."
   ]
  },
  {
   "cell_type": "markdown",
   "metadata": {
    "id": "3jS63iRW9WKs"
   },
   "source": [
    "### Bivariate analysis"
   ]
  },
  {
   "cell_type": "markdown",
   "metadata": {},
   "source": [
    "**We will not consider the *tag* columns for correlation check as they have only 0 or 1 values.**"
   ]
  },
  {
   "cell_type": "code",
   "execution_count": 28,
   "metadata": {},
   "outputs": [
    {
     "name": "stdout",
     "output_type": "stream",
     "text": [
      "['mediaType', 'eps', 'duration', 'ongoing', 'sznOfRelease', 'years_running', 'studio_primary', 'studios_colab', 'contentWarn', 'watched', 'watching', 'wantWatch', 'dropped', 'rating', 'votes']\n"
     ]
    },
    {
     "data": {
      "application/javascript": [
       "\n",
       "            setTimeout(function() {\n",
       "                var nbb_cell_id = 28;\n",
       "                var nbb_unformatted_code = \"# creating a list of non-tag columns\\ncorr_cols = [item for item in data.columns if \\\"tag\\\" not in item]\\nprint(corr_cols)\";\n",
       "                var nbb_formatted_code = \"# creating a list of non-tag columns\\ncorr_cols = [item for item in data.columns if \\\"tag\\\" not in item]\\nprint(corr_cols)\";\n",
       "                var nbb_cells = Jupyter.notebook.get_cells();\n",
       "                for (var i = 0; i < nbb_cells.length; ++i) {\n",
       "                    if (nbb_cells[i].input_prompt_number == nbb_cell_id) {\n",
       "                        if (nbb_cells[i].get_text() == nbb_unformatted_code) {\n",
       "                             nbb_cells[i].set_text(nbb_formatted_code);\n",
       "                        }\n",
       "                        break;\n",
       "                    }\n",
       "                }\n",
       "            }, 500);\n",
       "            "
      ],
      "text/plain": [
       "<IPython.core.display.Javascript object>"
      ]
     },
     "metadata": {},
     "output_type": "display_data"
    }
   ],
   "source": [
    "# creating a list of non-tag columns\n",
    "corr_cols = [item for item in data.columns if \"tag\" not in item]\n",
    "print(corr_cols)"
   ]
  },
  {
   "cell_type": "code",
   "execution_count": 29,
   "metadata": {},
   "outputs": [
    {
     "data": {
      "image/png": "[encoded data removed]",
      "text/plain": [
       "<Figure size 1080x504 with 2 Axes>"
      ]
     },
     "metadata": {},
     "output_type": "display_data"
    },
    {
     "data": {
      "application/javascript": [
       "\n",
       "            setTimeout(function() {\n",
       "                var nbb_cell_id = 29;\n",
       "                var nbb_unformatted_code = \"plt.figure(figsize=(15, 7))\\nsns.heatmap(\\n    df[corr_cols].corr(), annot=True, vmin=-1, vmax=1, fmt=\\\".2f\\\", cmap=\\\"Spectral\\\"\\n)\\nplt.show()\";\n",
       "                var nbb_formatted_code = \"plt.figure(figsize=(15, 7))\\nsns.heatmap(\\n    df[corr_cols].corr(), annot=True, vmin=-1, vmax=1, fmt=\\\".2f\\\", cmap=\\\"Spectral\\\"\\n)\\nplt.show()\";\n",
       "                var nbb_cells = Jupyter.notebook.get_cells();\n",
       "                for (var i = 0; i < nbb_cells.length; ++i) {\n",
       "                    if (nbb_cells[i].input_prompt_number == nbb_cell_id) {\n",
       "                        if (nbb_cells[i].get_text() == nbb_unformatted_code) {\n",
       "                             nbb_cells[i].set_text(nbb_formatted_code);\n",
       "                        }\n",
       "                        break;\n",
       "                    }\n",
       "                }\n",
       "            }, 500);\n",
       "            "
      ],
      "text/plain": [
       "<IPython.core.display.Javascript object>"
      ]
     },
     "metadata": {},
     "output_type": "display_data"
    }
   ],
   "source": [
    "plt.figure(figsize=(15, 7))\n",
    "sns.heatmap(\n",
    "    df[corr_cols].corr(), annot=True, vmin=-1, vmax=1, fmt=\".2f\", cmap=\"Spectral\"\n",
    ")\n",
    "plt.show()"
   ]
  },
  {
   "cell_type": "markdown",
   "metadata": {},
   "source": [
    "* *watched* and *wantWatch* columns are highly correlated.\n",
    "* *watched* and *votes* columns are very highly correlated.\n",
    "* *wantWatch* and *votes* columns are highly correlated."
   ]
  },
  {
   "cell_type": "markdown",
   "metadata": {},
   "source": [
    "### Let's check the variation in *rating* with some of the categorical columns in our data"
   ]
  },
  {
   "cell_type": "markdown",
   "metadata": {},
   "source": [
    "### *mediaType* vs *rating*"
   ]
  },
  {
   "cell_type": "code",
   "execution_count": 30,
   "metadata": {},
   "outputs": [
    {
     "data": {
      "image/png": "[encoded data removed]",
      "text/plain": [
       "<Figure size 720x360 with 1 Axes>"
      ]
     },
     "metadata": {},
     "output_type": "display_data"
    },
    {
     "data": {
      "application/javascript": [
       "\n",
       "            setTimeout(function() {\n",
       "                var nbb_cell_id = 30;\n",
       "                var nbb_unformatted_code = \"plt.figure(figsize=(10, 5))\\nsns.boxplot(x=\\\"mediaType\\\", y=\\\"rating\\\", data=data)\\nplt.show()\";\n",
       "                var nbb_formatted_code = \"plt.figure(figsize=(10, 5))\\nsns.boxplot(x=\\\"mediaType\\\", y=\\\"rating\\\", data=data)\\nplt.show()\";\n",
       "                var nbb_cells = Jupyter.notebook.get_cells();\n",
       "                for (var i = 0; i < nbb_cells.length; ++i) {\n",
       "                    if (nbb_cells[i].input_prompt_number == nbb_cell_id) {\n",
       "                        if (nbb_cells[i].get_text() == nbb_unformatted_code) {\n",
       "                             nbb_cells[i].set_text(nbb_formatted_code);\n",
       "                        }\n",
       "                        break;\n",
       "                    }\n",
       "                }\n",
       "            }, 500);\n",
       "            "
      ],
      "text/plain": [
       "<IPython.core.display.Javascript object>"
      ]
     },
     "metadata": {},
     "output_type": "display_data"
    }
   ],
   "source": [
    "plt.figure(figsize=(10, 5))\n",
    "sns.boxplot(x=\"mediaType\", y=\"rating\", data=data)\n",
    "plt.show()"
   ]
  },
  {
   "cell_type": "markdown",
   "metadata": {},
   "source": [
    "* Anime available as TV series, web series, or music videos have a lower rating in general."
   ]
  },
  {
   "cell_type": "markdown",
   "metadata": {},
   "source": [
    "### *sznOfRelease* vs *rating*"
   ]
  },
  {
   "cell_type": "code",
   "execution_count": 31,
   "metadata": {},
   "outputs": [
    {
     "data": {
      "image/png": "[encoded data removed]",
      "text/plain": [
       "<Figure size 720x360 with 1 Axes>"
      ]
     },
     "metadata": {},
     "output_type": "display_data"
    },
    {
     "data": {
      "application/javascript": [
       "\n",
       "            setTimeout(function() {\n",
       "                var nbb_cell_id = 31;\n",
       "                var nbb_unformatted_code = \"plt.figure(figsize=(10, 5))\\nsns.boxplot(x=\\\"sznOfRelease\\\", y=\\\"rating\\\", data=data)\\nplt.show()\";\n",
       "                var nbb_formatted_code = \"plt.figure(figsize=(10, 5))\\nsns.boxplot(x=\\\"sznOfRelease\\\", y=\\\"rating\\\", data=data)\\nplt.show()\";\n",
       "                var nbb_cells = Jupyter.notebook.get_cells();\n",
       "                for (var i = 0; i < nbb_cells.length; ++i) {\n",
       "                    if (nbb_cells[i].input_prompt_number == nbb_cell_id) {\n",
       "                        if (nbb_cells[i].get_text() == nbb_unformatted_code) {\n",
       "                             nbb_cells[i].set_text(nbb_formatted_code);\n",
       "                        }\n",
       "                        break;\n",
       "                    }\n",
       "                }\n",
       "            }, 500);\n",
       "            "
      ],
      "text/plain": [
       "<IPython.core.display.Javascript object>"
      ]
     },
     "metadata": {},
     "output_type": "display_data"
    }
   ],
   "source": [
    "plt.figure(figsize=(10, 5))\n",
    "sns.boxplot(x=\"sznOfRelease\", y=\"rating\", data=data)\n",
    "plt.show()"
   ]
  },
  {
   "cell_type": "markdown",
   "metadata": {},
   "source": [
    "* Anime ratings are almost uniformly spread across all the seasons of release."
   ]
  },
  {
   "cell_type": "markdown",
   "metadata": {},
   "source": [
    "### *studio_primary* vs *rating*"
   ]
  },
  {
   "cell_type": "code",
   "execution_count": 32,
   "metadata": {},
   "outputs": [
    {
     "data": {
      "image/png": "[encoded data removed]",
      "text/plain": [
       "<Figure size 1080x360 with 1 Axes>"
      ]
     },
     "metadata": {},
     "output_type": "display_data"
    },
    {
     "data": {
      "application/javascript": [
       "\n",
       "            setTimeout(function() {\n",
       "                var nbb_cell_id = 32;\n",
       "                var nbb_unformatted_code = \"plt.figure(figsize=(15, 5))\\nsns.boxplot(x=\\\"studio_primary\\\", y=\\\"rating\\\", data=data)\\nplt.xticks(rotation=90)\\nplt.show()\";\n",
       "                var nbb_formatted_code = \"plt.figure(figsize=(15, 5))\\nsns.boxplot(x=\\\"studio_primary\\\", y=\\\"rating\\\", data=data)\\nplt.xticks(rotation=90)\\nplt.show()\";\n",
       "                var nbb_cells = Jupyter.notebook.get_cells();\n",
       "                for (var i = 0; i < nbb_cells.length; ++i) {\n",
       "                    if (nbb_cells[i].input_prompt_number == nbb_cell_id) {\n",
       "                        if (nbb_cells[i].get_text() == nbb_unformatted_code) {\n",
       "                             nbb_cells[i].set_text(nbb_formatted_code);\n",
       "                        }\n",
       "                        break;\n",
       "                    }\n",
       "                }\n",
       "            }, 500);\n",
       "            "
      ],
      "text/plain": [
       "<IPython.core.display.Javascript object>"
      ]
     },
     "metadata": {},
     "output_type": "display_data"
    }
   ],
   "source": [
    "plt.figure(figsize=(15, 5))\n",
    "sns.boxplot(x=\"studio_primary\", y=\"rating\", data=data)\n",
    "plt.xticks(rotation=90)\n",
    "plt.show()"
   ]
  },
  {
   "cell_type": "markdown",
   "metadata": {},
   "source": [
    "* In general, the ratings are low for anime produced by *DLE* studios.\n",
    "* Ratings are also low, in general, for anime produced by studios other than the ones in the data."
   ]
  },
  {
   "cell_type": "markdown",
   "metadata": {},
   "source": [
    "**We will drop the *votes* column from the data as *watched* and *votes* columns are very highly correlated.**"
   ]
  },
  {
   "cell_type": "code",
   "execution_count": 33,
   "metadata": {},
   "outputs": [
    {
     "data": {
      "text/plain": [
       "(7465, 41)"
      ]
     },
     "execution_count": 33,
     "metadata": {},
     "output_type": "execute_result"
    },
    {
     "data": {
      "application/javascript": [
       "\n",
       "            setTimeout(function() {\n",
       "                var nbb_cell_id = 33;\n",
       "                var nbb_unformatted_code = \"data.drop(\\\"votes\\\", axis=1, inplace=True)\\ndata.shape\";\n",
       "                var nbb_formatted_code = \"data.drop(\\\"votes\\\", axis=1, inplace=True)\\ndata.shape\";\n",
       "                var nbb_cells = Jupyter.notebook.get_cells();\n",
       "                for (var i = 0; i < nbb_cells.length; ++i) {\n",
       "                    if (nbb_cells[i].input_prompt_number == nbb_cell_id) {\n",
       "                        if (nbb_cells[i].get_text() == nbb_unformatted_code) {\n",
       "                             nbb_cells[i].set_text(nbb_formatted_code);\n",
       "                        }\n",
       "                        break;\n",
       "                    }\n",
       "                }\n",
       "            }, 500);\n",
       "            "
      ],
      "text/plain": [
       "<IPython.core.display.Javascript object>"
      ]
     },
     "metadata": {},
     "output_type": "display_data"
    }
   ],
   "source": [
    "data.drop(\"votes\", axis=1, inplace=True)\n",
    "data.shape"
   ]
  },
  {
   "cell_type": "markdown",
   "metadata": {},
   "source": [
    "## Model Building"
   ]
  },
  {
   "cell_type": "markdown",
   "metadata": {},
   "source": [
    "### Define independent and dependent variables"
   ]
  },
  {
   "cell_type": "code",
   "execution_count": 34,
   "metadata": {},
   "outputs": [
    {
     "data": {
      "application/javascript": [
       "\n",
       "            setTimeout(function() {\n",
       "                var nbb_cell_id = 34;\n",
       "                var nbb_unformatted_code = \"X = data.drop([\\\"rating\\\"], axis=1)\\ny = data[\\\"rating\\\"]\";\n",
       "                var nbb_formatted_code = \"X = data.drop([\\\"rating\\\"], axis=1)\\ny = data[\\\"rating\\\"]\";\n",
       "                var nbb_cells = Jupyter.notebook.get_cells();\n",
       "                for (var i = 0; i < nbb_cells.length; ++i) {\n",
       "                    if (nbb_cells[i].input_prompt_number == nbb_cell_id) {\n",
       "                        if (nbb_cells[i].get_text() == nbb_unformatted_code) {\n",
       "                             nbb_cells[i].set_text(nbb_formatted_code);\n",
       "                        }\n",
       "                        break;\n",
       "                    }\n",
       "                }\n",
       "            }, 500);\n",
       "            "
      ],
      "text/plain": [
       "<IPython.core.display.Javascript object>"
      ]
     },
     "metadata": {},
     "output_type": "display_data"
    }
   ],
   "source": [
    "X = data.drop([\"rating\"], axis=1)\n",
    "y = data[\"rating\"]"
   ]
  },
  {
   "cell_type": "markdown",
   "metadata": {},
   "source": [
    "### Creating dummy variables"
   ]
  },
  {
   "cell_type": "code",
   "execution_count": 35,
   "metadata": {},
   "outputs": [
    {
     "data": {
      "text/html": [
       "<div>\n",
       "<style scoped>\n",
       "    .dataframe tbody tr th:only-of-type {\n",
       "        vertical-align: middle;\n",
       "    }\n",
       "\n",
       "    .dataframe tbody tr th {\n",
       "        vertical-align: top;\n",
       "    }\n",
       "\n",
       "    .dataframe thead th {\n",
       "        text-align: right;\n",
       "    }\n",
       "</style>\n",
       "<table border=\"1\" class=\"dataframe\">\n",
       "  <thead>\n",
       "    <tr style=\"text-align: right;\">\n",
       "      <th></th>\n",
       "      <th>eps</th>\n",
       "      <th>duration</th>\n",
       "      <th>ongoing</th>\n",
       "      <th>years_running</th>\n",
       "      <th>studios_colab</th>\n",
       "      <th>contentWarn</th>\n",
       "      <th>watched</th>\n",
       "      <th>watching</th>\n",
       "      <th>wantWatch</th>\n",
       "      <th>dropped</th>\n",
       "      <th>tag_Based_on_a_Manga</th>\n",
       "      <th>tag_Comedy</th>\n",
       "      <th>tag_Action</th>\n",
       "      <th>tag_Fantasy</th>\n",
       "      <th>tag_Sci_Fi</th>\n",
       "      <th>tag_Shounen</th>\n",
       "      <th>tag_Original_Work</th>\n",
       "      <th>tag_Non_Human_Protagonists</th>\n",
       "      <th>tag_Drama</th>\n",
       "      <th>tag_Adventure</th>\n",
       "      <th>tag_Family_Friendly</th>\n",
       "      <th>tag_Short_Episodes</th>\n",
       "      <th>tag_School_Life</th>\n",
       "      <th>tag_Romance</th>\n",
       "      <th>tag_Shorts</th>\n",
       "      <th>tag_Slice_of_Life</th>\n",
       "      <th>tag_Seinen</th>\n",
       "      <th>tag_Supernatural</th>\n",
       "      <th>tag_Magic</th>\n",
       "      <th>tag_Animal_Protagonists</th>\n",
       "      <th>tag_Ecchi</th>\n",
       "      <th>tag_Mecha</th>\n",
       "      <th>tag_Based_on_a_Light_Novel</th>\n",
       "      <th>tag_CG_Animation</th>\n",
       "      <th>tag_Superpowers</th>\n",
       "      <th>tag_Others</th>\n",
       "      <th>tag_missing</th>\n",
       "      <th>mediaType_Movie</th>\n",
       "      <th>mediaType_Music Video</th>\n",
       "      <th>mediaType_OVA</th>\n",
       "      <th>mediaType_Other</th>\n",
       "      <th>mediaType_TV</th>\n",
       "      <th>mediaType_TV Special</th>\n",
       "      <th>mediaType_Web</th>\n",
       "      <th>mediaType_is_missing</th>\n",
       "      <th>sznOfRelease_Spring</th>\n",
       "      <th>sznOfRelease_Summer</th>\n",
       "      <th>sznOfRelease_Winter</th>\n",
       "      <th>sznOfRelease_is_missing</th>\n",
       "      <th>studio_primary_AIC</th>\n",
       "      <th>studio_primary_Bones</th>\n",
       "      <th>studio_primary_DLE</th>\n",
       "      <th>studio_primary_GONZO</th>\n",
       "      <th>studio_primary_J.C. Staff</th>\n",
       "      <th>studio_primary_Kyoto Animation</th>\n",
       "      <th>studio_primary_MADHOUSE</th>\n",
       "      <th>studio_primary_Nippon Animation</th>\n",
       "      <th>studio_primary_OLM</th>\n",
       "      <th>studio_primary_Others</th>\n",
       "      <th>studio_primary_Production I.G</th>\n",
       "      <th>studio_primary_Shaft</th>\n",
       "      <th>studio_primary_Shin-Ei Animation</th>\n",
       "      <th>studio_primary_Studio Deen</th>\n",
       "      <th>studio_primary_Studio Pierrot</th>\n",
       "      <th>studio_primary_Sunrise</th>\n",
       "      <th>studio_primary_TMS Entertainment</th>\n",
       "      <th>studio_primary_Tatsunoko Production</th>\n",
       "      <th>studio_primary_Toei Animation</th>\n",
       "      <th>studio_primary_XEBEC</th>\n",
       "      <th>studio_primary_is_missing</th>\n",
       "    </tr>\n",
       "  </thead>\n",
       "  <tbody>\n",
       "    <tr>\n",
       "      <th>1</th>\n",
       "      <td>1</td>\n",
       "      <td>107.0</td>\n",
       "      <td>False</td>\n",
       "      <td>0</td>\n",
       "      <td>0</td>\n",
       "      <td>0</td>\n",
       "      <td>58831.0</td>\n",
       "      <td>1453</td>\n",
       "      <td>21733</td>\n",
       "      <td>124</td>\n",
       "      <td>0</td>\n",
       "      <td>0</td>\n",
       "      <td>0</td>\n",
       "      <td>0</td>\n",
       "      <td>0</td>\n",
       "      <td>0</td>\n",
       "      <td>1</td>\n",
       "      <td>0</td>\n",
       "      <td>1</td>\n",
       "      <td>0</td>\n",
       "      <td>0</td>\n",
       "      <td>0</td>\n",
       "      <td>1</td>\n",
       "      <td>1</td>\n",
       "      <td>0</td>\n",
       "      <td>0</td>\n",
       "      <td>0</td>\n",
       "      <td>1</td>\n",
       "      <td>0</td>\n",
       "      <td>0</td>\n",
       "      <td>0</td>\n",
       "      <td>0</td>\n",
       "      <td>0</td>\n",
       "      <td>0</td>\n",
       "      <td>0</td>\n",
       "      <td>0</td>\n",
       "      <td>0</td>\n",
       "      <td>1</td>\n",
       "      <td>0</td>\n",
       "      <td>0</td>\n",
       "      <td>0</td>\n",
       "      <td>0</td>\n",
       "      <td>0</td>\n",
       "      <td>0</td>\n",
       "      <td>0</td>\n",
       "      <td>0</td>\n",
       "      <td>0</td>\n",
       "      <td>0</td>\n",
       "      <td>1</td>\n",
       "      <td>0</td>\n",
       "      <td>0</td>\n",
       "      <td>0</td>\n",
       "      <td>0</td>\n",
       "      <td>0</td>\n",
       "      <td>0</td>\n",
       "      <td>0</td>\n",
       "      <td>0</td>\n",
       "      <td>0</td>\n",
       "      <td>1</td>\n",
       "      <td>0</td>\n",
       "      <td>0</td>\n",
       "      <td>0</td>\n",
       "      <td>0</td>\n",
       "      <td>0</td>\n",
       "      <td>0</td>\n",
       "      <td>0</td>\n",
       "      <td>0</td>\n",
       "      <td>0</td>\n",
       "      <td>0</td>\n",
       "      <td>0</td>\n",
       "    </tr>\n",
       "    <tr>\n",
       "      <th>2</th>\n",
       "      <td>1</td>\n",
       "      <td>130.0</td>\n",
       "      <td>False</td>\n",
       "      <td>0</td>\n",
       "      <td>0</td>\n",
       "      <td>1</td>\n",
       "      <td>45892.0</td>\n",
       "      <td>946</td>\n",
       "      <td>17148</td>\n",
       "      <td>132</td>\n",
       "      <td>1</td>\n",
       "      <td>0</td>\n",
       "      <td>0</td>\n",
       "      <td>0</td>\n",
       "      <td>0</td>\n",
       "      <td>1</td>\n",
       "      <td>0</td>\n",
       "      <td>0</td>\n",
       "      <td>1</td>\n",
       "      <td>0</td>\n",
       "      <td>0</td>\n",
       "      <td>0</td>\n",
       "      <td>1</td>\n",
       "      <td>0</td>\n",
       "      <td>0</td>\n",
       "      <td>0</td>\n",
       "      <td>0</td>\n",
       "      <td>0</td>\n",
       "      <td>0</td>\n",
       "      <td>0</td>\n",
       "      <td>0</td>\n",
       "      <td>0</td>\n",
       "      <td>0</td>\n",
       "      <td>0</td>\n",
       "      <td>0</td>\n",
       "      <td>0</td>\n",
       "      <td>0</td>\n",
       "      <td>1</td>\n",
       "      <td>0</td>\n",
       "      <td>0</td>\n",
       "      <td>0</td>\n",
       "      <td>0</td>\n",
       "      <td>0</td>\n",
       "      <td>0</td>\n",
       "      <td>0</td>\n",
       "      <td>0</td>\n",
       "      <td>0</td>\n",
       "      <td>0</td>\n",
       "      <td>1</td>\n",
       "      <td>0</td>\n",
       "      <td>0</td>\n",
       "      <td>0</td>\n",
       "      <td>0</td>\n",
       "      <td>0</td>\n",
       "      <td>1</td>\n",
       "      <td>0</td>\n",
       "      <td>0</td>\n",
       "      <td>0</td>\n",
       "      <td>0</td>\n",
       "      <td>0</td>\n",
       "      <td>0</td>\n",
       "      <td>0</td>\n",
       "      <td>0</td>\n",
       "      <td>0</td>\n",
       "      <td>0</td>\n",
       "      <td>0</td>\n",
       "      <td>0</td>\n",
       "      <td>0</td>\n",
       "      <td>0</td>\n",
       "      <td>0</td>\n",
       "    </tr>\n",
       "    <tr>\n",
       "      <th>8</th>\n",
       "      <td>1</td>\n",
       "      <td>111.0</td>\n",
       "      <td>False</td>\n",
       "      <td>0</td>\n",
       "      <td>0</td>\n",
       "      <td>0</td>\n",
       "      <td>8454.0</td>\n",
       "      <td>280</td>\n",
       "      <td>6624</td>\n",
       "      <td>150</td>\n",
       "      <td>1</td>\n",
       "      <td>1</td>\n",
       "      <td>1</td>\n",
       "      <td>0</td>\n",
       "      <td>1</td>\n",
       "      <td>1</td>\n",
       "      <td>0</td>\n",
       "      <td>0</td>\n",
       "      <td>1</td>\n",
       "      <td>0</td>\n",
       "      <td>0</td>\n",
       "      <td>0</td>\n",
       "      <td>0</td>\n",
       "      <td>0</td>\n",
       "      <td>0</td>\n",
       "      <td>0</td>\n",
       "      <td>0</td>\n",
       "      <td>0</td>\n",
       "      <td>0</td>\n",
       "      <td>0</td>\n",
       "      <td>0</td>\n",
       "      <td>0</td>\n",
       "      <td>0</td>\n",
       "      <td>0</td>\n",
       "      <td>0</td>\n",
       "      <td>0</td>\n",
       "      <td>0</td>\n",
       "      <td>1</td>\n",
       "      <td>0</td>\n",
       "      <td>0</td>\n",
       "      <td>0</td>\n",
       "      <td>0</td>\n",
       "      <td>0</td>\n",
       "      <td>0</td>\n",
       "      <td>0</td>\n",
       "      <td>0</td>\n",
       "      <td>0</td>\n",
       "      <td>0</td>\n",
       "      <td>1</td>\n",
       "      <td>0</td>\n",
       "      <td>0</td>\n",
       "      <td>0</td>\n",
       "      <td>0</td>\n",
       "      <td>0</td>\n",
       "      <td>0</td>\n",
       "      <td>0</td>\n",
       "      <td>0</td>\n",
       "      <td>0</td>\n",
       "      <td>0</td>\n",
       "      <td>0</td>\n",
       "      <td>0</td>\n",
       "      <td>0</td>\n",
       "      <td>0</td>\n",
       "      <td>0</td>\n",
       "      <td>1</td>\n",
       "      <td>0</td>\n",
       "      <td>0</td>\n",
       "      <td>0</td>\n",
       "      <td>0</td>\n",
       "      <td>0</td>\n",
       "    </tr>\n",
       "    <tr>\n",
       "      <th>27</th>\n",
       "      <td>1</td>\n",
       "      <td>125.0</td>\n",
       "      <td>False</td>\n",
       "      <td>0</td>\n",
       "      <td>0</td>\n",
       "      <td>0</td>\n",
       "      <td>115949.0</td>\n",
       "      <td>589</td>\n",
       "      <td>12388</td>\n",
       "      <td>161</td>\n",
       "      <td>0</td>\n",
       "      <td>0</td>\n",
       "      <td>0</td>\n",
       "      <td>1</td>\n",
       "      <td>0</td>\n",
       "      <td>0</td>\n",
       "      <td>1</td>\n",
       "      <td>0</td>\n",
       "      <td>0</td>\n",
       "      <td>1</td>\n",
       "      <td>1</td>\n",
       "      <td>0</td>\n",
       "      <td>0</td>\n",
       "      <td>0</td>\n",
       "      <td>0</td>\n",
       "      <td>0</td>\n",
       "      <td>0</td>\n",
       "      <td>0</td>\n",
       "      <td>1</td>\n",
       "      <td>0</td>\n",
       "      <td>0</td>\n",
       "      <td>0</td>\n",
       "      <td>0</td>\n",
       "      <td>0</td>\n",
       "      <td>0</td>\n",
       "      <td>0</td>\n",
       "      <td>0</td>\n",
       "      <td>1</td>\n",
       "      <td>0</td>\n",
       "      <td>0</td>\n",
       "      <td>0</td>\n",
       "      <td>0</td>\n",
       "      <td>0</td>\n",
       "      <td>0</td>\n",
       "      <td>0</td>\n",
       "      <td>0</td>\n",
       "      <td>0</td>\n",
       "      <td>0</td>\n",
       "      <td>1</td>\n",
       "      <td>0</td>\n",
       "      <td>0</td>\n",
       "      <td>0</td>\n",
       "      <td>0</td>\n",
       "      <td>0</td>\n",
       "      <td>0</td>\n",
       "      <td>0</td>\n",
       "      <td>0</td>\n",
       "      <td>0</td>\n",
       "      <td>1</td>\n",
       "      <td>0</td>\n",
       "      <td>0</td>\n",
       "      <td>0</td>\n",
       "      <td>0</td>\n",
       "      <td>0</td>\n",
       "      <td>0</td>\n",
       "      <td>0</td>\n",
       "      <td>0</td>\n",
       "      <td>0</td>\n",
       "      <td>0</td>\n",
       "      <td>0</td>\n",
       "    </tr>\n",
       "    <tr>\n",
       "      <th>31</th>\n",
       "      <td>1</td>\n",
       "      <td>117.0</td>\n",
       "      <td>False</td>\n",
       "      <td>0</td>\n",
       "      <td>0</td>\n",
       "      <td>0</td>\n",
       "      <td>35896.0</td>\n",
       "      <td>538</td>\n",
       "      <td>15651</td>\n",
       "      <td>130</td>\n",
       "      <td>0</td>\n",
       "      <td>0</td>\n",
       "      <td>0</td>\n",
       "      <td>1</td>\n",
       "      <td>0</td>\n",
       "      <td>0</td>\n",
       "      <td>1</td>\n",
       "      <td>0</td>\n",
       "      <td>0</td>\n",
       "      <td>0</td>\n",
       "      <td>0</td>\n",
       "      <td>0</td>\n",
       "      <td>0</td>\n",
       "      <td>0</td>\n",
       "      <td>0</td>\n",
       "      <td>1</td>\n",
       "      <td>0</td>\n",
       "      <td>0</td>\n",
       "      <td>0</td>\n",
       "      <td>0</td>\n",
       "      <td>0</td>\n",
       "      <td>0</td>\n",
       "      <td>0</td>\n",
       "      <td>0</td>\n",
       "      <td>0</td>\n",
       "      <td>0</td>\n",
       "      <td>0</td>\n",
       "      <td>1</td>\n",
       "      <td>0</td>\n",
       "      <td>0</td>\n",
       "      <td>0</td>\n",
       "      <td>0</td>\n",
       "      <td>0</td>\n",
       "      <td>0</td>\n",
       "      <td>0</td>\n",
       "      <td>0</td>\n",
       "      <td>0</td>\n",
       "      <td>0</td>\n",
       "      <td>1</td>\n",
       "      <td>0</td>\n",
       "      <td>0</td>\n",
       "      <td>0</td>\n",
       "      <td>0</td>\n",
       "      <td>0</td>\n",
       "      <td>0</td>\n",
       "      <td>0</td>\n",
       "      <td>0</td>\n",
       "      <td>0</td>\n",
       "      <td>1</td>\n",
       "      <td>0</td>\n",
       "      <td>0</td>\n",
       "      <td>0</td>\n",
       "      <td>0</td>\n",
       "      <td>0</td>\n",
       "      <td>0</td>\n",
       "      <td>0</td>\n",
       "      <td>0</td>\n",
       "      <td>0</td>\n",
       "      <td>0</td>\n",
       "      <td>0</td>\n",
       "    </tr>\n",
       "  </tbody>\n",
       "</table>\n",
       "</div>"
      ],
      "text/plain": [
       "    eps  duration  ongoing  years_running  studios_colab  contentWarn  \\\n",
       "1     1     107.0    False              0              0            0   \n",
       "2     1     130.0    False              0              0            1   \n",
       "8     1     111.0    False              0              0            0   \n",
       "27    1     125.0    False              0              0            0   \n",
       "31    1     117.0    False              0              0            0   \n",
       "\n",
       "     watched  watching  wantWatch  dropped  tag_Based_on_a_Manga  tag_Comedy  \\\n",
       "1    58831.0      1453      21733      124                     0           0   \n",
       "2    45892.0       946      17148      132                     1           0   \n",
       "8     8454.0       280       6624      150                     1           1   \n",
       "27  115949.0       589      12388      161                     0           0   \n",
       "31   35896.0       538      15651      130                     0           0   \n",
       "\n",
       "    tag_Action  tag_Fantasy  tag_Sci_Fi  tag_Shounen  tag_Original_Work  \\\n",
       "1            0            0           0            0                  1   \n",
       "2            0            0           0            1                  0   \n",
       "8            1            0           1            1                  0   \n",
       "27           0            1           0            0                  1   \n",
       "31           0            1           0            0                  1   \n",
       "\n",
       "    tag_Non_Human_Protagonists  tag_Drama  tag_Adventure  tag_Family_Friendly  \\\n",
       "1                            0          1              0                    0   \n",
       "2                            0          1              0                    0   \n",
       "8                            0          1              0                    0   \n",
       "27                           0          0              1                    1   \n",
       "31                           0          0              0                    0   \n",
       "\n",
       "    tag_Short_Episodes  tag_School_Life  tag_Romance  tag_Shorts  \\\n",
       "1                    0                1            1           0   \n",
       "2                    0                1            0           0   \n",
       "8                    0                0            0           0   \n",
       "27                   0                0            0           0   \n",
       "31                   0                0            0           0   \n",
       "\n",
       "    tag_Slice_of_Life  tag_Seinen  tag_Supernatural  tag_Magic  \\\n",
       "1                   0           0                 1          0   \n",
       "2                   0           0                 0          0   \n",
       "8                   0           0                 0          0   \n",
       "27                  0           0                 0          1   \n",
       "31                  1           0                 0          0   \n",
       "\n",
       "    tag_Animal_Protagonists  tag_Ecchi  tag_Mecha  tag_Based_on_a_Light_Novel  \\\n",
       "1                         0          0          0                           0   \n",
       "2                         0          0          0                           0   \n",
       "8                         0          0          0                           0   \n",
       "27                        0          0          0                           0   \n",
       "31                        0          0          0                           0   \n",
       "\n",
       "    tag_CG_Animation  tag_Superpowers  tag_Others  tag_missing  \\\n",
       "1                  0                0           0            0   \n",
       "2                  0                0           0            0   \n",
       "8                  0                0           0            0   \n",
       "27                 0                0           0            0   \n",
       "31                 0                0           0            0   \n",
       "\n",
       "    mediaType_Movie  mediaType_Music Video  mediaType_OVA  mediaType_Other  \\\n",
       "1                 1                      0              0                0   \n",
       "2                 1                      0              0                0   \n",
       "8                 1                      0              0                0   \n",
       "27                1                      0              0                0   \n",
       "31                1                      0              0                0   \n",
       "\n",
       "    mediaType_TV  mediaType_TV Special  mediaType_Web  mediaType_is_missing  \\\n",
       "1              0                     0              0                     0   \n",
       "2              0                     0              0                     0   \n",
       "8              0                     0              0                     0   \n",
       "27             0                     0              0                     0   \n",
       "31             0                     0              0                     0   \n",
       "\n",
       "    sznOfRelease_Spring  sznOfRelease_Summer  sznOfRelease_Winter  \\\n",
       "1                     0                    0                    0   \n",
       "2                     0                    0                    0   \n",
       "8                     0                    0                    0   \n",
       "27                    0                    0                    0   \n",
       "31                    0                    0                    0   \n",
       "\n",
       "    sznOfRelease_is_missing  studio_primary_AIC  studio_primary_Bones  \\\n",
       "1                         1                   0                     0   \n",
       "2                         1                   0                     0   \n",
       "8                         1                   0                     0   \n",
       "27                        1                   0                     0   \n",
       "31                        1                   0                     0   \n",
       "\n",
       "    studio_primary_DLE  studio_primary_GONZO  studio_primary_J.C. Staff  \\\n",
       "1                    0                     0                          0   \n",
       "2                    0                     0                          0   \n",
       "8                    0                     0                          0   \n",
       "27                   0                     0                          0   \n",
       "31                   0                     0                          0   \n",
       "\n",
       "    studio_primary_Kyoto Animation  studio_primary_MADHOUSE  \\\n",
       "1                                0                        0   \n",
       "2                                1                        0   \n",
       "8                                0                        0   \n",
       "27                               0                        0   \n",
       "31                               0                        0   \n",
       "\n",
       "    studio_primary_Nippon Animation  studio_primary_OLM  \\\n",
       "1                                 0                   0   \n",
       "2                                 0                   0   \n",
       "8                                 0                   0   \n",
       "27                                0                   0   \n",
       "31                                0                   0   \n",
       "\n",
       "    studio_primary_Others  studio_primary_Production I.G  \\\n",
       "1                       1                              0   \n",
       "2                       0                              0   \n",
       "8                       0                              0   \n",
       "27                      1                              0   \n",
       "31                      1                              0   \n",
       "\n",
       "    studio_primary_Shaft  studio_primary_Shin-Ei Animation  \\\n",
       "1                      0                                 0   \n",
       "2                      0                                 0   \n",
       "8                      0                                 0   \n",
       "27                     0                                 0   \n",
       "31                     0                                 0   \n",
       "\n",
       "    studio_primary_Studio Deen  studio_primary_Studio Pierrot  \\\n",
       "1                            0                              0   \n",
       "2                            0                              0   \n",
       "8                            0                              0   \n",
       "27                           0                              0   \n",
       "31                           0                              0   \n",
       "\n",
       "    studio_primary_Sunrise  studio_primary_TMS Entertainment  \\\n",
       "1                        0                                 0   \n",
       "2                        0                                 0   \n",
       "8                        1                                 0   \n",
       "27                       0                                 0   \n",
       "31                       0                                 0   \n",
       "\n",
       "    studio_primary_Tatsunoko Production  studio_primary_Toei Animation  \\\n",
       "1                                     0                              0   \n",
       "2                                     0                              0   \n",
       "8                                     0                              0   \n",
       "27                                    0                              0   \n",
       "31                                    0                              0   \n",
       "\n",
       "    studio_primary_XEBEC  studio_primary_is_missing  \n",
       "1                      0                          0  \n",
       "2                      0                          0  \n",
       "8                      0                          0  \n",
       "27                     0                          0  \n",
       "31                     0                          0  "
      ]
     },
     "execution_count": 35,
     "metadata": {},
     "output_type": "execute_result"
    },
    {
     "data": {
      "application/javascript": [
       "\n",
       "            setTimeout(function() {\n",
       "                var nbb_cell_id = 35;\n",
       "                var nbb_unformatted_code = \"X = pd.get_dummies(\\n    X,\\n    columns=X.select_dtypes(include=[\\\"object\\\", \\\"category\\\"]).columns.tolist(),\\n    drop_first=True,\\n)\\nX.head()\";\n",
       "                var nbb_formatted_code = \"X = pd.get_dummies(\\n    X,\\n    columns=X.select_dtypes(include=[\\\"object\\\", \\\"category\\\"]).columns.tolist(),\\n    drop_first=True,\\n)\\nX.head()\";\n",
       "                var nbb_cells = Jupyter.notebook.get_cells();\n",
       "                for (var i = 0; i < nbb_cells.length; ++i) {\n",
       "                    if (nbb_cells[i].input_prompt_number == nbb_cell_id) {\n",
       "                        if (nbb_cells[i].get_text() == nbb_unformatted_code) {\n",
       "                             nbb_cells[i].set_text(nbb_formatted_code);\n",
       "                        }\n",
       "                        break;\n",
       "                    }\n",
       "                }\n",
       "            }, 500);\n",
       "            "
      ],
      "text/plain": [
       "<IPython.core.display.Javascript object>"
      ]
     },
     "metadata": {},
     "output_type": "display_data"
    }
   ],
   "source": [
    "X = pd.get_dummies(\n",
    "    X,\n",
    "    columns=X.select_dtypes(include=[\"object\", \"category\"]).columns.tolist(),\n",
    "    drop_first=True,\n",
    ")\n",
    "X.head()"
   ]
  },
  {
   "cell_type": "code",
   "execution_count": 36,
   "metadata": {},
   "outputs": [
    {
     "data": {
      "text/plain": [
       "(7465, 70)"
      ]
     },
     "execution_count": 36,
     "metadata": {},
     "output_type": "execute_result"
    },
    {
     "data": {
      "application/javascript": [
       "\n",
       "            setTimeout(function() {\n",
       "                var nbb_cell_id = 36;\n",
       "                var nbb_unformatted_code = \"X.shape\";\n",
       "                var nbb_formatted_code = \"X.shape\";\n",
       "                var nbb_cells = Jupyter.notebook.get_cells();\n",
       "                for (var i = 0; i < nbb_cells.length; ++i) {\n",
       "                    if (nbb_cells[i].input_prompt_number == nbb_cell_id) {\n",
       "                        if (nbb_cells[i].get_text() == nbb_unformatted_code) {\n",
       "                             nbb_cells[i].set_text(nbb_formatted_code);\n",
       "                        }\n",
       "                        break;\n",
       "                    }\n",
       "                }\n",
       "            }, 500);\n",
       "            "
      ],
      "text/plain": [
       "<IPython.core.display.Javascript object>"
      ]
     },
     "metadata": {},
     "output_type": "display_data"
    }
   ],
   "source": [
    "X.shape"
   ]
  },
  {
   "cell_type": "markdown",
   "metadata": {},
   "source": [
    "### Split the data into train and test"
   ]
  },
  {
   "cell_type": "code",
   "execution_count": 37,
   "metadata": {},
   "outputs": [
    {
     "data": {
      "application/javascript": [
       "\n",
       "            setTimeout(function() {\n",
       "                var nbb_cell_id = 37;\n",
       "                var nbb_unformatted_code = \"from sklearn.model_selection import train_test_split\\n\\nx_train, x_test, y_train, y_test = train_test_split(X, y, test_size=0.3, random_state=1)\";\n",
       "                var nbb_formatted_code = \"from sklearn.model_selection import train_test_split\\n\\nx_train, x_test, y_train, y_test = train_test_split(X, y, test_size=0.3, random_state=1)\";\n",
       "                var nbb_cells = Jupyter.notebook.get_cells();\n",
       "                for (var i = 0; i < nbb_cells.length; ++i) {\n",
       "                    if (nbb_cells[i].input_prompt_number == nbb_cell_id) {\n",
       "                        if (nbb_cells[i].get_text() == nbb_unformatted_code) {\n",
       "                             nbb_cells[i].set_text(nbb_formatted_code);\n",
       "                        }\n",
       "                        break;\n",
       "                    }\n",
       "                }\n",
       "            }, 500);\n",
       "            "
      ],
      "text/plain": [
       "<IPython.core.display.Javascript object>"
      ]
     },
     "metadata": {},
     "output_type": "display_data"
    }
   ],
   "source": [
    "from sklearn.model_selection import train_test_split\n",
    "\n",
    "x_train, x_test, y_train, y_test = train_test_split(X, y, test_size=0.3, random_state=1)"
   ]
  },
  {
   "cell_type": "code",
   "execution_count": 38,
   "metadata": {},
   "outputs": [
    {
     "name": "stdout",
     "output_type": "stream",
     "text": [
      "Number of rows in train data = 5225\n",
      "Number of rows in test data = 2240\n"
     ]
    },
    {
     "data": {
      "application/javascript": [
       "\n",
       "            setTimeout(function() {\n",
       "                var nbb_cell_id = 38;\n",
       "                var nbb_unformatted_code = \"print(\\\"Number of rows in train data =\\\", x_train.shape[0])\\nprint(\\\"Number of rows in test data =\\\", x_test.shape[0])\";\n",
       "                var nbb_formatted_code = \"print(\\\"Number of rows in train data =\\\", x_train.shape[0])\\nprint(\\\"Number of rows in test data =\\\", x_test.shape[0])\";\n",
       "                var nbb_cells = Jupyter.notebook.get_cells();\n",
       "                for (var i = 0; i < nbb_cells.length; ++i) {\n",
       "                    if (nbb_cells[i].input_prompt_number == nbb_cell_id) {\n",
       "                        if (nbb_cells[i].get_text() == nbb_unformatted_code) {\n",
       "                             nbb_cells[i].set_text(nbb_formatted_code);\n",
       "                        }\n",
       "                        break;\n",
       "                    }\n",
       "                }\n",
       "            }, 500);\n",
       "            "
      ],
      "text/plain": [
       "<IPython.core.display.Javascript object>"
      ]
     },
     "metadata": {},
     "output_type": "display_data"
    }
   ],
   "source": [
    "print(\"Number of rows in train data =\", x_train.shape[0])\n",
    "print(\"Number of rows in test data =\", x_test.shape[0])"
   ]
  },
  {
   "cell_type": "markdown",
   "metadata": {},
   "source": [
    "### Fitting a linear model"
   ]
  },
  {
   "cell_type": "code",
   "execution_count": 39,
   "metadata": {},
   "outputs": [
    {
     "data": {
      "text/plain": [
       "LinearRegression()"
      ]
     },
     "execution_count": 39,
     "metadata": {},
     "output_type": "execute_result"
    },
    {
     "data": {
      "application/javascript": [
       "\n",
       "            setTimeout(function() {\n",
       "                var nbb_cell_id = 39;\n",
       "                var nbb_unformatted_code = \"lin_reg_model = LinearRegression()\\nlin_reg_model.fit(x_train, y_train)\";\n",
       "                var nbb_formatted_code = \"lin_reg_model = LinearRegression()\\nlin_reg_model.fit(x_train, y_train)\";\n",
       "                var nbb_cells = Jupyter.notebook.get_cells();\n",
       "                for (var i = 0; i < nbb_cells.length; ++i) {\n",
       "                    if (nbb_cells[i].input_prompt_number == nbb_cell_id) {\n",
       "                        if (nbb_cells[i].get_text() == nbb_unformatted_code) {\n",
       "                             nbb_cells[i].set_text(nbb_formatted_code);\n",
       "                        }\n",
       "                        break;\n",
       "                    }\n",
       "                }\n",
       "            }, 500);\n",
       "            "
      ],
      "text/plain": [
       "<IPython.core.display.Javascript object>"
      ]
     },
     "metadata": {},
     "output_type": "display_data"
    }
   ],
   "source": [
    "lin_reg_model = LinearRegression()\n",
    "lin_reg_model.fit(x_train, y_train)"
   ]
  },
  {
   "cell_type": "markdown",
   "metadata": {},
   "source": [
    "**Let us check the coefficients and intercept of the model, which are the parameters we learned.**"
   ]
  },
  {
   "cell_type": "code",
   "execution_count": 40,
   "metadata": {},
   "outputs": [
    {
     "data": {
      "text/html": [
       "<div>\n",
       "<style scoped>\n",
       "    .dataframe tbody tr th:only-of-type {\n",
       "        vertical-align: middle;\n",
       "    }\n",
       "\n",
       "    .dataframe tbody tr th {\n",
       "        vertical-align: top;\n",
       "    }\n",
       "\n",
       "    .dataframe thead th {\n",
       "        text-align: right;\n",
       "    }\n",
       "</style>\n",
       "<table border=\"1\" class=\"dataframe\">\n",
       "  <thead>\n",
       "    <tr style=\"text-align: right;\">\n",
       "      <th></th>\n",
       "      <th>Coefficients</th>\n",
       "    </tr>\n",
       "  </thead>\n",
       "  <tbody>\n",
       "    <tr>\n",
       "      <th>eps</th>\n",
       "      <td>0.000378</td>\n",
       "    </tr>\n",
       "    <tr>\n",
       "      <th>duration</th>\n",
       "      <td>0.005402</td>\n",
       "    </tr>\n",
       "    <tr>\n",
       "      <th>ongoing</th>\n",
       "      <td>0.577145</td>\n",
       "    </tr>\n",
       "    <tr>\n",
       "      <th>years_running</th>\n",
       "      <td>0.014301</td>\n",
       "    </tr>\n",
       "    <tr>\n",
       "      <th>studios_colab</th>\n",
       "      <td>0.021683</td>\n",
       "    </tr>\n",
       "    <tr>\n",
       "      <th>contentWarn</th>\n",
       "      <td>-0.208916</td>\n",
       "    </tr>\n",
       "    <tr>\n",
       "      <th>watched</th>\n",
       "      <td>-0.000006</td>\n",
       "    </tr>\n",
       "    <tr>\n",
       "      <th>watching</th>\n",
       "      <td>0.000037</td>\n",
       "    </tr>\n",
       "    <tr>\n",
       "      <th>wantWatch</th>\n",
       "      <td>0.000194</td>\n",
       "    </tr>\n",
       "    <tr>\n",
       "      <th>dropped</th>\n",
       "      <td>-0.000406</td>\n",
       "    </tr>\n",
       "    <tr>\n",
       "      <th>tag_Based_on_a_Manga</th>\n",
       "      <td>0.166489</td>\n",
       "    </tr>\n",
       "    <tr>\n",
       "      <th>tag_Comedy</th>\n",
       "      <td>0.018332</td>\n",
       "    </tr>\n",
       "    <tr>\n",
       "      <th>tag_Action</th>\n",
       "      <td>0.094518</td>\n",
       "    </tr>\n",
       "    <tr>\n",
       "      <th>tag_Fantasy</th>\n",
       "      <td>0.169243</td>\n",
       "    </tr>\n",
       "    <tr>\n",
       "      <th>tag_Sci_Fi</th>\n",
       "      <td>0.011550</td>\n",
       "    </tr>\n",
       "    <tr>\n",
       "      <th>tag_Shounen</th>\n",
       "      <td>0.203205</td>\n",
       "    </tr>\n",
       "    <tr>\n",
       "      <th>tag_Original_Work</th>\n",
       "      <td>-0.043474</td>\n",
       "    </tr>\n",
       "    <tr>\n",
       "      <th>tag_Non_Human_Protagonists</th>\n",
       "      <td>0.099081</td>\n",
       "    </tr>\n",
       "    <tr>\n",
       "      <th>tag_Drama</th>\n",
       "      <td>0.273435</td>\n",
       "    </tr>\n",
       "    <tr>\n",
       "      <th>tag_Adventure</th>\n",
       "      <td>0.014543</td>\n",
       "    </tr>\n",
       "    <tr>\n",
       "      <th>tag_Family_Friendly</th>\n",
       "      <td>-0.114683</td>\n",
       "    </tr>\n",
       "    <tr>\n",
       "      <th>tag_Short_Episodes</th>\n",
       "      <td>-0.092368</td>\n",
       "    </tr>\n",
       "    <tr>\n",
       "      <th>tag_School_Life</th>\n",
       "      <td>0.091613</td>\n",
       "    </tr>\n",
       "    <tr>\n",
       "      <th>tag_Romance</th>\n",
       "      <td>0.087417</td>\n",
       "    </tr>\n",
       "    <tr>\n",
       "      <th>tag_Shorts</th>\n",
       "      <td>-0.155435</td>\n",
       "    </tr>\n",
       "    <tr>\n",
       "      <th>tag_Slice_of_Life</th>\n",
       "      <td>0.222682</td>\n",
       "    </tr>\n",
       "    <tr>\n",
       "      <th>tag_Seinen</th>\n",
       "      <td>0.119353</td>\n",
       "    </tr>\n",
       "    <tr>\n",
       "      <th>tag_Supernatural</th>\n",
       "      <td>0.159346</td>\n",
       "    </tr>\n",
       "    <tr>\n",
       "      <th>tag_Magic</th>\n",
       "      <td>0.064006</td>\n",
       "    </tr>\n",
       "    <tr>\n",
       "      <th>tag_Animal_Protagonists</th>\n",
       "      <td>-0.120760</td>\n",
       "    </tr>\n",
       "    <tr>\n",
       "      <th>tag_Ecchi</th>\n",
       "      <td>-0.098658</td>\n",
       "    </tr>\n",
       "    <tr>\n",
       "      <th>tag_Mecha</th>\n",
       "      <td>0.035360</td>\n",
       "    </tr>\n",
       "    <tr>\n",
       "      <th>tag_Based_on_a_Light_Novel</th>\n",
       "      <td>0.354271</td>\n",
       "    </tr>\n",
       "    <tr>\n",
       "      <th>tag_CG_Animation</th>\n",
       "      <td>0.030109</td>\n",
       "    </tr>\n",
       "    <tr>\n",
       "      <th>tag_Superpowers</th>\n",
       "      <td>0.075544</td>\n",
       "    </tr>\n",
       "    <tr>\n",
       "      <th>tag_Others</th>\n",
       "      <td>0.027809</td>\n",
       "    </tr>\n",
       "    <tr>\n",
       "      <th>tag_missing</th>\n",
       "      <td>-0.004104</td>\n",
       "    </tr>\n",
       "    <tr>\n",
       "      <th>mediaType_Movie</th>\n",
       "      <td>-0.208796</td>\n",
       "    </tr>\n",
       "    <tr>\n",
       "      <th>mediaType_Music Video</th>\n",
       "      <td>-0.034219</td>\n",
       "    </tr>\n",
       "    <tr>\n",
       "      <th>mediaType_OVA</th>\n",
       "      <td>-0.237933</td>\n",
       "    </tr>\n",
       "    <tr>\n",
       "      <th>mediaType_Other</th>\n",
       "      <td>-0.176608</td>\n",
       "    </tr>\n",
       "    <tr>\n",
       "      <th>mediaType_TV</th>\n",
       "      <td>-0.310547</td>\n",
       "    </tr>\n",
       "    <tr>\n",
       "      <th>mediaType_TV Special</th>\n",
       "      <td>-0.092416</td>\n",
       "    </tr>\n",
       "    <tr>\n",
       "      <th>mediaType_Web</th>\n",
       "      <td>-0.143681</td>\n",
       "    </tr>\n",
       "    <tr>\n",
       "      <th>mediaType_is_missing</th>\n",
       "      <td>-0.113614</td>\n",
       "    </tr>\n",
       "    <tr>\n",
       "      <th>sznOfRelease_Spring</th>\n",
       "      <td>0.046412</td>\n",
       "    </tr>\n",
       "    <tr>\n",
       "      <th>sznOfRelease_Summer</th>\n",
       "      <td>0.037488</td>\n",
       "    </tr>\n",
       "    <tr>\n",
       "      <th>sznOfRelease_Winter</th>\n",
       "      <td>0.015273</td>\n",
       "    </tr>\n",
       "    <tr>\n",
       "      <th>sznOfRelease_is_missing</th>\n",
       "      <td>0.103271</td>\n",
       "    </tr>\n",
       "    <tr>\n",
       "      <th>studio_primary_AIC</th>\n",
       "      <td>-0.143515</td>\n",
       "    </tr>\n",
       "    <tr>\n",
       "      <th>studio_primary_Bones</th>\n",
       "      <td>0.210565</td>\n",
       "    </tr>\n",
       "    <tr>\n",
       "      <th>studio_primary_DLE</th>\n",
       "      <td>-0.788711</td>\n",
       "    </tr>\n",
       "    <tr>\n",
       "      <th>studio_primary_GONZO</th>\n",
       "      <td>0.132439</td>\n",
       "    </tr>\n",
       "    <tr>\n",
       "      <th>studio_primary_J.C. Staff</th>\n",
       "      <td>-0.117989</td>\n",
       "    </tr>\n",
       "    <tr>\n",
       "      <th>studio_primary_Kyoto Animation</th>\n",
       "      <td>0.004186</td>\n",
       "    </tr>\n",
       "    <tr>\n",
       "      <th>studio_primary_MADHOUSE</th>\n",
       "      <td>0.009038</td>\n",
       "    </tr>\n",
       "    <tr>\n",
       "      <th>studio_primary_Nippon Animation</th>\n",
       "      <td>0.055507</td>\n",
       "    </tr>\n",
       "    <tr>\n",
       "      <th>studio_primary_OLM</th>\n",
       "      <td>0.004038</td>\n",
       "    </tr>\n",
       "    <tr>\n",
       "      <th>studio_primary_Others</th>\n",
       "      <td>-0.109229</td>\n",
       "    </tr>\n",
       "    <tr>\n",
       "      <th>studio_primary_Production I.G</th>\n",
       "      <td>0.174912</td>\n",
       "    </tr>\n",
       "    <tr>\n",
       "      <th>studio_primary_Shaft</th>\n",
       "      <td>0.110070</td>\n",
       "    </tr>\n",
       "    <tr>\n",
       "      <th>studio_primary_Shin-Ei Animation</th>\n",
       "      <td>-0.094311</td>\n",
       "    </tr>\n",
       "    <tr>\n",
       "      <th>studio_primary_Studio Deen</th>\n",
       "      <td>0.207247</td>\n",
       "    </tr>\n",
       "    <tr>\n",
       "      <th>studio_primary_Studio Pierrot</th>\n",
       "      <td>-0.133692</td>\n",
       "    </tr>\n",
       "    <tr>\n",
       "      <th>studio_primary_Sunrise</th>\n",
       "      <td>0.135758</td>\n",
       "    </tr>\n",
       "    <tr>\n",
       "      <th>studio_primary_TMS Entertainment</th>\n",
       "      <td>0.260170</td>\n",
       "    </tr>\n",
       "    <tr>\n",
       "      <th>studio_primary_Tatsunoko Production</th>\n",
       "      <td>-0.099391</td>\n",
       "    </tr>\n",
       "    <tr>\n",
       "      <th>studio_primary_Toei Animation</th>\n",
       "      <td>-0.109235</td>\n",
       "    </tr>\n",
       "    <tr>\n",
       "      <th>studio_primary_XEBEC</th>\n",
       "      <td>0.163561</td>\n",
       "    </tr>\n",
       "    <tr>\n",
       "      <th>studio_primary_is_missing</th>\n",
       "      <td>-0.431316</td>\n",
       "    </tr>\n",
       "    <tr>\n",
       "      <th>Intercept</th>\n",
       "      <td>2.636666</td>\n",
       "    </tr>\n",
       "  </tbody>\n",
       "</table>\n",
       "</div>"
      ],
      "text/plain": [
       "                                     Coefficients\n",
       "eps                                      0.000378\n",
       "duration                                 0.005402\n",
       "ongoing                                  0.577145\n",
       "years_running                            0.014301\n",
       "studios_colab                            0.021683\n",
       "contentWarn                             -0.208916\n",
       "watched                                 -0.000006\n",
       "watching                                 0.000037\n",
       "wantWatch                                0.000194\n",
       "dropped                                 -0.000406\n",
       "tag_Based_on_a_Manga                     0.166489\n",
       "tag_Comedy                               0.018332\n",
       "tag_Action                               0.094518\n",
       "tag_Fantasy                              0.169243\n",
       "tag_Sci_Fi                               0.011550\n",
       "tag_Shounen                              0.203205\n",
       "tag_Original_Work                       -0.043474\n",
       "tag_Non_Human_Protagonists               0.099081\n",
       "tag_Drama                                0.273435\n",
       "tag_Adventure                            0.014543\n",
       "tag_Family_Friendly                     -0.114683\n",
       "tag_Short_Episodes                      -0.092368\n",
       "tag_School_Life                          0.091613\n",
       "tag_Romance                              0.087417\n",
       "tag_Shorts                              -0.155435\n",
       "tag_Slice_of_Life                        0.222682\n",
       "tag_Seinen                               0.119353\n",
       "tag_Supernatural                         0.159346\n",
       "tag_Magic                                0.064006\n",
       "tag_Animal_Protagonists                 -0.120760\n",
       "tag_Ecchi                               -0.098658\n",
       "tag_Mecha                                0.035360\n",
       "tag_Based_on_a_Light_Novel               0.354271\n",
       "tag_CG_Animation                         0.030109\n",
       "tag_Superpowers                          0.075544\n",
       "tag_Others                               0.027809\n",
       "tag_missing                             -0.004104\n",
       "mediaType_Movie                         -0.208796\n",
       "mediaType_Music Video                   -0.034219\n",
       "mediaType_OVA                           -0.237933\n",
       "mediaType_Other                         -0.176608\n",
       "mediaType_TV                            -0.310547\n",
       "mediaType_TV Special                    -0.092416\n",
       "mediaType_Web                           -0.143681\n",
       "mediaType_is_missing                    -0.113614\n",
       "sznOfRelease_Spring                      0.046412\n",
       "sznOfRelease_Summer                      0.037488\n",
       "sznOfRelease_Winter                      0.015273\n",
       "sznOfRelease_is_missing                  0.103271\n",
       "studio_primary_AIC                      -0.143515\n",
       "studio_primary_Bones                     0.210565\n",
       "studio_primary_DLE                      -0.788711\n",
       "studio_primary_GONZO                     0.132439\n",
       "studio_primary_J.C. Staff               -0.117989\n",
       "studio_primary_Kyoto Animation           0.004186\n",
       "studio_primary_MADHOUSE                  0.009038\n",
       "studio_primary_Nippon Animation          0.055507\n",
       "studio_primary_OLM                       0.004038\n",
       "studio_primary_Others                   -0.109229\n",
       "studio_primary_Production I.G            0.174912\n",
       "studio_primary_Shaft                     0.110070\n",
       "studio_primary_Shin-Ei Animation        -0.094311\n",
       "studio_primary_Studio Deen               0.207247\n",
       "studio_primary_Studio Pierrot           -0.133692\n",
       "studio_primary_Sunrise                   0.135758\n",
       "studio_primary_TMS Entertainment         0.260170\n",
       "studio_primary_Tatsunoko Production     -0.099391\n",
       "studio_primary_Toei Animation           -0.109235\n",
       "studio_primary_XEBEC                     0.163561\n",
       "studio_primary_is_missing               -0.431316\n",
       "Intercept                                2.636666"
      ]
     },
     "execution_count": 40,
     "metadata": {},
     "output_type": "execute_result"
    },
    {
     "data": {
      "application/javascript": [
       "\n",
       "            setTimeout(function() {\n",
       "                var nbb_cell_id = 40;\n",
       "                var nbb_unformatted_code = \"coef_df = pd.DataFrame(\\n    np.append(lin_reg_model.coef_, lin_reg_model.intercept_),\\n    index=x_train.columns.tolist() + [\\\"Intercept\\\"],\\n    columns=[\\\"Coefficients\\\"],\\n)\\ncoef_df\";\n",
       "                var nbb_formatted_code = \"coef_df = pd.DataFrame(\\n    np.append(lin_reg_model.coef_, lin_reg_model.intercept_),\\n    index=x_train.columns.tolist() + [\\\"Intercept\\\"],\\n    columns=[\\\"Coefficients\\\"],\\n)\\ncoef_df\";\n",
       "                var nbb_cells = Jupyter.notebook.get_cells();\n",
       "                for (var i = 0; i < nbb_cells.length; ++i) {\n",
       "                    if (nbb_cells[i].input_prompt_number == nbb_cell_id) {\n",
       "                        if (nbb_cells[i].get_text() == nbb_unformatted_code) {\n",
       "                             nbb_cells[i].set_text(nbb_formatted_code);\n",
       "                        }\n",
       "                        break;\n",
       "                    }\n",
       "                }\n",
       "            }, 500);\n",
       "            "
      ],
      "text/plain": [
       "<IPython.core.display.Javascript object>"
      ]
     },
     "metadata": {},
     "output_type": "display_data"
    }
   ],
   "source": [
    "coef_df = pd.DataFrame(\n",
    "    np.append(lin_reg_model.coef_, lin_reg_model.intercept_),\n",
    "    index=x_train.columns.tolist() + [\"Intercept\"],\n",
    "    columns=[\"Coefficients\"],\n",
    ")\n",
    "coef_df"
   ]
  },
  {
   "cell_type": "markdown",
   "metadata": {},
   "source": [
    "### Coefficient interpretations\n",
    "\n",
    "* Coefficients of *eps*, *duration*, *years_running*, *ongoing*, some of the *tag* columns, all the *sznOfRelease* columns, some of the *studio* columns, etc. are positive.\n",
    "    - Increase in these will lead to an increase in the rating of an anime.\n",
    "\n",
    "\n",
    "* Coefficients of *contentWarn*, *watched*, *dropped*, some of the *tag* columns, all the *mediaType* columns, and some of the *studio* columns are negative.\n",
    "    - Increase in these will lead to a decrease in the rating of an anime."
   ]
  },
  {
   "cell_type": "markdown",
   "metadata": {},
   "source": [
    "### Model performance check"
   ]
  },
  {
   "cell_type": "markdown",
   "metadata": {},
   "source": [
    "* We will be using metric functions defined in sklearn for RMSE, MAE, and $R^2$.\n",
    "* We will define a function to calculate adjusted $R^2$.\n",
    "* We will create a function that will print out all the above metrics in one go."
   ]
  },
  {
   "cell_type": "code",
   "execution_count": 41,
   "metadata": {},
   "outputs": [
    {
     "data": {
      "application/javascript": [
       "\n",
       "            setTimeout(function() {\n",
       "                var nbb_cell_id = 41;\n",
       "                var nbb_unformatted_code = \"# function to compute adjusted R-squared\\ndef adj_r2_score(predictors, targets, predictions):\\n    r2 = r2_score(targets, predictions)\\n    n = predictors.shape[0]\\n    k = predictors.shape[1]\\n    return 1 - ((1 - r2) * (n - 1) / (n - k - 1))\\n\\n\\n# function to compute different metrics to check performance of a regression model\\ndef model_performance_regression(model, predictors, target):\\n    \\\"\\\"\\\"\\n    Function to compute different metrics to check regression model performance\\n\\n    model: regressor\\n    predictors: independent variables\\n    target: dependent variable\\n    \\\"\\\"\\\"\\n\\n    # predicting using the independent variables\\n    pred = model.predict(predictors)\\n\\n    r2 = r2_score(target, pred)  # to compute R-squared\\n    adjr2 = adj_r2_score(predictors, target, pred)  # to compute adjusted R-squared\\n    rmse = np.sqrt(mean_squared_error(target, pred))  # to compute RMSE\\n    mae = mean_absolute_error(target, pred)  # to compute MAE\\n\\n    # creating a dataframe of metrics\\n    df_perf = pd.DataFrame(\\n        {\\n            \\\"RMSE\\\": rmse,\\n            \\\"MAE\\\": mae,\\n            \\\"R-squared\\\": r2,\\n            \\\"Adj. R-squared\\\": adjr2,\\n        },\\n        index=[0],\\n    )\\n\\n    return df_perf\";\n",
       "                var nbb_formatted_code = \"# function to compute adjusted R-squared\\ndef adj_r2_score(predictors, targets, predictions):\\n    r2 = r2_score(targets, predictions)\\n    n = predictors.shape[0]\\n    k = predictors.shape[1]\\n    return 1 - ((1 - r2) * (n - 1) / (n - k - 1))\\n\\n\\n# function to compute different metrics to check performance of a regression model\\ndef model_performance_regression(model, predictors, target):\\n    \\\"\\\"\\\"\\n    Function to compute different metrics to check regression model performance\\n\\n    model: regressor\\n    predictors: independent variables\\n    target: dependent variable\\n    \\\"\\\"\\\"\\n\\n    # predicting using the independent variables\\n    pred = model.predict(predictors)\\n\\n    r2 = r2_score(target, pred)  # to compute R-squared\\n    adjr2 = adj_r2_score(predictors, target, pred)  # to compute adjusted R-squared\\n    rmse = np.sqrt(mean_squared_error(target, pred))  # to compute RMSE\\n    mae = mean_absolute_error(target, pred)  # to compute MAE\\n\\n    # creating a dataframe of metrics\\n    df_perf = pd.DataFrame(\\n        {\\n            \\\"RMSE\\\": rmse,\\n            \\\"MAE\\\": mae,\\n            \\\"R-squared\\\": r2,\\n            \\\"Adj. R-squared\\\": adjr2,\\n        },\\n        index=[0],\\n    )\\n\\n    return df_perf\";\n",
       "                var nbb_cells = Jupyter.notebook.get_cells();\n",
       "                for (var i = 0; i < nbb_cells.length; ++i) {\n",
       "                    if (nbb_cells[i].input_prompt_number == nbb_cell_id) {\n",
       "                        if (nbb_cells[i].get_text() == nbb_unformatted_code) {\n",
       "                             nbb_cells[i].set_text(nbb_formatted_code);\n",
       "                        }\n",
       "                        break;\n",
       "                    }\n",
       "                }\n",
       "            }, 500);\n",
       "            "
      ],
      "text/plain": [
       "<IPython.core.display.Javascript object>"
      ]
     },
     "metadata": {},
     "output_type": "display_data"
    }
   ],
   "source": [
    "# function to compute adjusted R-squared\n",
    "def adj_r2_score(predictors, targets, predictions):\n",
    "    r2 = r2_score(targets, predictions)\n",
    "    n = predictors.shape[0]\n",
    "    k = predictors.shape[1]\n",
    "    return 1 - ((1 - r2) * (n - 1) / (n - k - 1))\n",
    "\n",
    "\n",
    "# function to compute different metrics to check performance of a regression model\n",
    "def model_performance_regression(model, predictors, target):\n",
    "    \"\"\"\n",
    "    Function to compute different metrics to check regression model performance\n",
    "\n",
    "    model: regressor\n",
    "    predictors: independent variables\n",
    "    target: dependent variable\n",
    "    \"\"\"\n",
    "\n",
    "    # predicting using the independent variables\n",
    "    pred = model.predict(predictors)\n",
    "\n",
    "    r2 = r2_score(target, pred)  # to compute R-squared\n",
    "    adjr2 = adj_r2_score(predictors, target, pred)  # to compute adjusted R-squared\n",
    "    rmse = np.sqrt(mean_squared_error(target, pred))  # to compute RMSE\n",
    "    mae = mean_absolute_error(target, pred)  # to compute MAE\n",
    "\n",
    "    # creating a dataframe of metrics\n",
    "    df_perf = pd.DataFrame(\n",
    "        {\n",
    "            \"RMSE\": rmse,\n",
    "            \"MAE\": mae,\n",
    "            \"R-squared\": r2,\n",
    "            \"Adj. R-squared\": adjr2,\n",
    "        },\n",
    "        index=[0],\n",
    "    )\n",
    "\n",
    "    return df_perf"
   ]
  },
  {
   "cell_type": "code",
   "execution_count": 42,
   "metadata": {},
   "outputs": [
    {
     "name": "stdout",
     "output_type": "stream",
     "text": [
      "Training Performance\n",
      "\n"
     ]
    },
    {
     "data": {
      "text/html": [
       "<div>\n",
       "<style scoped>\n",
       "    .dataframe tbody tr th:only-of-type {\n",
       "        vertical-align: middle;\n",
       "    }\n",
       "\n",
       "    .dataframe tbody tr th {\n",
       "        vertical-align: top;\n",
       "    }\n",
       "\n",
       "    .dataframe thead th {\n",
       "        text-align: right;\n",
       "    }\n",
       "</style>\n",
       "<table border=\"1\" class=\"dataframe\">\n",
       "  <thead>\n",
       "    <tr style=\"text-align: right;\">\n",
       "      <th></th>\n",
       "      <th>RMSE</th>\n",
       "      <th>MAE</th>\n",
       "      <th>R-squared</th>\n",
       "      <th>Adj. R-squared</th>\n",
       "    </tr>\n",
       "  </thead>\n",
       "  <tbody>\n",
       "    <tr>\n",
       "      <th>0</th>\n",
       "      <td>0.579061</td>\n",
       "      <td>0.468019</td>\n",
       "      <td>0.51858</td>\n",
       "      <td>0.512041</td>\n",
       "    </tr>\n",
       "  </tbody>\n",
       "</table>\n",
       "</div>"
      ],
      "text/plain": [
       "       RMSE       MAE  R-squared  Adj. R-squared\n",
       "0  0.579061  0.468019    0.51858        0.512041"
      ]
     },
     "execution_count": 42,
     "metadata": {},
     "output_type": "execute_result"
    },
    {
     "data": {
      "application/javascript": [
       "\n",
       "            setTimeout(function() {\n",
       "                var nbb_cell_id = 42;\n",
       "                var nbb_unformatted_code = \"# Checking model performance on train set\\nprint(\\\"Training Performance\\\\n\\\")\\nlin_reg_model_train_perf = model_performance_regression(lin_reg_model, x_train, y_train)\\nlin_reg_model_train_perf\";\n",
       "                var nbb_formatted_code = \"# Checking model performance on train set\\nprint(\\\"Training Performance\\\\n\\\")\\nlin_reg_model_train_perf = model_performance_regression(lin_reg_model, x_train, y_train)\\nlin_reg_model_train_perf\";\n",
       "                var nbb_cells = Jupyter.notebook.get_cells();\n",
       "                for (var i = 0; i < nbb_cells.length; ++i) {\n",
       "                    if (nbb_cells[i].input_prompt_number == nbb_cell_id) {\n",
       "                        if (nbb_cells[i].get_text() == nbb_unformatted_code) {\n",
       "                             nbb_cells[i].set_text(nbb_formatted_code);\n",
       "                        }\n",
       "                        break;\n",
       "                    }\n",
       "                }\n",
       "            }, 500);\n",
       "            "
      ],
      "text/plain": [
       "<IPython.core.display.Javascript object>"
      ]
     },
     "metadata": {},
     "output_type": "display_data"
    }
   ],
   "source": [
    "# Checking model performance on train set\n",
    "print(\"Training Performance\\n\")\n",
    "lin_reg_model_train_perf = model_performance_regression(lin_reg_model, x_train, y_train)\n",
    "lin_reg_model_train_perf"
   ]
  },
  {
   "cell_type": "code",
   "execution_count": 43,
   "metadata": {},
   "outputs": [
    {
     "name": "stdout",
     "output_type": "stream",
     "text": [
      "Test Performance\n",
      "\n"
     ]
    },
    {
     "data": {
      "text/html": [
       "<div>\n",
       "<style scoped>\n",
       "    .dataframe tbody tr th:only-of-type {\n",
       "        vertical-align: middle;\n",
       "    }\n",
       "\n",
       "    .dataframe tbody tr th {\n",
       "        vertical-align: top;\n",
       "    }\n",
       "\n",
       "    .dataframe thead th {\n",
       "        text-align: right;\n",
       "    }\n",
       "</style>\n",
       "<table border=\"1\" class=\"dataframe\">\n",
       "  <thead>\n",
       "    <tr style=\"text-align: right;\">\n",
       "      <th></th>\n",
       "      <th>RMSE</th>\n",
       "      <th>MAE</th>\n",
       "      <th>R-squared</th>\n",
       "      <th>Adj. R-squared</th>\n",
       "    </tr>\n",
       "  </thead>\n",
       "  <tbody>\n",
       "    <tr>\n",
       "      <th>0</th>\n",
       "      <td>0.571535</td>\n",
       "      <td>0.464794</td>\n",
       "      <td>0.511565</td>\n",
       "      <td>0.495802</td>\n",
       "    </tr>\n",
       "  </tbody>\n",
       "</table>\n",
       "</div>"
      ],
      "text/plain": [
       "       RMSE       MAE  R-squared  Adj. R-squared\n",
       "0  0.571535  0.464794   0.511565        0.495802"
      ]
     },
     "execution_count": 43,
     "metadata": {},
     "output_type": "execute_result"
    },
    {
     "data": {
      "application/javascript": [
       "\n",
       "            setTimeout(function() {\n",
       "                var nbb_cell_id = 43;\n",
       "                var nbb_unformatted_code = \"# Checking model performance on test set\\nprint(\\\"Test Performance\\\\n\\\")\\nlin_reg_model_test_perf = model_performance_regression(lin_reg_model, x_test, y_test)\\nlin_reg_model_test_perf\";\n",
       "                var nbb_formatted_code = \"# Checking model performance on test set\\nprint(\\\"Test Performance\\\\n\\\")\\nlin_reg_model_test_perf = model_performance_regression(lin_reg_model, x_test, y_test)\\nlin_reg_model_test_perf\";\n",
       "                var nbb_cells = Jupyter.notebook.get_cells();\n",
       "                for (var i = 0; i < nbb_cells.length; ++i) {\n",
       "                    if (nbb_cells[i].input_prompt_number == nbb_cell_id) {\n",
       "                        if (nbb_cells[i].get_text() == nbb_unformatted_code) {\n",
       "                             nbb_cells[i].set_text(nbb_formatted_code);\n",
       "                        }\n",
       "                        break;\n",
       "                    }\n",
       "                }\n",
       "            }, 500);\n",
       "            "
      ],
      "text/plain": [
       "<IPython.core.display.Javascript object>"
      ]
     },
     "metadata": {},
     "output_type": "display_data"
    }
   ],
   "source": [
    "# Checking model performance on test set\n",
    "print(\"Test Performance\\n\")\n",
    "lin_reg_model_test_perf = model_performance_regression(lin_reg_model, x_test, y_test)\n",
    "lin_reg_model_test_perf"
   ]
  },
  {
   "cell_type": "markdown",
   "metadata": {
    "id": "doso3U2753mZ"
   },
   "source": [
    "**Observations**\n",
    "\n",
    "- The train and test $R^2$ are 0.52 and 0.51, indicating that the model explains 52% and 51% of the total variation in the train and test sets respectively. Also, both scores are comparable.\n",
    "\n",
    "- RMSE values on the train and test sets are also comparable.\n",
    "\n",
    "- This shows that the model is not overfitting.\n",
    "\n",
    "- MAE indicates that our current model is able to predict anime ratings within a mean error of 0.47\n",
    "\n",
    "- However, the overall performance is not so great."
   ]
  },
  {
   "cell_type": "markdown",
   "metadata": {},
   "source": [
    "## Forward Feature Selection using *SequentialFeatureSelector*\n",
    "\n",
    "We will see how to select a subset of important features with forward feature selection using *SequentialFeatureSelector*.\n",
    "\n",
    "**Why should we do feature selection?**\n",
    "\n",
    "- Reduces dimensionality\n",
    "- Discards deceptive features (Deceptive features appear to aid learning on the training set, but impair generalization)\n",
    "- Speeds training/testing\n",
    "\n",
    "\n",
    "**How does forward feature selection work?**\n",
    "\n",
    "* It starts with an empty model and adds variables one by one.\n",
    "* In each forward step, you add the one variable that gives the highest improvement to your model.\n",
    "\n",
    "\n",
    "We'll use forward feature selection on all the variables"
   ]
  },
  {
   "cell_type": "code",
   "execution_count": 44,
   "metadata": {},
   "outputs": [
    {
     "data": {
      "application/javascript": [
       "\n",
       "            setTimeout(function() {\n",
       "                var nbb_cell_id = 44;\n",
       "                var nbb_unformatted_code = \"# please uncomment and run the next line if mlxtend library is not previously installed\\n#!pip install mlxtend\";\n",
       "                var nbb_formatted_code = \"# please uncomment and run the next line if mlxtend library is not previously installed\\n#!pip install mlxtend\";\n",
       "                var nbb_cells = Jupyter.notebook.get_cells();\n",
       "                for (var i = 0; i < nbb_cells.length; ++i) {\n",
       "                    if (nbb_cells[i].input_prompt_number == nbb_cell_id) {\n",
       "                        if (nbb_cells[i].get_text() == nbb_unformatted_code) {\n",
       "                             nbb_cells[i].set_text(nbb_formatted_code);\n",
       "                        }\n",
       "                        break;\n",
       "                    }\n",
       "                }\n",
       "            }, 500);\n",
       "            "
      ],
      "text/plain": [
       "<IPython.core.display.Javascript object>"
      ]
     },
     "metadata": {},
     "output_type": "display_data"
    }
   ],
   "source": [
    "# please uncomment and run the next line if mlxtend library is not previously installed\n",
    "#!pip install mlxtend"
   ]
  },
  {
   "cell_type": "code",
   "execution_count": 45,
   "metadata": {
    "id": "4lAz8-EMqH_E",
    "outputId": "01e5c5aa-6ae0-4a01-bbf0-6ed48d8f919f"
   },
   "outputs": [
    {
     "name": "stderr",
     "output_type": "stream",
     "text": [
      "[Parallel(n_jobs=-1)]: Using backend LokyBackend with 8 concurrent workers.\n",
      "[Parallel(n_jobs=-1)]: Done  25 tasks      | elapsed:    2.2s\n",
      "[Parallel(n_jobs=-1)]: Done  70 out of  70 | elapsed:    2.4s finished\n",
      "\n",
      "[2021-06-23 02:11:04] Features: 1/70 -- score: 0.261089359587903[Parallel(n_jobs=-1)]: Using backend LokyBackend with 8 concurrent workers.\n",
      "[Parallel(n_jobs=-1)]: Done  34 tasks      | elapsed:    0.1s\n",
      "[Parallel(n_jobs=-1)]: Done  69 out of  69 | elapsed:    0.1s finished\n",
      "\n",
      "[2021-06-23 02:11:05] Features: 2/70 -- score: 0.3522663085348247[Parallel(n_jobs=-1)]: Using backend LokyBackend with 8 concurrent workers.\n",
      "[Parallel(n_jobs=-1)]: Done  34 tasks      | elapsed:    0.1s\n",
      "[Parallel(n_jobs=-1)]: Done  53 out of  68 | elapsed:    0.1s remaining:    0.0s\n",
      "[Parallel(n_jobs=-1)]: Done  68 out of  68 | elapsed:    0.2s finished\n",
      "\n",
      "[2021-06-23 02:11:05] Features: 3/70 -- score: 0.4005056411016484[Parallel(n_jobs=-1)]: Using backend LokyBackend with 8 concurrent workers.\n",
      "[Parallel(n_jobs=-1)]: Done  34 tasks      | elapsed:    0.1s\n",
      "[Parallel(n_jobs=-1)]: Done  67 out of  67 | elapsed:    0.2s finished\n",
      "\n",
      "[2021-06-23 02:11:05] Features: 4/70 -- score: 0.4174196547714809[Parallel(n_jobs=-1)]: Using backend LokyBackend with 8 concurrent workers.\n",
      "[Parallel(n_jobs=-1)]: Done  34 tasks      | elapsed:    0.1s\n",
      "[Parallel(n_jobs=-1)]: Done  66 out of  66 | elapsed:    0.2s finished\n",
      "\n",
      "[2021-06-23 02:11:06] Features: 5/70 -- score: 0.43222076293523876[Parallel(n_jobs=-1)]: Using backend LokyBackend with 8 concurrent workers.\n",
      "[Parallel(n_jobs=-1)]: Done  34 tasks      | elapsed:    0.2s\n",
      "[Parallel(n_jobs=-1)]: Done  50 out of  65 | elapsed:    0.2s remaining:    0.0s\n",
      "[Parallel(n_jobs=-1)]: Done  65 out of  65 | elapsed:    0.2s finished\n",
      "\n",
      "[2021-06-23 02:11:06] Features: 6/70 -- score: 0.4417259280208629[Parallel(n_jobs=-1)]: Using backend LokyBackend with 8 concurrent workers.\n",
      "[Parallel(n_jobs=-1)]: Done  34 tasks      | elapsed:    0.2s\n",
      "[Parallel(n_jobs=-1)]: Done  49 out of  64 | elapsed:    0.3s remaining:    0.0s\n",
      "[Parallel(n_jobs=-1)]: Done  64 out of  64 | elapsed:    0.3s finished\n",
      "\n",
      "[2021-06-23 02:11:06] Features: 7/70 -- score: 0.45317074001480223[Parallel(n_jobs=-1)]: Using backend LokyBackend with 8 concurrent workers.\n",
      "[Parallel(n_jobs=-1)]: Done  34 tasks      | elapsed:    0.2s\n",
      "[Parallel(n_jobs=-1)]: Done  48 out of  63 | elapsed:    0.3s remaining:    0.0s\n",
      "[Parallel(n_jobs=-1)]: Done  63 out of  63 | elapsed:    0.3s finished\n",
      "\n",
      "[2021-06-23 02:11:07] Features: 8/70 -- score: 0.4593783988688179[Parallel(n_jobs=-1)]: Using backend LokyBackend with 8 concurrent workers.\n",
      "[Parallel(n_jobs=-1)]: Done  34 tasks      | elapsed:    0.2s\n",
      "[Parallel(n_jobs=-1)]: Done  62 out of  62 | elapsed:    0.3s finished\n",
      "\n",
      "[2021-06-23 02:11:07] Features: 9/70 -- score: 0.4652518355617044[Parallel(n_jobs=-1)]: Using backend LokyBackend with 8 concurrent workers.\n",
      "[Parallel(n_jobs=-1)]: Done  34 tasks      | elapsed:    0.3s\n",
      "[Parallel(n_jobs=-1)]: Done  46 out of  61 | elapsed:    0.3s remaining:    0.0s\n",
      "[Parallel(n_jobs=-1)]: Done  61 out of  61 | elapsed:    0.4s finished\n",
      "\n",
      "[2021-06-23 02:11:08] Features: 10/70 -- score: 0.47123569700274287[Parallel(n_jobs=-1)]: Using backend LokyBackend with 8 concurrent workers.\n",
      "[Parallel(n_jobs=-1)]: Done  34 tasks      | elapsed:    0.3s\n",
      "[Parallel(n_jobs=-1)]: Done  60 out of  60 | elapsed:    0.5s finished\n",
      "\n",
      "[2021-06-23 02:11:08] Features: 11/70 -- score: 0.47483798843832953[Parallel(n_jobs=-1)]: Using backend LokyBackend with 8 concurrent workers.\n",
      "[Parallel(n_jobs=-1)]: Done  34 tasks      | elapsed:    0.4s\n",
      "[Parallel(n_jobs=-1)]: Done  44 out of  59 | elapsed:    0.4s remaining:    0.1s\n",
      "[Parallel(n_jobs=-1)]: Done  59 out of  59 | elapsed:    0.5s finished\n",
      "\n",
      "[2021-06-23 02:11:09] Features: 12/70 -- score: 0.47887597237738627[Parallel(n_jobs=-1)]: Using backend LokyBackend with 8 concurrent workers.\n",
      "[Parallel(n_jobs=-1)]: Done  34 tasks      | elapsed:    0.2s\n",
      "[Parallel(n_jobs=-1)]: Done  58 out of  58 | elapsed:    0.4s finished\n",
      "\n",
      "[2021-06-23 02:11:09] Features: 13/70 -- score: 0.48172194185992795[Parallel(n_jobs=-1)]: Using backend LokyBackend with 8 concurrent workers.\n",
      "[Parallel(n_jobs=-1)]: Done  34 tasks      | elapsed:    0.4s\n",
      "[Parallel(n_jobs=-1)]: Done  42 out of  57 | elapsed:    0.4s remaining:    0.1s\n",
      "[Parallel(n_jobs=-1)]: Done  57 out of  57 | elapsed:    0.5s finished\n",
      "\n",
      "[2021-06-23 02:11:10] Features: 14/70 -- score: 0.4846680596388044[Parallel(n_jobs=-1)]: Using backend LokyBackend with 8 concurrent workers.\n",
      "[Parallel(n_jobs=-1)]: Done  34 tasks      | elapsed:    0.3s\n",
      "[Parallel(n_jobs=-1)]: Done  56 out of  56 | elapsed:    0.4s finished\n",
      "\n",
      "[2021-06-23 02:11:10] Features: 15/70 -- score: 0.48779553232899797[Parallel(n_jobs=-1)]: Using backend LokyBackend with 8 concurrent workers.\n",
      "[Parallel(n_jobs=-1)]: Done  55 out of  55 | elapsed:    0.4s finished\n",
      "\n",
      "[2021-06-23 02:11:11] Features: 16/70 -- score: 0.48968607261357927[Parallel(n_jobs=-1)]: Using backend LokyBackend with 8 concurrent workers.\n",
      "[Parallel(n_jobs=-1)]: Done  39 out of  54 | elapsed:    0.4s remaining:    0.1s\n",
      "[Parallel(n_jobs=-1)]: Done  54 out of  54 | elapsed:    0.4s finished\n",
      "\n",
      "[2021-06-23 02:11:11] Features: 17/70 -- score: 0.49150488345244403[Parallel(n_jobs=-1)]: Using backend LokyBackend with 8 concurrent workers.\n",
      "[Parallel(n_jobs=-1)]: Done  38 out of  53 | elapsed:    0.4s remaining:    0.1s\n",
      "[Parallel(n_jobs=-1)]: Done  53 out of  53 | elapsed:    0.4s finished\n",
      "\n",
      "[2021-06-23 02:11:12] Features: 18/70 -- score: 0.4928637017360817[Parallel(n_jobs=-1)]: Using backend LokyBackend with 8 concurrent workers.\n",
      "[Parallel(n_jobs=-1)]: Done  52 out of  52 | elapsed:    0.5s finished\n",
      "\n",
      "[2021-06-23 02:11:13] Features: 19/70 -- score: 0.4942178162290297[Parallel(n_jobs=-1)]: Using backend LokyBackend with 8 concurrent workers.\n",
      "[Parallel(n_jobs=-1)]: Done  36 out of  51 | elapsed:    0.4s remaining:    0.1s\n",
      "[Parallel(n_jobs=-1)]: Done  51 out of  51 | elapsed:    0.5s finished\n",
      "\n",
      "[2021-06-23 02:11:13] Features: 20/70 -- score: 0.49569985866140753[Parallel(n_jobs=-1)]: Using backend LokyBackend with 8 concurrent workers.\n",
      "[Parallel(n_jobs=-1)]: Done  50 out of  50 | elapsed:    0.5s finished\n",
      "\n",
      "[2021-06-23 02:11:14] Features: 21/70 -- score: 0.4970545582857186[Parallel(n_jobs=-1)]: Using backend LokyBackend with 8 concurrent workers.\n",
      "[Parallel(n_jobs=-1)]: Done  34 out of  49 | elapsed:    0.4s remaining:    0.1s\n",
      "[Parallel(n_jobs=-1)]: Done  49 out of  49 | elapsed:    0.6s finished\n",
      "\n",
      "[2021-06-23 02:11:14] Features: 22/70 -- score: 0.49814103752239774[Parallel(n_jobs=-1)]: Using backend LokyBackend with 8 concurrent workers.\n",
      "[Parallel(n_jobs=-1)]: Done  48 out of  48 | elapsed:    0.6s finished\n",
      "\n",
      "[2021-06-23 02:11:15] Features: 23/70 -- score: 0.4992593059787033[Parallel(n_jobs=-1)]: Using backend LokyBackend with 8 concurrent workers.\n",
      "[Parallel(n_jobs=-1)]: Done  32 out of  47 | elapsed:    0.4s remaining:    0.1s\n",
      "[Parallel(n_jobs=-1)]: Done  47 out of  47 | elapsed:    0.5s finished\n",
      "\n",
      "[2021-06-23 02:11:16] Features: 24/70 -- score: 0.5001963149345314[Parallel(n_jobs=-1)]: Using backend LokyBackend with 8 concurrent workers.\n",
      "[Parallel(n_jobs=-1)]: Done  31 out of  46 | elapsed:    0.6s remaining:    0.2s\n",
      "[Parallel(n_jobs=-1)]: Done  46 out of  46 | elapsed:    0.7s finished\n",
      "\n",
      "[2021-06-23 02:11:17] Features: 25/70 -- score: 0.5010201148666689[Parallel(n_jobs=-1)]: Using backend LokyBackend with 8 concurrent workers.\n",
      "[Parallel(n_jobs=-1)]: Done  30 out of  45 | elapsed:    0.5s remaining:    0.2s\n",
      "[Parallel(n_jobs=-1)]: Done  45 out of  45 | elapsed:    0.6s finished\n",
      "\n",
      "[2021-06-23 02:11:17] Features: 26/70 -- score: 0.5017639154480596[Parallel(n_jobs=-1)]: Using backend LokyBackend with 8 concurrent workers.\n",
      "[Parallel(n_jobs=-1)]: Done  44 out of  44 | elapsed:    0.6s finished\n",
      "\n",
      "[2021-06-23 02:11:18] Features: 27/70 -- score: 0.5023955784550647[Parallel(n_jobs=-1)]: Using backend LokyBackend with 8 concurrent workers.\n",
      "[Parallel(n_jobs=-1)]: Done  43 out of  43 | elapsed:    0.7s finished\n",
      "\n",
      "[2021-06-23 02:11:19] Features: 28/70 -- score: 0.5028958181273312[Parallel(n_jobs=-1)]: Using backend LokyBackend with 8 concurrent workers.\n",
      "[Parallel(n_jobs=-1)]: Done  27 out of  42 | elapsed:    0.5s remaining:    0.2s\n",
      "[Parallel(n_jobs=-1)]: Done  42 out of  42 | elapsed:    0.6s finished\n",
      "\n",
      "[2021-06-23 02:11:19] Features: 29/70 -- score: 0.503342873464558[Parallel(n_jobs=-1)]: Using backend LokyBackend with 8 concurrent workers.\n"
     ]
    },
    {
     "name": "stderr",
     "output_type": "stream",
     "text": [
      "[Parallel(n_jobs=-1)]: Done  41 out of  41 | elapsed:    0.6s finished\n",
      "\n",
      "[2021-06-23 02:11:20] Features: 30/70 -- score: 0.5040258792470933[Parallel(n_jobs=-1)]: Using backend LokyBackend with 8 concurrent workers.\n",
      "[Parallel(n_jobs=-1)]: Done  40 out of  40 | elapsed:    0.6s finished\n",
      "\n",
      "[2021-06-23 02:11:21] Features: 31/70 -- score: 0.5044621014698796[Parallel(n_jobs=-1)]: Using backend LokyBackend with 8 concurrent workers.\n",
      "[Parallel(n_jobs=-1)]: Done  24 out of  39 | elapsed:    0.5s remaining:    0.3s\n",
      "[Parallel(n_jobs=-1)]: Done  39 out of  39 | elapsed:    0.6s finished\n",
      "\n",
      "[2021-06-23 02:11:21] Features: 32/70 -- score: 0.5047878564940089[Parallel(n_jobs=-1)]: Using backend LokyBackend with 8 concurrent workers.\n",
      "[Parallel(n_jobs=-1)]: Done  38 out of  38 | elapsed:    0.7s finished\n",
      "\n",
      "[2021-06-23 02:11:22] Features: 33/70 -- score: 0.5050882316830279[Parallel(n_jobs=-1)]: Using backend LokyBackend with 8 concurrent workers.\n",
      "[Parallel(n_jobs=-1)]: Done  22 out of  37 | elapsed:    0.6s remaining:    0.4s\n",
      "[Parallel(n_jobs=-1)]: Done  37 out of  37 | elapsed:    0.8s finished\n",
      "\n",
      "[2021-06-23 02:11:23] Features: 34/70 -- score: 0.5053620512850209[Parallel(n_jobs=-1)]: Using backend LokyBackend with 8 concurrent workers.\n",
      "[Parallel(n_jobs=-1)]: Done  36 out of  36 | elapsed:    0.7s finished\n",
      "\n",
      "[2021-06-23 02:11:24] Features: 35/70 -- score: 0.5056081299954873[Parallel(n_jobs=-1)]: Using backend LokyBackend with 8 concurrent workers.\n",
      "[Parallel(n_jobs=-1)]: Done  20 out of  35 | elapsed:    0.5s remaining:    0.3s\n",
      "[Parallel(n_jobs=-1)]: Done  35 out of  35 | elapsed:    0.6s finished\n",
      "\n",
      "[2021-06-23 02:11:25] Features: 36/70 -- score: 0.5059049755120958[Parallel(n_jobs=-1)]: Using backend LokyBackend with 8 concurrent workers.\n",
      "[Parallel(n_jobs=-1)]: Done  34 out of  34 | elapsed:    0.7s finished\n",
      "\n",
      "[2021-06-23 02:11:25] Features: 37/70 -- score: 0.5060939003084398[Parallel(n_jobs=-1)]: Using backend LokyBackend with 8 concurrent workers.\n",
      "[Parallel(n_jobs=-1)]: Done  18 out of  33 | elapsed:    0.7s remaining:    0.6s\n",
      "[Parallel(n_jobs=-1)]: Done  33 out of  33 | elapsed:    0.9s finished\n",
      "\n",
      "[2021-06-23 02:11:26] Features: 38/70 -- score: 0.5062777406803323[Parallel(n_jobs=-1)]: Using backend LokyBackend with 8 concurrent workers.\n",
      "[Parallel(n_jobs=-1)]: Done  32 out of  32 | elapsed:    0.7s finished\n",
      "\n",
      "[2021-06-23 02:11:27] Features: 39/70 -- score: 0.5064905972743649[Parallel(n_jobs=-1)]: Using backend LokyBackend with 8 concurrent workers.\n",
      "[Parallel(n_jobs=-1)]: Done  31 out of  31 | elapsed:    0.7s finished\n",
      "\n",
      "[2021-06-23 02:11:28] Features: 40/70 -- score: 0.506653898181155[Parallel(n_jobs=-1)]: Using backend LokyBackend with 8 concurrent workers.\n",
      "[Parallel(n_jobs=-1)]: Done  30 out of  30 | elapsed:    0.7s finished\n",
      "\n",
      "[2021-06-23 02:11:29] Features: 41/70 -- score: 0.5067935745829327[Parallel(n_jobs=-1)]: Using backend LokyBackend with 8 concurrent workers.\n",
      "[Parallel(n_jobs=-1)]: Done  29 out of  29 | elapsed:    0.7s remaining:    0.0s\n",
      "[Parallel(n_jobs=-1)]: Done  29 out of  29 | elapsed:    0.7s finished\n",
      "\n",
      "[2021-06-23 02:11:30] Features: 42/70 -- score: 0.5068590962732045[Parallel(n_jobs=-1)]: Using backend LokyBackend with 8 concurrent workers.\n",
      "[Parallel(n_jobs=-1)]: Done  28 out of  28 | elapsed:    0.7s remaining:    0.0s\n",
      "[Parallel(n_jobs=-1)]: Done  28 out of  28 | elapsed:    0.7s finished\n",
      "\n",
      "[2021-06-23 02:11:31] Features: 43/70 -- score: 0.506907038233742[Parallel(n_jobs=-1)]: Using backend LokyBackend with 8 concurrent workers.\n",
      "[Parallel(n_jobs=-1)]: Done  27 out of  27 | elapsed:    0.7s finished\n",
      "\n",
      "[2021-06-23 02:11:31] Features: 44/70 -- score: 0.5069500534515129[Parallel(n_jobs=-1)]: Using backend LokyBackend with 8 concurrent workers.\n",
      "[Parallel(n_jobs=-1)]: Done  26 out of  26 | elapsed:    0.7s finished\n",
      "\n",
      "[2021-06-23 02:11:32] Features: 45/70 -- score: 0.5069601710077518[Parallel(n_jobs=-1)]: Using backend LokyBackend with 8 concurrent workers.\n",
      "[Parallel(n_jobs=-1)]: Done  23 out of  25 | elapsed:    0.7s remaining:    0.0s\n",
      "[Parallel(n_jobs=-1)]: Done  25 out of  25 | elapsed:    0.7s finished\n",
      "\n",
      "[2021-06-23 02:11:33] Features: 46/70 -- score: 0.5069631208576902[Parallel(n_jobs=-1)]: Using backend LokyBackend with 8 concurrent workers.\n",
      "[Parallel(n_jobs=-1)]: Done  22 out of  24 | elapsed:    0.6s remaining:    0.0s\n",
      "[Parallel(n_jobs=-1)]: Done  24 out of  24 | elapsed:    0.6s finished\n",
      "\n",
      "[2021-06-23 02:11:34] Features: 47/70 -- score: 0.5069602560810372[Parallel(n_jobs=-1)]: Using backend LokyBackend with 8 concurrent workers.\n",
      "[Parallel(n_jobs=-1)]: Done  20 out of  23 | elapsed:    0.6s remaining:    0.0s\n",
      "[Parallel(n_jobs=-1)]: Done  23 out of  23 | elapsed:    0.6s finished\n",
      "\n",
      "[2021-06-23 02:11:34] Features: 48/70 -- score: 0.5070648527255937[Parallel(n_jobs=-1)]: Using backend LokyBackend with 8 concurrent workers.\n",
      "[Parallel(n_jobs=-1)]: Done  19 out of  22 | elapsed:    0.6s remaining:    0.0s\n",
      "[Parallel(n_jobs=-1)]: Done  22 out of  22 | elapsed:    0.6s finished\n",
      "\n",
      "[2021-06-23 02:11:35] Features: 49/70 -- score: 0.5070322280625572[Parallel(n_jobs=-1)]: Using backend LokyBackend with 8 concurrent workers.\n",
      "[Parallel(n_jobs=-1)]: Done  17 out of  21 | elapsed:    0.5s remaining:    0.0s\n",
      "[Parallel(n_jobs=-1)]: Done  21 out of  21 | elapsed:    0.6s finished\n",
      "\n",
      "[2021-06-23 02:11:36] Features: 50/70 -- score: 0.5069781722263819[Parallel(n_jobs=-1)]: Using backend LokyBackend with 8 concurrent workers.\n",
      "[Parallel(n_jobs=-1)]: Done  16 out of  20 | elapsed:    0.5s remaining:    0.0s\n",
      "[Parallel(n_jobs=-1)]: Done  20 out of  20 | elapsed:    0.5s finished\n",
      "\n",
      "[2021-06-23 02:11:36] Features: 51/70 -- score: 0.5069006800318534[Parallel(n_jobs=-1)]: Using backend LokyBackend with 8 concurrent workers.\n",
      "[Parallel(n_jobs=-1)]: Done  14 out of  19 | elapsed:    0.5s remaining:    0.1s\n",
      "[Parallel(n_jobs=-1)]: Done  19 out of  19 | elapsed:    0.5s finished\n",
      "\n",
      "[2021-06-23 02:11:37] Features: 52/70 -- score: 0.5068039831978397[Parallel(n_jobs=-1)]: Using backend LokyBackend with 8 concurrent workers.\n",
      "[Parallel(n_jobs=-1)]: Done  13 out of  18 | elapsed:    0.4s remaining:    0.1s\n",
      "[Parallel(n_jobs=-1)]: Done  18 out of  18 | elapsed:    0.5s finished\n",
      "\n",
      "[2021-06-23 02:11:38] Features: 53/70 -- score: 0.5066976451483429[Parallel(n_jobs=-1)]: Using backend LokyBackend with 8 concurrent workers.\n",
      "[Parallel(n_jobs=-1)]: Done  11 out of  17 | elapsed:    0.4s remaining:    0.2s\n",
      "[Parallel(n_jobs=-1)]: Done  17 out of  17 | elapsed:    0.5s finished\n",
      "\n",
      "[2021-06-23 02:11:38] Features: 54/70 -- score: 0.5065816153988274[Parallel(n_jobs=-1)]: Using backend LokyBackend with 8 concurrent workers.\n",
      "[Parallel(n_jobs=-1)]: Done  10 out of  16 | elapsed:    0.4s remaining:    0.2s\n",
      "[Parallel(n_jobs=-1)]: Done  16 out of  16 | elapsed:    0.5s finished\n",
      "\n",
      "[2021-06-23 02:11:39] Features: 55/70 -- score: 0.5064268814238302[Parallel(n_jobs=-1)]: Using backend LokyBackend with 8 concurrent workers.\n",
      "[Parallel(n_jobs=-1)]: Done   8 out of  15 | elapsed:    0.3s remaining:    0.3s\n",
      "[Parallel(n_jobs=-1)]: Done  15 out of  15 | elapsed:    0.5s finished\n",
      "\n",
      "[2021-06-23 02:11:39] Features: 56/70 -- score: 0.5062439032183897[Parallel(n_jobs=-1)]: Using backend LokyBackend with 8 concurrent workers.\n",
      "[Parallel(n_jobs=-1)]: Done   7 out of  14 | elapsed:    0.3s remaining:    0.3s\n",
      "[Parallel(n_jobs=-1)]: Done  14 out of  14 | elapsed:    0.4s finished\n",
      "\n",
      "[2021-06-23 02:11:40] Features: 57/70 -- score: 0.5060606095843877[Parallel(n_jobs=-1)]: Using backend LokyBackend with 8 concurrent workers.\n",
      "[Parallel(n_jobs=-1)]: Done   5 out of  13 | elapsed:    0.3s remaining:    0.5s\n",
      "[Parallel(n_jobs=-1)]: Done  13 out of  13 | elapsed:    0.4s finished\n",
      "\n",
      "[2021-06-23 02:11:40] Features: 58/70 -- score: 0.5057990302971425[Parallel(n_jobs=-1)]: Using backend LokyBackend with 8 concurrent workers.\n",
      "[Parallel(n_jobs=-1)]: Done   4 out of  12 | elapsed:    0.2s remaining:    0.5s\n",
      "[Parallel(n_jobs=-1)]: Done  12 out of  12 | elapsed:    0.4s finished\n",
      "\n",
      "[2021-06-23 02:11:41] Features: 59/70 -- score: 0.5054872017185119[Parallel(n_jobs=-1)]: Using backend LokyBackend with 8 concurrent workers.\n",
      "[Parallel(n_jobs=-1)]: Done   2 out of  11 | elapsed:    0.2s remaining:    1.0s\n",
      "[Parallel(n_jobs=-1)]: Done   8 out of  11 | elapsed:    0.3s remaining:    0.0s\n",
      "[Parallel(n_jobs=-1)]: Done  11 out of  11 | elapsed:    0.3s finished\n"
     ]
    },
    {
     "name": "stderr",
     "output_type": "stream",
     "text": [
      "\n",
      "[2021-06-23 02:11:41] Features: 60/70 -- score: 0.5051303603970607[Parallel(n_jobs=-1)]: Using backend LokyBackend with 8 concurrent workers.\n",
      "[Parallel(n_jobs=-1)]: Done   7 out of  10 | elapsed:    0.3s remaining:    0.1s\n",
      "[Parallel(n_jobs=-1)]: Done  10 out of  10 | elapsed:    0.3s finished\n",
      "\n",
      "[2021-06-23 02:11:42] Features: 61/70 -- score: 0.5047826002222202[Parallel(n_jobs=-1)]: Using backend LokyBackend with 8 concurrent workers.\n",
      "[Parallel(n_jobs=-1)]: Done   4 out of   9 | elapsed:    0.2s remaining:    0.3s\n",
      "[Parallel(n_jobs=-1)]: Done   9 out of   9 | elapsed:    0.3s remaining:    0.0s\n",
      "[Parallel(n_jobs=-1)]: Done   9 out of   9 | elapsed:    0.3s finished\n",
      "\n",
      "[2021-06-23 02:11:42] Features: 62/70 -- score: 0.5044280558206075[Parallel(n_jobs=-1)]: Using backend LokyBackend with 8 concurrent workers.\n",
      "[Parallel(n_jobs=-1)]: Done   3 out of   8 | elapsed:    0.2s remaining:    0.4s\n",
      "[Parallel(n_jobs=-1)]: Done   8 out of   8 | elapsed:    0.2s remaining:    0.0s\n",
      "[Parallel(n_jobs=-1)]: Done   8 out of   8 | elapsed:    0.2s finished\n",
      "\n",
      "[2021-06-23 02:11:42] Features: 63/70 -- score: 0.5040398015131853[Parallel(n_jobs=-1)]: Using backend LokyBackend with 8 concurrent workers.\n",
      "[Parallel(n_jobs=-1)]: Done   4 out of   7 | elapsed:    0.2s remaining:    0.1s\n",
      "[Parallel(n_jobs=-1)]: Done   7 out of   7 | elapsed:    0.2s finished\n",
      "\n",
      "[2021-06-23 02:11:43] Features: 64/70 -- score: 0.503628469856444[Parallel(n_jobs=-1)]: Using backend LokyBackend with 8 concurrent workers.\n",
      "[Parallel(n_jobs=-1)]: Done   3 out of   6 | elapsed:    0.2s remaining:    0.2s\n",
      "[Parallel(n_jobs=-1)]: Done   6 out of   6 | elapsed:    0.2s finished\n",
      "\n",
      "[2021-06-23 02:11:43] Features: 65/70 -- score: 0.5030867881799062[Parallel(n_jobs=-1)]: Using backend LokyBackend with 8 concurrent workers.\n",
      "[Parallel(n_jobs=-1)]: Done   2 out of   5 | elapsed:    0.1s remaining:    0.2s\n",
      "[Parallel(n_jobs=-1)]: Done   5 out of   5 | elapsed:    0.1s remaining:    0.0s\n",
      "[Parallel(n_jobs=-1)]: Done   5 out of   5 | elapsed:    0.1s finished\n",
      "\n",
      "[2021-06-23 02:11:43] Features: 66/70 -- score: 0.5026239265762136[Parallel(n_jobs=-1)]: Using backend LokyBackend with 8 concurrent workers.\n",
      "[Parallel(n_jobs=-1)]: Done   4 out of   4 | elapsed:    0.1s remaining:    0.0s\n",
      "[Parallel(n_jobs=-1)]: Done   4 out of   4 | elapsed:    0.1s finished\n",
      "\n",
      "[2021-06-23 02:11:43] Features: 67/70 -- score: 0.502052077499175[Parallel(n_jobs=-1)]: Using backend LokyBackend with 8 concurrent workers.\n",
      "[Parallel(n_jobs=-1)]: Done   3 out of   3 | elapsed:    0.1s finished\n",
      "\n",
      "[2021-06-23 02:11:43] Features: 68/70 -- score: 0.5014283324095359[Parallel(n_jobs=-1)]: Using backend LokyBackend with 8 concurrent workers.\n",
      "[Parallel(n_jobs=-1)]: Done   2 out of   2 | elapsed:    0.0s finished\n",
      "\n",
      "[2021-06-23 02:11:44] Features: 69/70 -- score: 0.5006119938549609[Parallel(n_jobs=-1)]: Using backend LokyBackend with 8 concurrent workers.\n",
      "[Parallel(n_jobs=-1)]: Done   1 out of   1 | elapsed:    0.0s finished\n",
      "\n",
      "[2021-06-23 02:11:44] Features: 70/70 -- score: 0.47219569894019014"
     ]
    },
    {
     "data": {
      "application/javascript": [
       "\n",
       "            setTimeout(function() {\n",
       "                var nbb_cell_id = 45;\n",
       "                var nbb_unformatted_code = \"from mlxtend.feature_selection import SequentialFeatureSelector as SFS\\n\\nreg = LinearRegression()\\n\\n# Build step forward feature selection\\nsfs = SFS(\\n    reg,\\n    k_features=x_train.shape[1],\\n    forward=True,  # k_features denotes the number of features to select\\n    floating=False,\\n    scoring=\\\"r2\\\",\\n    n_jobs=-1,  # n_jobs=-1 means all processor cores will be used\\n    verbose=2,\\n    cv=5,\\n)\\n\\n# Perform SFFS\\nsfs = sfs.fit(x_train, y_train)\";\n",
       "                var nbb_formatted_code = \"from mlxtend.feature_selection import SequentialFeatureSelector as SFS\\n\\nreg = LinearRegression()\\n\\n# Build step forward feature selection\\nsfs = SFS(\\n    reg,\\n    k_features=x_train.shape[1],\\n    forward=True,  # k_features denotes the number of features to select\\n    floating=False,\\n    scoring=\\\"r2\\\",\\n    n_jobs=-1,  # n_jobs=-1 means all processor cores will be used\\n    verbose=2,\\n    cv=5,\\n)\\n\\n# Perform SFFS\\nsfs = sfs.fit(x_train, y_train)\";\n",
       "                var nbb_cells = Jupyter.notebook.get_cells();\n",
       "                for (var i = 0; i < nbb_cells.length; ++i) {\n",
       "                    if (nbb_cells[i].input_prompt_number == nbb_cell_id) {\n",
       "                        if (nbb_cells[i].get_text() == nbb_unformatted_code) {\n",
       "                             nbb_cells[i].set_text(nbb_formatted_code);\n",
       "                        }\n",
       "                        break;\n",
       "                    }\n",
       "                }\n",
       "            }, 500);\n",
       "            "
      ],
      "text/plain": [
       "<IPython.core.display.Javascript object>"
      ]
     },
     "metadata": {},
     "output_type": "display_data"
    }
   ],
   "source": [
    "from mlxtend.feature_selection import SequentialFeatureSelector as SFS\n",
    "\n",
    "reg = LinearRegression()\n",
    "\n",
    "# Build step forward feature selection\n",
    "sfs = SFS(\n",
    "    reg,\n",
    "    k_features=x_train.shape[1],\n",
    "    forward=True,  # k_features denotes the number of features to select\n",
    "    floating=False,\n",
    "    scoring=\"r2\",\n",
    "    n_jobs=-1,  # n_jobs=-1 means all processor cores will be used\n",
    "    verbose=2,\n",
    "    cv=5,\n",
    ")\n",
    "\n",
    "# Perform SFFS\n",
    "sfs = sfs.fit(x_train, y_train)"
   ]
  },
  {
   "cell_type": "code",
   "execution_count": 46,
   "metadata": {},
   "outputs": [
    {
     "data": {
      "image/png": "[encoded data removed]",
      "text/plain": [
       "<Figure size 1080x360 with 1 Axes>"
      ]
     },
     "metadata": {},
     "output_type": "display_data"
    },
    {
     "data": {
      "application/javascript": [
       "\n",
       "            setTimeout(function() {\n",
       "                var nbb_cell_id = 46;\n",
       "                var nbb_unformatted_code = \"# to plot the performance with addition of each feature\\nfrom mlxtend.plotting import plot_sequential_feature_selection as plot_sfs\\n\\nfig1 = plot_sfs(sfs.get_metric_dict(), kind=\\\"std_err\\\", figsize=(15, 5))\\nplt.title(\\\"Sequential Forward Selection (w. StdErr)\\\")\\nplt.xticks(rotation=90)\\nplt.show()\";\n",
       "                var nbb_formatted_code = \"# to plot the performance with addition of each feature\\nfrom mlxtend.plotting import plot_sequential_feature_selection as plot_sfs\\n\\nfig1 = plot_sfs(sfs.get_metric_dict(), kind=\\\"std_err\\\", figsize=(15, 5))\\nplt.title(\\\"Sequential Forward Selection (w. StdErr)\\\")\\nplt.xticks(rotation=90)\\nplt.show()\";\n",
       "                var nbb_cells = Jupyter.notebook.get_cells();\n",
       "                for (var i = 0; i < nbb_cells.length; ++i) {\n",
       "                    if (nbb_cells[i].input_prompt_number == nbb_cell_id) {\n",
       "                        if (nbb_cells[i].get_text() == nbb_unformatted_code) {\n",
       "                             nbb_cells[i].set_text(nbb_formatted_code);\n",
       "                        }\n",
       "                        break;\n",
       "                    }\n",
       "                }\n",
       "            }, 500);\n",
       "            "
      ],
      "text/plain": [
       "<IPython.core.display.Javascript object>"
      ]
     },
     "metadata": {},
     "output_type": "display_data"
    }
   ],
   "source": [
    "# to plot the performance with addition of each feature\n",
    "from mlxtend.plotting import plot_sequential_feature_selection as plot_sfs\n",
    "\n",
    "fig1 = plot_sfs(sfs.get_metric_dict(), kind=\"std_err\", figsize=(15, 5))\n",
    "plt.title(\"Sequential Forward Selection (w. StdErr)\")\n",
    "plt.xticks(rotation=90)\n",
    "plt.show()"
   ]
  },
  {
   "cell_type": "markdown",
   "metadata": {
    "id": "dT4ZvbUu9WNC"
   },
   "source": [
    "* We can see that performance increases till the 30th feature and then slowly becomes constant, and then drops sharply after the 70th feature is added.\n",
    "* The decision to choose the k_features now depends on the adjusted $R^2$ vs the complexity of the model.\n",
    "    - With 30 features, we are getting an adjusted $R^2$ of 0.504 and with 48 features, we are getting an adjusted $R^2$ of 0.507.\n",
    "* The increase in adjusted $R^2$ is not very significant as we are getting the same values with a less complex model.\n",
    "* So we'll use 30 features only to build our model, but you can experiment by taking a different number.\n",
    "- Number of features chosen will also depend on the business context and use case of the model."
   ]
  },
  {
   "cell_type": "code",
   "execution_count": 47,
   "metadata": {
    "id": "ysSkaRN9qH_M",
    "outputId": "44accd16-22a9-414b-c612-8d3665759225"
   },
   "outputs": [
    {
     "name": "stderr",
     "output_type": "stream",
     "text": [
      "[Parallel(n_jobs=-1)]: Using backend LokyBackend with 8 concurrent workers.\n",
      "[Parallel(n_jobs=-1)]: Done  34 tasks      | elapsed:    0.0s\n",
      "[Parallel(n_jobs=-1)]: Done  70 out of  70 | elapsed:    0.1s finished\n",
      "\n",
      "[2021-06-23 02:11:45] Features: 1/30 -- score: 0.261089359587903[Parallel(n_jobs=-1)]: Using backend LokyBackend with 8 concurrent workers.\n",
      "[Parallel(n_jobs=-1)]: Done  34 tasks      | elapsed:    0.0s\n",
      "[Parallel(n_jobs=-1)]: Done  69 out of  69 | elapsed:    0.1s finished\n",
      "\n",
      "[2021-06-23 02:11:45] Features: 2/30 -- score: 0.3522663085348247[Parallel(n_jobs=-1)]: Using backend LokyBackend with 8 concurrent workers.\n",
      "[Parallel(n_jobs=-1)]: Done  34 tasks      | elapsed:    0.0s\n",
      "[Parallel(n_jobs=-1)]: Done  53 out of  68 | elapsed:    0.1s remaining:    0.0s\n",
      "[Parallel(n_jobs=-1)]: Done  68 out of  68 | elapsed:    0.1s finished\n",
      "\n",
      "[2021-06-23 02:11:45] Features: 3/30 -- score: 0.4005056411016484[Parallel(n_jobs=-1)]: Using backend LokyBackend with 8 concurrent workers.\n",
      "[Parallel(n_jobs=-1)]: Done  34 tasks      | elapsed:    0.1s\n",
      "[Parallel(n_jobs=-1)]: Done  67 out of  67 | elapsed:    0.2s finished\n",
      "\n",
      "[2021-06-23 02:11:45] Features: 4/30 -- score: 0.4174196547714809[Parallel(n_jobs=-1)]: Using backend LokyBackend with 8 concurrent workers.\n",
      "[Parallel(n_jobs=-1)]: Done  34 tasks      | elapsed:    0.1s\n",
      "[Parallel(n_jobs=-1)]: Done  51 out of  66 | elapsed:    0.2s remaining:    0.0s\n",
      "[Parallel(n_jobs=-1)]: Done  66 out of  66 | elapsed:    0.2s finished\n",
      "\n",
      "[2021-06-23 02:11:46] Features: 5/30 -- score: 0.43222076293523876[Parallel(n_jobs=-1)]: Using backend LokyBackend with 8 concurrent workers.\n",
      "[Parallel(n_jobs=-1)]: Done  34 tasks      | elapsed:    0.1s\n",
      "[Parallel(n_jobs=-1)]: Done  65 out of  65 | elapsed:    0.2s finished\n",
      "\n",
      "[2021-06-23 02:11:46] Features: 6/30 -- score: 0.4417259280208629[Parallel(n_jobs=-1)]: Using backend LokyBackend with 8 concurrent workers.\n",
      "[Parallel(n_jobs=-1)]: Done  36 tasks      | elapsed:    0.2s\n",
      "[Parallel(n_jobs=-1)]: Done  64 out of  64 | elapsed:    0.3s finished\n",
      "\n",
      "[2021-06-23 02:11:47] Features: 7/30 -- score: 0.45317074001480223[Parallel(n_jobs=-1)]: Using backend LokyBackend with 8 concurrent workers.\n",
      "[Parallel(n_jobs=-1)]: Done  34 tasks      | elapsed:    0.2s\n",
      "[Parallel(n_jobs=-1)]: Done  48 out of  63 | elapsed:    0.3s remaining:    0.0s\n",
      "[Parallel(n_jobs=-1)]: Done  63 out of  63 | elapsed:    0.3s finished\n",
      "\n",
      "[2021-06-23 02:11:47] Features: 8/30 -- score: 0.4593783988688179[Parallel(n_jobs=-1)]: Using backend LokyBackend with 8 concurrent workers.\n",
      "[Parallel(n_jobs=-1)]: Done  34 tasks      | elapsed:    0.2s\n",
      "[Parallel(n_jobs=-1)]: Done  47 out of  62 | elapsed:    0.3s remaining:    0.0s\n",
      "[Parallel(n_jobs=-1)]: Done  62 out of  62 | elapsed:    0.3s finished\n",
      "\n",
      "[2021-06-23 02:11:47] Features: 9/30 -- score: 0.4652518355617044[Parallel(n_jobs=-1)]: Using backend LokyBackend with 8 concurrent workers.\n",
      "[Parallel(n_jobs=-1)]: Done  34 tasks      | elapsed:    0.2s\n",
      "[Parallel(n_jobs=-1)]: Done  61 out of  61 | elapsed:    0.3s finished\n",
      "\n",
      "[2021-06-23 02:11:48] Features: 10/30 -- score: 0.47123569700274287[Parallel(n_jobs=-1)]: Using backend LokyBackend with 8 concurrent workers.\n",
      "[Parallel(n_jobs=-1)]: Done  34 tasks      | elapsed:    0.2s\n",
      "[Parallel(n_jobs=-1)]: Done  45 out of  60 | elapsed:    0.3s remaining:    0.0s\n",
      "[Parallel(n_jobs=-1)]: Done  60 out of  60 | elapsed:    0.3s finished\n",
      "\n",
      "[2021-06-23 02:11:48] Features: 11/30 -- score: 0.47483798843832953[Parallel(n_jobs=-1)]: Using backend LokyBackend with 8 concurrent workers.\n",
      "[Parallel(n_jobs=-1)]: Done  34 tasks      | elapsed:    0.2s\n",
      "[Parallel(n_jobs=-1)]: Done  44 out of  59 | elapsed:    0.2s remaining:    0.0s\n",
      "[Parallel(n_jobs=-1)]: Done  59 out of  59 | elapsed:    0.3s finished\n",
      "\n",
      "[2021-06-23 02:11:49] Features: 12/30 -- score: 0.47887597237738627[Parallel(n_jobs=-1)]: Using backend LokyBackend with 8 concurrent workers.\n",
      "[Parallel(n_jobs=-1)]: Done  34 tasks      | elapsed:    0.3s\n",
      "[Parallel(n_jobs=-1)]: Done  58 out of  58 | elapsed:    0.4s finished\n",
      "\n",
      "[2021-06-23 02:11:49] Features: 13/30 -- score: 0.48172194185992795[Parallel(n_jobs=-1)]: Using backend LokyBackend with 8 concurrent workers.\n",
      "[Parallel(n_jobs=-1)]: Done  34 tasks      | elapsed:    0.3s\n",
      "[Parallel(n_jobs=-1)]: Done  42 out of  57 | elapsed:    0.3s remaining:    0.1s\n",
      "[Parallel(n_jobs=-1)]: Done  57 out of  57 | elapsed:    0.4s finished\n",
      "\n",
      "[2021-06-23 02:11:49] Features: 14/30 -- score: 0.4846680596388044[Parallel(n_jobs=-1)]: Using backend LokyBackend with 8 concurrent workers.\n",
      "[Parallel(n_jobs=-1)]: Done  34 tasks      | elapsed:    0.3s\n",
      "[Parallel(n_jobs=-1)]: Done  56 out of  56 | elapsed:    0.4s finished\n",
      "\n",
      "[2021-06-23 02:11:50] Features: 15/30 -- score: 0.48779553232899797[Parallel(n_jobs=-1)]: Using backend LokyBackend with 8 concurrent workers.\n",
      "[Parallel(n_jobs=-1)]: Done  40 out of  55 | elapsed:    0.3s remaining:    0.1s\n",
      "[Parallel(n_jobs=-1)]: Done  55 out of  55 | elapsed:    0.4s finished\n",
      "\n",
      "[2021-06-23 02:11:50] Features: 16/30 -- score: 0.48968607261357927[Parallel(n_jobs=-1)]: Using backend LokyBackend with 8 concurrent workers.\n",
      "[Parallel(n_jobs=-1)]: Done  39 out of  54 | elapsed:    0.4s remaining:    0.1s\n",
      "[Parallel(n_jobs=-1)]: Done  54 out of  54 | elapsed:    0.4s finished\n",
      "\n",
      "[2021-06-23 02:11:51] Features: 17/30 -- score: 0.49150488345244403[Parallel(n_jobs=-1)]: Using backend LokyBackend with 8 concurrent workers.\n",
      "[Parallel(n_jobs=-1)]: Done  38 out of  53 | elapsed:    0.4s remaining:    0.1s\n",
      "[Parallel(n_jobs=-1)]: Done  53 out of  53 | elapsed:    0.5s finished\n",
      "\n",
      "[2021-06-23 02:11:52] Features: 18/30 -- score: 0.4928637017360817[Parallel(n_jobs=-1)]: Using backend LokyBackend with 8 concurrent workers.\n",
      "[Parallel(n_jobs=-1)]: Done  52 out of  52 | elapsed:    0.6s finished\n",
      "\n",
      "[2021-06-23 02:11:52] Features: 19/30 -- score: 0.4942178162290297[Parallel(n_jobs=-1)]: Using backend LokyBackend with 8 concurrent workers.\n",
      "[Parallel(n_jobs=-1)]: Done  36 out of  51 | elapsed:    0.5s remaining:    0.1s\n",
      "[Parallel(n_jobs=-1)]: Done  51 out of  51 | elapsed:    0.7s finished\n",
      "\n",
      "[2021-06-23 02:11:53] Features: 20/30 -- score: 0.49569985866140753[Parallel(n_jobs=-1)]: Using backend LokyBackend with 8 concurrent workers.\n",
      "[Parallel(n_jobs=-1)]: Done  50 out of  50 | elapsed:    0.6s finished\n",
      "\n",
      "[2021-06-23 02:11:54] Features: 21/30 -- score: 0.4970545582857186[Parallel(n_jobs=-1)]: Using backend LokyBackend with 8 concurrent workers.\n",
      "[Parallel(n_jobs=-1)]: Done  34 out of  49 | elapsed:    0.5s remaining:    0.2s\n",
      "[Parallel(n_jobs=-1)]: Done  49 out of  49 | elapsed:    0.6s finished\n",
      "\n",
      "[2021-06-23 02:11:55] Features: 22/30 -- score: 0.49814103752239774[Parallel(n_jobs=-1)]: Using backend LokyBackend with 8 concurrent workers.\n",
      "[Parallel(n_jobs=-1)]: Done  48 out of  48 | elapsed:    0.6s finished\n",
      "\n",
      "[2021-06-23 02:11:55] Features: 23/30 -- score: 0.4992593059787033[Parallel(n_jobs=-1)]: Using backend LokyBackend with 8 concurrent workers.\n",
      "[Parallel(n_jobs=-1)]: Done  32 out of  47 | elapsed:    0.5s remaining:    0.2s\n",
      "[Parallel(n_jobs=-1)]: Done  47 out of  47 | elapsed:    0.6s finished\n",
      "\n",
      "[2021-06-23 02:11:56] Features: 24/30 -- score: 0.5001963149345314[Parallel(n_jobs=-1)]: Using backend LokyBackend with 8 concurrent workers.\n",
      "[Parallel(n_jobs=-1)]: Done  31 out of  46 | elapsed:    0.4s remaining:    0.2s\n",
      "[Parallel(n_jobs=-1)]: Done  46 out of  46 | elapsed:    0.6s finished\n",
      "\n",
      "[2021-06-23 02:11:57] Features: 25/30 -- score: 0.5010201148666689[Parallel(n_jobs=-1)]: Using backend LokyBackend with 8 concurrent workers.\n",
      "[Parallel(n_jobs=-1)]: Done  45 out of  45 | elapsed:    0.7s finished\n",
      "\n",
      "[2021-06-23 02:11:57] Features: 26/30 -- score: 0.5017639154480596[Parallel(n_jobs=-1)]: Using backend LokyBackend with 8 concurrent workers.\n",
      "[Parallel(n_jobs=-1)]: Done  29 out of  44 | elapsed:    0.5s remaining:    0.2s\n",
      "[Parallel(n_jobs=-1)]: Done  44 out of  44 | elapsed:    0.6s finished\n",
      "\n",
      "[2021-06-23 02:11:58] Features: 27/30 -- score: 0.5023955784550647[Parallel(n_jobs=-1)]: Using backend LokyBackend with 8 concurrent workers.\n",
      "[Parallel(n_jobs=-1)]: Done  28 out of  43 | elapsed:    0.6s remaining:    0.3s\n",
      "[Parallel(n_jobs=-1)]: Done  43 out of  43 | elapsed:    0.8s finished\n",
      "\n",
      "[2021-06-23 02:11:59] Features: 28/30 -- score: 0.5028958181273312[Parallel(n_jobs=-1)]: Using backend LokyBackend with 8 concurrent workers.\n"
     ]
    },
    {
     "name": "stderr",
     "output_type": "stream",
     "text": [
      "[Parallel(n_jobs=-1)]: Done  27 out of  42 | elapsed:    0.6s remaining:    0.3s\n",
      "[Parallel(n_jobs=-1)]: Done  42 out of  42 | elapsed:    0.8s finished\n",
      "\n",
      "[2021-06-23 02:12:00] Features: 29/30 -- score: 0.503342873464558[Parallel(n_jobs=-1)]: Using backend LokyBackend with 8 concurrent workers.\n",
      "[Parallel(n_jobs=-1)]: Done  26 out of  41 | elapsed:    0.6s remaining:    0.3s\n",
      "[Parallel(n_jobs=-1)]: Done  41 out of  41 | elapsed:    0.8s finished\n",
      "\n",
      "[2021-06-23 02:12:01] Features: 30/30 -- score: 0.5040258792470933"
     ]
    },
    {
     "data": {
      "application/javascript": [
       "\n",
       "            setTimeout(function() {\n",
       "                var nbb_cell_id = 47;\n",
       "                var nbb_unformatted_code = \"reg = LinearRegression()\\n\\n# Build step forward feature selection\\nsfs = SFS(\\n    reg,\\n    k_features=30,\\n    forward=True,\\n    floating=False,\\n    scoring=\\\"r2\\\",\\n    n_jobs=-1,\\n    verbose=2,\\n    cv=5,\\n)\\n\\n# Perform SFFS\\nsfs = sfs.fit(x_train, y_train)\";\n",
       "                var nbb_formatted_code = \"reg = LinearRegression()\\n\\n# Build step forward feature selection\\nsfs = SFS(\\n    reg,\\n    k_features=30,\\n    forward=True,\\n    floating=False,\\n    scoring=\\\"r2\\\",\\n    n_jobs=-1,\\n    verbose=2,\\n    cv=5,\\n)\\n\\n# Perform SFFS\\nsfs = sfs.fit(x_train, y_train)\";\n",
       "                var nbb_cells = Jupyter.notebook.get_cells();\n",
       "                for (var i = 0; i < nbb_cells.length; ++i) {\n",
       "                    if (nbb_cells[i].input_prompt_number == nbb_cell_id) {\n",
       "                        if (nbb_cells[i].get_text() == nbb_unformatted_code) {\n",
       "                             nbb_cells[i].set_text(nbb_formatted_code);\n",
       "                        }\n",
       "                        break;\n",
       "                    }\n",
       "                }\n",
       "            }, 500);\n",
       "            "
      ],
      "text/plain": [
       "<IPython.core.display.Javascript object>"
      ]
     },
     "metadata": {},
     "output_type": "display_data"
    }
   ],
   "source": [
    "reg = LinearRegression()\n",
    "\n",
    "# Build step forward feature selection\n",
    "sfs = SFS(\n",
    "    reg,\n",
    "    k_features=30,\n",
    "    forward=True,\n",
    "    floating=False,\n",
    "    scoring=\"r2\",\n",
    "    n_jobs=-1,\n",
    "    verbose=2,\n",
    "    cv=5,\n",
    ")\n",
    "\n",
    "# Perform SFFS\n",
    "sfs = sfs.fit(x_train, y_train)"
   ]
  },
  {
   "cell_type": "code",
   "execution_count": 48,
   "metadata": {
    "id": "RRthzjjOqH_O",
    "outputId": "c240b1eb-b66d-4fcc-bc95-f6eef482cec0",
    "scrolled": true
   },
   "outputs": [
    {
     "name": "stdout",
     "output_type": "stream",
     "text": [
      "[1, 2, 3, 5, 8, 9, 10, 12, 13, 15, 18, 20, 21, 24, 25, 26, 27, 32, 37, 39, 40, 41, 43, 49, 51, 53, 58, 63, 67, 69]\n"
     ]
    },
    {
     "data": {
      "application/javascript": [
       "\n",
       "            setTimeout(function() {\n",
       "                var nbb_cell_id = 48;\n",
       "                var nbb_unformatted_code = \"# let us select the features which are important\\nfeat_cols = list(sfs.k_feature_idx_)\\nprint(feat_cols)\";\n",
       "                var nbb_formatted_code = \"# let us select the features which are important\\nfeat_cols = list(sfs.k_feature_idx_)\\nprint(feat_cols)\";\n",
       "                var nbb_cells = Jupyter.notebook.get_cells();\n",
       "                for (var i = 0; i < nbb_cells.length; ++i) {\n",
       "                    if (nbb_cells[i].input_prompt_number == nbb_cell_id) {\n",
       "                        if (nbb_cells[i].get_text() == nbb_unformatted_code) {\n",
       "                             nbb_cells[i].set_text(nbb_formatted_code);\n",
       "                        }\n",
       "                        break;\n",
       "                    }\n",
       "                }\n",
       "            }, 500);\n",
       "            "
      ],
      "text/plain": [
       "<IPython.core.display.Javascript object>"
      ]
     },
     "metadata": {},
     "output_type": "display_data"
    }
   ],
   "source": [
    "# let us select the features which are important\n",
    "feat_cols = list(sfs.k_feature_idx_)\n",
    "print(feat_cols)"
   ]
  },
  {
   "cell_type": "code",
   "execution_count": 49,
   "metadata": {
    "id": "z7U3DS_2qH_Q",
    "outputId": "71f329fb-e87a-4f09-c4a8-1065b096bebe",
    "scrolled": true
   },
   "outputs": [
    {
     "data": {
      "text/plain": [
       "Index(['duration', 'ongoing', 'years_running', 'contentWarn', 'wantWatch',\n",
       "       'dropped', 'tag_Based_on_a_Manga', 'tag_Action', 'tag_Fantasy',\n",
       "       'tag_Shounen', 'tag_Drama', 'tag_Family_Friendly', 'tag_Short_Episodes',\n",
       "       'tag_Shorts', 'tag_Slice_of_Life', 'tag_Seinen', 'tag_Supernatural',\n",
       "       'tag_Based_on_a_Light_Novel', 'mediaType_Movie', 'mediaType_OVA',\n",
       "       'mediaType_Other', 'mediaType_TV', 'mediaType_Web',\n",
       "       'studio_primary_AIC', 'studio_primary_DLE', 'studio_primary_J.C. Staff',\n",
       "       'studio_primary_Others', 'studio_primary_Studio Pierrot',\n",
       "       'studio_primary_Toei Animation', 'studio_primary_is_missing'],\n",
       "      dtype='object')"
      ]
     },
     "execution_count": 49,
     "metadata": {},
     "output_type": "execute_result"
    },
    {
     "data": {
      "application/javascript": [
       "\n",
       "            setTimeout(function() {\n",
       "                var nbb_cell_id = 49;\n",
       "                var nbb_unformatted_code = \"# let us look at the names of the important features\\nx_train.columns[feat_cols]\";\n",
       "                var nbb_formatted_code = \"# let us look at the names of the important features\\nx_train.columns[feat_cols]\";\n",
       "                var nbb_cells = Jupyter.notebook.get_cells();\n",
       "                for (var i = 0; i < nbb_cells.length; ++i) {\n",
       "                    if (nbb_cells[i].input_prompt_number == nbb_cell_id) {\n",
       "                        if (nbb_cells[i].get_text() == nbb_unformatted_code) {\n",
       "                             nbb_cells[i].set_text(nbb_formatted_code);\n",
       "                        }\n",
       "                        break;\n",
       "                    }\n",
       "                }\n",
       "            }, 500);\n",
       "            "
      ],
      "text/plain": [
       "<IPython.core.display.Javascript object>"
      ]
     },
     "metadata": {},
     "output_type": "display_data"
    }
   ],
   "source": [
    "# let us look at the names of the important features\n",
    "x_train.columns[feat_cols]"
   ]
  },
  {
   "cell_type": "markdown",
   "metadata": {
    "id": "KpUjOgOSqH_U"
   },
   "source": [
    "**Now we will fit an sklearn model using these features only.**"
   ]
  },
  {
   "cell_type": "code",
   "execution_count": 50,
   "metadata": {
    "id": "dQTigbMLqH_U"
   },
   "outputs": [
    {
     "data": {
      "application/javascript": [
       "\n",
       "            setTimeout(function() {\n",
       "                var nbb_cell_id = 50;\n",
       "                var nbb_unformatted_code = \"x_train_final = x_train[x_train.columns[feat_cols]]\";\n",
       "                var nbb_formatted_code = \"x_train_final = x_train[x_train.columns[feat_cols]]\";\n",
       "                var nbb_cells = Jupyter.notebook.get_cells();\n",
       "                for (var i = 0; i < nbb_cells.length; ++i) {\n",
       "                    if (nbb_cells[i].input_prompt_number == nbb_cell_id) {\n",
       "                        if (nbb_cells[i].get_text() == nbb_unformatted_code) {\n",
       "                             nbb_cells[i].set_text(nbb_formatted_code);\n",
       "                        }\n",
       "                        break;\n",
       "                    }\n",
       "                }\n",
       "            }, 500);\n",
       "            "
      ],
      "text/plain": [
       "<IPython.core.display.Javascript object>"
      ]
     },
     "metadata": {},
     "output_type": "display_data"
    }
   ],
   "source": [
    "x_train_final = x_train[x_train.columns[feat_cols]]"
   ]
  },
  {
   "cell_type": "code",
   "execution_count": 51,
   "metadata": {
    "id": "RzRo4ycBqH_Y"
   },
   "outputs": [
    {
     "data": {
      "application/javascript": [
       "\n",
       "            setTimeout(function() {\n",
       "                var nbb_cell_id = 51;\n",
       "                var nbb_unformatted_code = \"# Creating new x_test with the same 20 variables that we selected for x_train\\nx_test_final = x_test[x_train_final.columns]\";\n",
       "                var nbb_formatted_code = \"# Creating new x_test with the same 20 variables that we selected for x_train\\nx_test_final = x_test[x_train_final.columns]\";\n",
       "                var nbb_cells = Jupyter.notebook.get_cells();\n",
       "                for (var i = 0; i < nbb_cells.length; ++i) {\n",
       "                    if (nbb_cells[i].input_prompt_number == nbb_cell_id) {\n",
       "                        if (nbb_cells[i].get_text() == nbb_unformatted_code) {\n",
       "                             nbb_cells[i].set_text(nbb_formatted_code);\n",
       "                        }\n",
       "                        break;\n",
       "                    }\n",
       "                }\n",
       "            }, 500);\n",
       "            "
      ],
      "text/plain": [
       "<IPython.core.display.Javascript object>"
      ]
     },
     "metadata": {},
     "output_type": "display_data"
    }
   ],
   "source": [
    "# Creating new x_test with the same 20 variables that we selected for x_train\n",
    "x_test_final = x_test[x_train_final.columns]"
   ]
  },
  {
   "cell_type": "code",
   "execution_count": 52,
   "metadata": {
    "id": "JsGeSdCYqH_b",
    "outputId": "0a88d676-f7d3-48be-ebb3-13fc7af2d13e"
   },
   "outputs": [
    {
     "name": "stdout",
     "output_type": "stream",
     "text": [
      "                               Coefficients\n",
      "duration                           0.005215\n",
      "ongoing                            0.568973\n",
      "years_running                      0.027224\n",
      "contentWarn                       -0.220852\n",
      "wantWatch                          0.000184\n",
      "dropped                           -0.000373\n",
      "tag_Based_on_a_Manga               0.197253\n",
      "tag_Action                         0.101091\n",
      "tag_Fantasy                        0.171016\n",
      "tag_Shounen                        0.191480\n",
      "tag_Drama                          0.275360\n",
      "tag_Family_Friendly               -0.141726\n",
      "tag_Short_Episodes                -0.118410\n",
      "tag_Shorts                        -0.180022\n",
      "tag_Slice_of_Life                  0.218984\n",
      "tag_Seinen                         0.103978\n",
      "tag_Supernatural                   0.156922\n",
      "tag_Based_on_a_Light_Novel         0.361562\n",
      "mediaType_Movie                   -0.165296\n",
      "mediaType_OVA                     -0.187871\n",
      "mediaType_Other                   -0.130636\n",
      "mediaType_TV                      -0.293189\n",
      "mediaType_Web                     -0.117427\n",
      "studio_primary_AIC                -0.239948\n",
      "studio_primary_DLE                -0.875719\n",
      "studio_primary_J.C. Staff         -0.206513\n",
      "studio_primary_Others             -0.214010\n",
      "studio_primary_Studio Pierrot     -0.272329\n",
      "studio_primary_Toei Animation     -0.211341\n",
      "studio_primary_is_missing         -0.528086\n",
      "Intercept                          2.826622\n"
     ]
    },
    {
     "data": {
      "application/javascript": [
       "\n",
       "            setTimeout(function() {\n",
       "                var nbb_cell_id = 52;\n",
       "                var nbb_unformatted_code = \"# Fitting linear model\\nlin_reg_model2 = LinearRegression()\\nlin_reg_model2.fit(x_train_final, y_train)\\n\\n# let us check the coefficients and intercept of the model\\n\\ncoef_df = pd.DataFrame(\\n    np.append(lin_reg_model2.coef_.flatten(), lin_reg_model2.intercept_),\\n    index=x_train_final.columns.tolist() + [\\\"Intercept\\\"],\\n    columns=[\\\"Coefficients\\\"],\\n)\\nprint(coef_df)\";\n",
       "                var nbb_formatted_code = \"# Fitting linear model\\nlin_reg_model2 = LinearRegression()\\nlin_reg_model2.fit(x_train_final, y_train)\\n\\n# let us check the coefficients and intercept of the model\\n\\ncoef_df = pd.DataFrame(\\n    np.append(lin_reg_model2.coef_.flatten(), lin_reg_model2.intercept_),\\n    index=x_train_final.columns.tolist() + [\\\"Intercept\\\"],\\n    columns=[\\\"Coefficients\\\"],\\n)\\nprint(coef_df)\";\n",
       "                var nbb_cells = Jupyter.notebook.get_cells();\n",
       "                for (var i = 0; i < nbb_cells.length; ++i) {\n",
       "                    if (nbb_cells[i].input_prompt_number == nbb_cell_id) {\n",
       "                        if (nbb_cells[i].get_text() == nbb_unformatted_code) {\n",
       "                             nbb_cells[i].set_text(nbb_formatted_code);\n",
       "                        }\n",
       "                        break;\n",
       "                    }\n",
       "                }\n",
       "            }, 500);\n",
       "            "
      ],
      "text/plain": [
       "<IPython.core.display.Javascript object>"
      ]
     },
     "metadata": {},
     "output_type": "display_data"
    }
   ],
   "source": [
    "# Fitting linear model\n",
    "lin_reg_model2 = LinearRegression()\n",
    "lin_reg_model2.fit(x_train_final, y_train)\n",
    "\n",
    "# let us check the coefficients and intercept of the model\n",
    "\n",
    "coef_df = pd.DataFrame(\n",
    "    np.append(lin_reg_model2.coef_.flatten(), lin_reg_model2.intercept_),\n",
    "    index=x_train_final.columns.tolist() + [\"Intercept\"],\n",
    "    columns=[\"Coefficients\"],\n",
    ")\n",
    "print(coef_df)"
   ]
  },
  {
   "cell_type": "code",
   "execution_count": 53,
   "metadata": {
    "id": "B_H16aELqH_e",
    "outputId": "e3f731e5-e172-4b36-ec9a-f59d862705c3"
   },
   "outputs": [
    {
     "name": "stdout",
     "output_type": "stream",
     "text": [
      "Training Performance\n",
      "\n"
     ]
    },
    {
     "data": {
      "text/html": [
       "<div>\n",
       "<style scoped>\n",
       "    .dataframe tbody tr th:only-of-type {\n",
       "        vertical-align: middle;\n",
       "    }\n",
       "\n",
       "    .dataframe tbody tr th {\n",
       "        vertical-align: top;\n",
       "    }\n",
       "\n",
       "    .dataframe thead th {\n",
       "        text-align: right;\n",
       "    }\n",
       "</style>\n",
       "<table border=\"1\" class=\"dataframe\">\n",
       "  <thead>\n",
       "    <tr style=\"text-align: right;\">\n",
       "      <th></th>\n",
       "      <th>RMSE</th>\n",
       "      <th>MAE</th>\n",
       "      <th>R-squared</th>\n",
       "      <th>Adj. R-squared</th>\n",
       "    </tr>\n",
       "  </thead>\n",
       "  <tbody>\n",
       "    <tr>\n",
       "      <th>0</th>\n",
       "      <td>0.58345</td>\n",
       "      <td>0.472425</td>\n",
       "      <td>0.511254</td>\n",
       "      <td>0.508431</td>\n",
       "    </tr>\n",
       "  </tbody>\n",
       "</table>\n",
       "</div>"
      ],
      "text/plain": [
       "      RMSE       MAE  R-squared  Adj. R-squared\n",
       "0  0.58345  0.472425   0.511254        0.508431"
      ]
     },
     "execution_count": 53,
     "metadata": {},
     "output_type": "execute_result"
    },
    {
     "data": {
      "application/javascript": [
       "\n",
       "            setTimeout(function() {\n",
       "                var nbb_cell_id = 53;\n",
       "                var nbb_unformatted_code = \"# model performance on train set\\nprint(\\\"Training Performance\\\\n\\\")\\nlin_reg_model2_train_perf = model_performance_regression(\\n    lin_reg_model2, x_train_final, y_train\\n)\\nlin_reg_model2_train_perf\";\n",
       "                var nbb_formatted_code = \"# model performance on train set\\nprint(\\\"Training Performance\\\\n\\\")\\nlin_reg_model2_train_perf = model_performance_regression(\\n    lin_reg_model2, x_train_final, y_train\\n)\\nlin_reg_model2_train_perf\";\n",
       "                var nbb_cells = Jupyter.notebook.get_cells();\n",
       "                for (var i = 0; i < nbb_cells.length; ++i) {\n",
       "                    if (nbb_cells[i].input_prompt_number == nbb_cell_id) {\n",
       "                        if (nbb_cells[i].get_text() == nbb_unformatted_code) {\n",
       "                             nbb_cells[i].set_text(nbb_formatted_code);\n",
       "                        }\n",
       "                        break;\n",
       "                    }\n",
       "                }\n",
       "            }, 500);\n",
       "            "
      ],
      "text/plain": [
       "<IPython.core.display.Javascript object>"
      ]
     },
     "metadata": {},
     "output_type": "display_data"
    }
   ],
   "source": [
    "# model performance on train set\n",
    "print(\"Training Performance\\n\")\n",
    "lin_reg_model2_train_perf = model_performance_regression(\n",
    "    lin_reg_model2, x_train_final, y_train\n",
    ")\n",
    "lin_reg_model2_train_perf"
   ]
  },
  {
   "cell_type": "code",
   "execution_count": 54,
   "metadata": {},
   "outputs": [
    {
     "name": "stdout",
     "output_type": "stream",
     "text": [
      "Test Performance\n",
      "\n"
     ]
    },
    {
     "data": {
      "text/html": [
       "<div>\n",
       "<style scoped>\n",
       "    .dataframe tbody tr th:only-of-type {\n",
       "        vertical-align: middle;\n",
       "    }\n",
       "\n",
       "    .dataframe tbody tr th {\n",
       "        vertical-align: top;\n",
       "    }\n",
       "\n",
       "    .dataframe thead th {\n",
       "        text-align: right;\n",
       "    }\n",
       "</style>\n",
       "<table border=\"1\" class=\"dataframe\">\n",
       "  <thead>\n",
       "    <tr style=\"text-align: right;\">\n",
       "      <th></th>\n",
       "      <th>RMSE</th>\n",
       "      <th>MAE</th>\n",
       "      <th>R-squared</th>\n",
       "      <th>Adj. R-squared</th>\n",
       "    </tr>\n",
       "  </thead>\n",
       "  <tbody>\n",
       "    <tr>\n",
       "      <th>0</th>\n",
       "      <td>0.575555</td>\n",
       "      <td>0.469355</td>\n",
       "      <td>0.50467</td>\n",
       "      <td>0.497943</td>\n",
       "    </tr>\n",
       "  </tbody>\n",
       "</table>\n",
       "</div>"
      ],
      "text/plain": [
       "       RMSE       MAE  R-squared  Adj. R-squared\n",
       "0  0.575555  0.469355    0.50467        0.497943"
      ]
     },
     "execution_count": 54,
     "metadata": {},
     "output_type": "execute_result"
    },
    {
     "data": {
      "application/javascript": [
       "\n",
       "            setTimeout(function() {\n",
       "                var nbb_cell_id = 54;\n",
       "                var nbb_unformatted_code = \"# model performance on test set\\nprint(\\\"Test Performance\\\\n\\\")\\nlin_reg_model2_test_perf = model_performance_regression(\\n    lin_reg_model2, x_test_final, y_test\\n)\\nlin_reg_model2_test_perf\";\n",
       "                var nbb_formatted_code = \"# model performance on test set\\nprint(\\\"Test Performance\\\\n\\\")\\nlin_reg_model2_test_perf = model_performance_regression(\\n    lin_reg_model2, x_test_final, y_test\\n)\\nlin_reg_model2_test_perf\";\n",
       "                var nbb_cells = Jupyter.notebook.get_cells();\n",
       "                for (var i = 0; i < nbb_cells.length; ++i) {\n",
       "                    if (nbb_cells[i].input_prompt_number == nbb_cell_id) {\n",
       "                        if (nbb_cells[i].get_text() == nbb_unformatted_code) {\n",
       "                             nbb_cells[i].set_text(nbb_formatted_code);\n",
       "                        }\n",
       "                        break;\n",
       "                    }\n",
       "                }\n",
       "            }, 500);\n",
       "            "
      ],
      "text/plain": [
       "<IPython.core.display.Javascript object>"
      ]
     },
     "metadata": {},
     "output_type": "display_data"
    }
   ],
   "source": [
    "# model performance on test set\n",
    "print(\"Test Performance\\n\")\n",
    "lin_reg_model2_test_perf = model_performance_regression(\n",
    "    lin_reg_model2, x_test_final, y_test\n",
    ")\n",
    "lin_reg_model2_test_perf"
   ]
  },
  {
   "cell_type": "markdown",
   "metadata": {},
   "source": [
    "- The performance looks slightly worse than the previous model.\n",
    "- Let's compare the two models we built."
   ]
  },
  {
   "cell_type": "code",
   "execution_count": 55,
   "metadata": {},
   "outputs": [
    {
     "name": "stdout",
     "output_type": "stream",
     "text": [
      "Training performance comparison:\n"
     ]
    },
    {
     "data": {
      "text/html": [
       "<div>\n",
       "<style scoped>\n",
       "    .dataframe tbody tr th:only-of-type {\n",
       "        vertical-align: middle;\n",
       "    }\n",
       "\n",
       "    .dataframe tbody tr th {\n",
       "        vertical-align: top;\n",
       "    }\n",
       "\n",
       "    .dataframe thead th {\n",
       "        text-align: right;\n",
       "    }\n",
       "</style>\n",
       "<table border=\"1\" class=\"dataframe\">\n",
       "  <thead>\n",
       "    <tr style=\"text-align: right;\">\n",
       "      <th></th>\n",
       "      <th>Linear Regression sklearn</th>\n",
       "      <th>Linear Regression sklearn (SFS features)</th>\n",
       "    </tr>\n",
       "  </thead>\n",
       "  <tbody>\n",
       "    <tr>\n",
       "      <th>RMSE</th>\n",
       "      <td>0.579061</td>\n",
       "      <td>0.583450</td>\n",
       "    </tr>\n",
       "    <tr>\n",
       "      <th>MAE</th>\n",
       "      <td>0.468019</td>\n",
       "      <td>0.472425</td>\n",
       "    </tr>\n",
       "    <tr>\n",
       "      <th>R-squared</th>\n",
       "      <td>0.518580</td>\n",
       "      <td>0.511254</td>\n",
       "    </tr>\n",
       "    <tr>\n",
       "      <th>Adj. R-squared</th>\n",
       "      <td>0.512041</td>\n",
       "      <td>0.508431</td>\n",
       "    </tr>\n",
       "  </tbody>\n",
       "</table>\n",
       "</div>"
      ],
      "text/plain": [
       "                Linear Regression sklearn  \\\n",
       "RMSE                             0.579061   \n",
       "MAE                              0.468019   \n",
       "R-squared                        0.518580   \n",
       "Adj. R-squared                   0.512041   \n",
       "\n",
       "                Linear Regression sklearn (SFS features)  \n",
       "RMSE                                            0.583450  \n",
       "MAE                                             0.472425  \n",
       "R-squared                                       0.511254  \n",
       "Adj. R-squared                                  0.508431  "
      ]
     },
     "execution_count": 55,
     "metadata": {},
     "output_type": "execute_result"
    },
    {
     "data": {
      "application/javascript": [
       "\n",
       "            setTimeout(function() {\n",
       "                var nbb_cell_id = 55;\n",
       "                var nbb_unformatted_code = \"# training performance comparison\\n\\nmodels_train_comp_df = pd.concat(\\n    [lin_reg_model_train_perf.T, lin_reg_model2_train_perf.T],\\n    axis=1,\\n)\\n\\nmodels_train_comp_df.columns = [\\n    \\\"Linear Regression sklearn\\\",\\n    \\\"Linear Regression sklearn (SFS features)\\\",\\n]\\n\\nprint(\\\"Training performance comparison:\\\")\\nmodels_train_comp_df\";\n",
       "                var nbb_formatted_code = \"# training performance comparison\\n\\nmodels_train_comp_df = pd.concat(\\n    [lin_reg_model_train_perf.T, lin_reg_model2_train_perf.T],\\n    axis=1,\\n)\\n\\nmodels_train_comp_df.columns = [\\n    \\\"Linear Regression sklearn\\\",\\n    \\\"Linear Regression sklearn (SFS features)\\\",\\n]\\n\\nprint(\\\"Training performance comparison:\\\")\\nmodels_train_comp_df\";\n",
       "                var nbb_cells = Jupyter.notebook.get_cells();\n",
       "                for (var i = 0; i < nbb_cells.length; ++i) {\n",
       "                    if (nbb_cells[i].input_prompt_number == nbb_cell_id) {\n",
       "                        if (nbb_cells[i].get_text() == nbb_unformatted_code) {\n",
       "                             nbb_cells[i].set_text(nbb_formatted_code);\n",
       "                        }\n",
       "                        break;\n",
       "                    }\n",
       "                }\n",
       "            }, 500);\n",
       "            "
      ],
      "text/plain": [
       "<IPython.core.display.Javascript object>"
      ]
     },
     "metadata": {},
     "output_type": "display_data"
    }
   ],
   "source": [
    "# training performance comparison\n",
    "\n",
    "models_train_comp_df = pd.concat(\n",
    "    [lin_reg_model_train_perf.T, lin_reg_model2_train_perf.T],\n",
    "    axis=1,\n",
    ")\n",
    "\n",
    "models_train_comp_df.columns = [\n",
    "    \"Linear Regression sklearn\",\n",
    "    \"Linear Regression sklearn (SFS features)\",\n",
    "]\n",
    "\n",
    "print(\"Training performance comparison:\")\n",
    "models_train_comp_df"
   ]
  },
  {
   "cell_type": "code",
   "execution_count": 56,
   "metadata": {},
   "outputs": [
    {
     "name": "stdout",
     "output_type": "stream",
     "text": [
      "Test performance comparison:\n"
     ]
    },
    {
     "data": {
      "text/html": [
       "<div>\n",
       "<style scoped>\n",
       "    .dataframe tbody tr th:only-of-type {\n",
       "        vertical-align: middle;\n",
       "    }\n",
       "\n",
       "    .dataframe tbody tr th {\n",
       "        vertical-align: top;\n",
       "    }\n",
       "\n",
       "    .dataframe thead th {\n",
       "        text-align: right;\n",
       "    }\n",
       "</style>\n",
       "<table border=\"1\" class=\"dataframe\">\n",
       "  <thead>\n",
       "    <tr style=\"text-align: right;\">\n",
       "      <th></th>\n",
       "      <th>Linear Regression sklearn</th>\n",
       "      <th>Linear Regression sklearn (SFS features)</th>\n",
       "    </tr>\n",
       "  </thead>\n",
       "  <tbody>\n",
       "    <tr>\n",
       "      <th>RMSE</th>\n",
       "      <td>0.571535</td>\n",
       "      <td>0.575555</td>\n",
       "    </tr>\n",
       "    <tr>\n",
       "      <th>MAE</th>\n",
       "      <td>0.464794</td>\n",
       "      <td>0.469355</td>\n",
       "    </tr>\n",
       "    <tr>\n",
       "      <th>R-squared</th>\n",
       "      <td>0.511565</td>\n",
       "      <td>0.504670</td>\n",
       "    </tr>\n",
       "    <tr>\n",
       "      <th>Adj. R-squared</th>\n",
       "      <td>0.495802</td>\n",
       "      <td>0.497943</td>\n",
       "    </tr>\n",
       "  </tbody>\n",
       "</table>\n",
       "</div>"
      ],
      "text/plain": [
       "                Linear Regression sklearn  \\\n",
       "RMSE                             0.571535   \n",
       "MAE                              0.464794   \n",
       "R-squared                        0.511565   \n",
       "Adj. R-squared                   0.495802   \n",
       "\n",
       "                Linear Regression sklearn (SFS features)  \n",
       "RMSE                                            0.575555  \n",
       "MAE                                             0.469355  \n",
       "R-squared                                       0.504670  \n",
       "Adj. R-squared                                  0.497943  "
      ]
     },
     "execution_count": 56,
     "metadata": {},
     "output_type": "execute_result"
    },
    {
     "data": {
      "application/javascript": [
       "\n",
       "            setTimeout(function() {\n",
       "                var nbb_cell_id = 56;\n",
       "                var nbb_unformatted_code = \"# test performance comparison\\n\\nmodels_test_comp_df = pd.concat(\\n    [lin_reg_model_test_perf.T, lin_reg_model2_test_perf.T],\\n    axis=1,\\n)\\n\\nmodels_test_comp_df.columns = [\\n    \\\"Linear Regression sklearn\\\",\\n    \\\"Linear Regression sklearn (SFS features)\\\",\\n]\\n\\nprint(\\\"Test performance comparison:\\\")\\nmodels_test_comp_df\";\n",
       "                var nbb_formatted_code = \"# test performance comparison\\n\\nmodels_test_comp_df = pd.concat(\\n    [lin_reg_model_test_perf.T, lin_reg_model2_test_perf.T],\\n    axis=1,\\n)\\n\\nmodels_test_comp_df.columns = [\\n    \\\"Linear Regression sklearn\\\",\\n    \\\"Linear Regression sklearn (SFS features)\\\",\\n]\\n\\nprint(\\\"Test performance comparison:\\\")\\nmodels_test_comp_df\";\n",
       "                var nbb_cells = Jupyter.notebook.get_cells();\n",
       "                for (var i = 0; i < nbb_cells.length; ++i) {\n",
       "                    if (nbb_cells[i].input_prompt_number == nbb_cell_id) {\n",
       "                        if (nbb_cells[i].get_text() == nbb_unformatted_code) {\n",
       "                             nbb_cells[i].set_text(nbb_formatted_code);\n",
       "                        }\n",
       "                        break;\n",
       "                    }\n",
       "                }\n",
       "            }, 500);\n",
       "            "
      ],
      "text/plain": [
       "<IPython.core.display.Javascript object>"
      ]
     },
     "metadata": {},
     "output_type": "display_data"
    }
   ],
   "source": [
    "# test performance comparison\n",
    "\n",
    "models_test_comp_df = pd.concat(\n",
    "    [lin_reg_model_test_perf.T, lin_reg_model2_test_perf.T],\n",
    "    axis=1,\n",
    ")\n",
    "\n",
    "models_test_comp_df.columns = [\n",
    "    \"Linear Regression sklearn\",\n",
    "    \"Linear Regression sklearn (SFS features)\",\n",
    "]\n",
    "\n",
    "print(\"Test performance comparison:\")\n",
    "models_test_comp_df"
   ]
  },
  {
   "cell_type": "markdown",
   "metadata": {},
   "source": [
    "* The new model (*lin_reg_model2*) uses less than half the number of features as the previous model (*lin_reg_model*).\n",
    "* The performance of the new model, however, is close to our previous model.\n",
    "* Depending upon time sensitivity and storage restrictions, we can choose between the models.\n",
    "* **We will be moving forward with *lin_reg_model* as it shows better performance.**"
   ]
  },
  {
   "cell_type": "markdown",
   "metadata": {},
   "source": [
    "## Conclusions"
   ]
  },
  {
   "cell_type": "markdown",
   "metadata": {},
   "source": [
    "- We have been able to build a predictive model that can be used by Streamist to predict the rating of an anime with an $R^2$ of 0.51 on the training set.\n",
    "\n",
    "\n",
    "- Streamist can use this model to predict the anime ratings within a mean error of 0.47\n",
    "\n",
    "\n",
    "- We found that the number of episodes in the anime, the duration of each episode, and whether or not an anime is ongoing are some of the factors which tend to increase the rating of an anime.\n",
    "\n",
    "\n",
    "- We found that content warnings and the number of people who dropped watching the anime before completion are some of the factors which tend to decrease the rating of an anime.\n",
    "\n",
    "\n",
    "- We can also explore improving the linear model by applying non-linear transformations to some of the attributes. This might help us better identify the patterns in the data to predict the anime ratings more accurately."
   ]
  },
  {
   "cell_type": "markdown",
   "metadata": {},
   "source": [
    "## In the next session, we will introduce the raw and messier version of this data to demonstrate the steps involved in building a predictive model from raw data."
   ]
  }
 ],
 "metadata": {
  "colab": {
   "collapsed_sections": [],
   "name": "final_MLS_case_study_WHO.ipynb",
   "provenance": []
  },
  "kernelspec": {
   "display_name": "Python 3",
   "language": "python",
   "name": "python3"
  },
  "language_info": {
   "codemirror_mode": {
    "name": "ipython",
    "version": 3
   },
   "file_extension": ".py",
   "mimetype": "text/x-python",
   "name": "python",
   "nbconvert_exporter": "python",
   "pygments_lexer": "ipython3",
   "version": "3.7.4"
  },
  "toc": {
   "base_numbering": 1,
   "nav_menu": {},
   "number_sections": true,
   "sideBar": true,
   "skip_h1_title": false,
   "title_cell": "Table of Contents",
   "title_sidebar": "Contents",
   "toc_cell": false,
   "toc_position": {},
   "toc_section_display": true,
   "toc_window_display": false
  }
 },
 "nbformat": 4,
 "nbformat_minor": 1
}
