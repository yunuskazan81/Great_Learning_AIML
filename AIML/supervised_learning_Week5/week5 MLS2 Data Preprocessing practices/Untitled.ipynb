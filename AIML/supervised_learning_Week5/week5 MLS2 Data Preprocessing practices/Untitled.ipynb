{
 "cells": [
  {
   "cell_type": "code",
   "execution_count": 1,
   "metadata": {},
   "outputs": [
    {
     "name": "stdout",
     "output_type": "stream",
     "text": [
      "Collecting trulens\n",
      "  Downloading https://files.pythonhosted.org/packages/ac/be/94a834d5262eb22fca0dbb42b7251c0b0169faedf67513a9ed3379348fc5/trulens-0.0.7-py3-none-any.whl (67kB)\n",
      "Installing collected packages: trulens\n",
      "Successfully installed trulens-0.0.7\n"
     ]
    }
   ],
   "source": [
    "!pip install trulens\n"
   ]
  },
  {
   "cell_type": "code",
   "execution_count": null,
   "metadata": {},
   "outputs": [],
   "source": []
  }
 ],
 "metadata": {
  "kernelspec": {
   "display_name": "Python 3",
   "language": "python",
   "name": "python3"
  },
  "language_info": {
   "codemirror_mode": {
    "name": "ipython",
    "version": 3
   },
   "file_extension": ".py",
   "mimetype": "text/x-python",
   "name": "python",
   "nbconvert_exporter": "python",
   "pygments_lexer": "ipython3",
   "version": "3.7.4"
  }
 },
 "nbformat": 4,
 "nbformat_minor": 2
}
